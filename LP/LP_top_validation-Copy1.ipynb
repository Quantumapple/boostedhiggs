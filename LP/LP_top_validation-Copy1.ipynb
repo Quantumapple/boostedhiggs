{
 "cells": [
  {
   "cell_type": "markdown",
   "id": "9a15111e",
   "metadata": {},
   "source": [
    "This script is used to validate the tagger SF and uncertainty on the ttbar-semileptonic sample."
   ]
  },
  {
   "cell_type": "code",
   "execution_count": 1,
   "id": "42ecb36b",
   "metadata": {},
   "outputs": [],
   "source": [
    "import os\n",
    "import json\n",
    "import pickle\n",
    "import yaml\n",
    "import math\n",
    "import glob\n",
    "\n",
    "import numpy as np\n",
    "import pandas as pd\n",
    "pd.options.mode.chained_assignment = None\n",
    "import pyarrow.parquet as pq\n",
    "from sklearn.metrics import auc, roc_curve\n",
    "from scipy.special import softmax\n",
    "\n",
    "import hist as hist2\n",
    "import matplotlib.pyplot as plt\n",
    "import mplhep as hep\n",
    "\n",
    "plt.style.use(hep.style.CMS)\n",
    "\n",
    "import sys\n",
    "sys.path\n",
    "sys.path.append(\"../python/\")\n",
    "\n",
    "import utils\n",
    "\n",
    "plt.rcParams.update({\"font.size\": 20})\n",
    "\n",
    "import json\n",
    "import pickle as pkl\n",
    "import warnings\n",
    "from typing import List\n",
    "\n",
    "import numpy as np\n",
    "import scipy\n",
    "from hist import Hist\n",
    "\n",
    "def get_finetuned_score(data, model_path):\n",
    "    import onnx\n",
    "    import onnxruntime as ort\n",
    "\n",
    "    input_dict = {\n",
    "        \"highlevel\": data.loc[:, \"fj_ParT_hidNeuron000\":\"fj_ParT_hidNeuron127\"].values.astype(\"float32\"),\n",
    "    }\n",
    "\n",
    "    onnx_model = onnx.load(model_path)\n",
    "    onnx.checker.check_model(onnx_model)\n",
    "\n",
    "    ort_sess = ort.InferenceSession(\n",
    "        model_path,\n",
    "        providers=[\"AzureExecutionProvider\"],\n",
    "    )\n",
    "    outputs = ort_sess.run(None, input_dict)\n",
    "\n",
    "    return scipy.special.softmax(outputs[0], axis=1)[:, 0]"
   ]
  },
  {
   "cell_type": "code",
   "execution_count": 2,
   "id": "9c99aad6",
   "metadata": {
    "scrolled": true
   },
   "outputs": [],
   "source": [
    "%load_ext autoreload\n",
    "%autoreload 2\n",
    "%reload_ext autoreload"
   ]
  },
  {
   "cell_type": "code",
   "execution_count": 3,
   "id": "99e9e214",
   "metadata": {},
   "outputs": [
    {
     "name": "stdout",
     "output_type": "stream",
     "text": [
      "\u001b[34mGluGluHToWWToLNuQQ_M-125_TuneCP5_13TeV_powheg_jhugen751_pythia8\u001b[m\u001b[m\r\n",
      "\u001b[34mGluGluHToWW_Pt-200ToInf_M-125\u001b[m\u001b[m\r\n",
      "\u001b[34mHWminusJ_HToWW_M-125\u001b[m\u001b[m\r\n",
      "\u001b[34mHWplusJ_HToWW_M-125\u001b[m\u001b[m\r\n",
      "\u001b[34mHZJ_HToWW_M-125\u001b[m\u001b[m\r\n",
      "\u001b[34mTTTo2L2Nu\u001b[m\u001b[m\r\n",
      "\u001b[34mTTToHadronic\u001b[m\u001b[m\r\n",
      "\u001b[34mTTToSemiLeptonic\u001b[m\u001b[m\r\n",
      "\u001b[34mVBFHToWWToAny_M-125_TuneCP5_withDipoleRecoil\u001b[m\u001b[m\r\n",
      "\u001b[34mttHToNonbb_M125\u001b[m\u001b[m\r\n"
     ]
    }
   ],
   "source": [
    "! ls ../eos/Oct16_LP_2018"
   ]
  },
  {
   "cell_type": "code",
   "execution_count": 4,
   "id": "65597404",
   "metadata": {},
   "outputs": [],
   "source": [
    " # define your regions here\n",
    "presel = {\n",
    "        \"mu\": {\n",
    "            \"lepmiso\": \"(lep_pt<55) | ( (lep_pt>=55) & (lep_misolation<0.8))\",   # needed for the fakes            \n",
    "\n",
    "#             \"jetvetomap\": \"jetvetomap==1\",\n",
    "#             \"msoftdrop\": \"fj_mass>30\",\n",
    "            \"msoftdrop\": \"fj_mass>40\",\n",
    "            \"THWW\": \"THWW>0.75\",\n",
    "            \n",
    "#             \"tagger>0.50\": \"THWW<0.5\",\n",
    "#             \"FakeValidation\": \"fj_mass>30 & fj_mass<40\",\n",
    "#             \"msoftdrop\": \"fj_mass<40\",\n",
    "#             \"met\": \"met_pt>20\",\n",
    "\n",
    "#             \"bveto\": \"n_bjets_T>0\",\n",
    "        },\n",
    "        \"ele\": {\n",
    "\n",
    "#             \"jetvetomap\": \"jetvetomap==1\",            \n",
    "#             \"msoftdrop\": \"fj_mass>30\",\n",
    "            \"msoftdrop\": \"fj_mass>40\",\n",
    "            \"THWW\": \"THWW>0.75\",\n",
    "\n",
    "#             \"tagger>0.50\": \"THWW<0.5\",\n",
    "#             \"FakeValidation\": \"fj_mass>30 & fj_mass<40\",\n",
    "#             \"met\": \"met_pt>20\",\n",
    "#             \"lepmiso\": \"(lep_pt<120) | ( (lep_pt>120) & (lep_misolation<0.02))\",\n",
    "#             \"bveto\": \"n_bjets_T>0\",\n",
    "        },\n",
    "}\n",
    "\n",
    "samples = [\n",
    "    \"TTbar\",\n",
    "]\n",
    "\n",
    "channels = [\n",
    "    \"ele\",\n",
    "    \"mu\",\n",
    "]\n",
    "\n",
    "years = [\n",
    "#     \"2016\",\n",
    "#     \"2016APV\",\n",
    "    \"2017\",\n",
    "    \"2018\",\n",
    "]"
   ]
  },
  {
   "cell_type": "code",
   "execution_count": 5,
   "id": "1394918e",
   "metadata": {},
   "outputs": [],
   "source": [
    "events_dict = {}"
   ]
  },
  {
   "cell_type": "code",
   "execution_count": 6,
   "id": "9fea58d4",
   "metadata": {},
   "outputs": [
    {
     "name": "stderr",
     "output_type": "stream",
     "text": [
      "INFO:root:Finding TTToSemiLeptonic samples and should combine them under TTbar\n",
      "INFO:root:Applying msoftdrop selection on 354475 events\n",
      "INFO:root:Applying THWW selection on 336728 events\n",
      "INFO:root:Will fill the TTbar dataframe with the remaining 3550 events\n",
      "INFO:root:tot event weight 389.7566524285163 \n",
      "\n",
      "INFO:root:Finding TTTo2L2Nu samples and should combine them under TTbar\n",
      "INFO:root:Applying msoftdrop selection on 135201 events\n",
      "INFO:root:Applying THWW selection on 128150 events\n",
      "INFO:root:Will fill the TTbar dataframe with the remaining 741 events\n",
      "INFO:root:tot event weight 23.7290751213799 \n",
      "\n",
      "INFO:root:Finding TTToHadronic samples and should combine them under TTbar\n",
      "INFO:root:Applying msoftdrop selection on 646 events\n",
      "INFO:root:Applying THWW selection on 602 events\n",
      "INFO:root:Will fill the TTbar dataframe with the remaining 16 events\n",
      "INFO:root:tot event weight 2.1783091284634986 \n",
      "\n",
      "INFO:root:Finding TTToSemiLeptonic samples and should combine them under TTbar\n",
      "INFO:root:Applying lepmiso selection on 407264 events\n",
      "INFO:root:Applying msoftdrop selection on 407264 events\n",
      "INFO:root:Applying THWW selection on 380223 events\n",
      "INFO:root:Will fill the TTbar dataframe with the remaining 4037 events\n",
      "INFO:root:tot event weight 430.6363466793832 \n",
      "\n",
      "INFO:root:Finding TTTo2L2Nu samples and should combine them under TTbar\n",
      "INFO:root:Applying lepmiso selection on 114380 events\n",
      "INFO:root:Applying msoftdrop selection on 114380 events\n",
      "INFO:root:Applying THWW selection on 106532 events\n",
      "INFO:root:Will fill the TTbar dataframe with the remaining 625 events\n",
      "INFO:root:tot event weight 19.24090957019996 \n",
      "\n",
      "INFO:root:Finding TTToHadronic samples and should combine them under TTbar\n",
      "INFO:root:Applying lepmiso selection on 3412 events\n",
      "INFO:root:Applying msoftdrop selection on 3412 events\n",
      "INFO:root:Applying THWW selection on 3226 events\n",
      "INFO:root:Will fill the TTbar dataframe with the remaining 17 events\n",
      "INFO:root:tot event weight 2.2774831089759804 \n",
      "\n",
      "INFO:root:Finding TTToSemiLeptonic samples and should combine them under TTbar\n",
      "INFO:root:Applying msoftdrop selection on 356603 events\n",
      "INFO:root:Applying THWW selection on 339347 events\n",
      "INFO:root:Will fill the TTbar dataframe with the remaining 3623 events\n",
      "INFO:root:tot event weight 575.1976176624939 \n",
      "\n",
      "INFO:root:Finding TTTo2L2Nu samples and should combine them under TTbar\n",
      "INFO:root:Applying msoftdrop selection on 128501 events\n",
      "INFO:root:Applying THWW selection on 122129 events\n",
      "INFO:root:Will fill the TTbar dataframe with the remaining 742 events\n",
      "INFO:root:tot event weight 35.44991678267418 \n",
      "\n",
      "INFO:root:Finding TTToHadronic samples and should combine them under TTbar\n",
      "INFO:root:Applying msoftdrop selection on 652 events\n",
      "INFO:root:Applying THWW selection on 594 events\n",
      "INFO:root:Will fill the TTbar dataframe with the remaining 10 events\n",
      "INFO:root:tot event weight 2.1768151783045244 \n",
      "\n",
      "INFO:root:Finding TTToSemiLeptonic samples and should combine them under TTbar\n",
      "INFO:root:Applying lepmiso selection on 402515 events\n",
      "INFO:root:Applying msoftdrop selection on 402515 events\n",
      "INFO:root:Applying THWW selection on 376212 events\n",
      "INFO:root:Will fill the TTbar dataframe with the remaining 4244 events\n",
      "INFO:root:tot event weight 667.0126290196217 \n",
      "\n",
      "INFO:root:Finding TTTo2L2Nu samples and should combine them under TTbar\n",
      "INFO:root:Applying lepmiso selection on 109127 events\n",
      "INFO:root:Applying msoftdrop selection on 109127 events\n",
      "INFO:root:Applying THWW selection on 101815 events\n",
      "INFO:root:Will fill the TTbar dataframe with the remaining 608 events\n",
      "INFO:root:tot event weight 28.669486273438658 \n",
      "\n",
      "INFO:root:Finding TTToHadronic samples and should combine them under TTbar\n",
      "INFO:root:Applying lepmiso selection on 3327 events\n",
      "INFO:root:Applying msoftdrop selection on 3327 events\n",
      "INFO:root:Applying THWW selection on 3177 events\n",
      "INFO:root:Will fill the TTbar dataframe with the remaining 26 events\n",
      "INFO:root:tot event weight 4.829158642972034 \n",
      "\n"
     ]
    }
   ],
   "source": [
    "samples_dir = {\n",
    "    \"2016\":    \"../eos/Oct16_LP_2016\",\n",
    "    \"2016APV\": \"../eos/Oct16_LP_2016APV\",\n",
    "    \"2017\":    \"../eos/Oct16_LP_2017\",\n",
    "    \"2018\":    \"../eos/Oct16_LP_2018\",\n",
    "}\n",
    "\n",
    "THWW_path = \"../../weaver-core-dev/experiments_finetuning/v35_30/model.onnx\"\n",
    "\n",
    "sys.path.append(\"../python\")\n",
    "from make_stacked_hists import make_events_dict\n",
    "\n",
    "events_dict = make_events_dict(years, channels, samples_dir, samples, presel, THWW_path)"
   ]
  },
  {
   "cell_type": "code",
   "execution_count": 169,
   "id": "1c07874b",
   "metadata": {},
   "outputs": [],
   "source": [
    "channels = [\n",
    "    \"ele\",\n",
    "    \"mu\",\n",
    "]\n",
    "\n",
    "years = [\n",
    "#     \"2016\",\n",
    "#     \"2016APV\",\n",
    "    \"2017\",\n",
    "    \"2018\",\n",
    "]"
   ]
  },
  {
   "cell_type": "code",
   "execution_count": 7,
   "id": "9c01ea05",
   "metadata": {
    "scrolled": false
   },
   "outputs": [
    {
     "name": "stdout",
     "output_type": "stream",
     "text": [
      "is_top_l:  668\n",
      "is_top_lq:  480\n",
      "is_top_lqq:  1179\n",
      "is_top_lb:  1424\n",
      "is_top_lbq:  564\n",
      "is_top_lbqq:  60\n"
     ]
    },
    {
     "data": {
      "image/png": "[encoded data removed]",
      "text/plain": [
       "<Figure size 1000x800 with 1 Axes>"
      ]
     },
     "metadata": {},
     "output_type": "display_data"
    }
   ],
   "source": [
    "year = \"2018\"\n",
    "ch = \"ele\"\n",
    "\n",
    "df = events_dict[year][ch][\"TTbar\"]\n",
    "\n",
    "is_top_l = (df[\"fj_Top_nquarksnob\"]==0) & (df[\"fj_Top_nbquarks\"]==0)\n",
    "\n",
    "is_top_lq = (df[\"fj_Top_nquarksnob\"]==1) & (df[\"fj_Top_nbquarks\"]==0)\n",
    "is_top_lqq = (df[\"fj_Top_nquarksnob\"]==2) & (df[\"fj_Top_nbquarks\"]==0)\n",
    "\n",
    "is_top_lb = (df[\"fj_Top_nquarksnob\"]==0) & (df[\"fj_Top_nbquarks\"]>=1)\n",
    "is_top_lbq = (df[\"fj_Top_nquarksnob\"]==1) & (df[\"fj_Top_nbquarks\"]>=1)\n",
    "is_top_lbqq = (df[\"fj_Top_nquarksnob\"]==2) & (df[\"fj_Top_nbquarks\"]>=1)\n",
    "\n",
    "print(\"is_top_l: \", is_top_l.sum())\n",
    "print(\"is_top_lq: \", is_top_lq.sum())\n",
    "print(\"is_top_lqq: \", is_top_lqq.sum())\n",
    "print(\"is_top_lb: \", is_top_lb.sum())\n",
    "print(\"is_top_lbq: \", is_top_lbq.sum())\n",
    "print(\"is_top_lbqq: \", is_top_lbqq.sum())\n",
    "\n",
    "%matplotlib inline\n",
    "plt.rcParams.update({\"font.size\": 20})\n",
    "\n",
    "color_by_sample = {\n",
    "    0: \"yellow\", \n",
    "    1: \"tab:blue\",\n",
    "    2: \"tab:orange\",\n",
    "    3: \"tab:green\",\n",
    "    4: \"tab:red\",\n",
    "    5: \"tab:grey\",\n",
    "}\n",
    "\n",
    "regions = {\n",
    "    \"Pre-selection \\n (no tagger cut)\": 0,\n",
    "    \"Pre-selection \\n (THWW>0.75)\": 0.75,\n",
    "    \"Signal Region \\n (THWW>0.9)\": 0.9,\n",
    "}\n",
    "\n",
    "# samples = np.unique(df[\"fj_Top_nquarksnob\"], return_counts=True)[0]\n",
    "samples = range(6)\n",
    "\n",
    "bar_width = 0.1\n",
    "\n",
    "fig, ax = plt.subplots(figsize=(10, 8))\n",
    "\n",
    "for iregion, (region, cut) in enumerate(regions.items()):\n",
    "\n",
    "    for i, (key, var) in enumerate(\n",
    "        {\n",
    "            r\"$t^{\\ell}$\": is_top_l,\n",
    "            r\"$t^{{\\ell}q}$\": is_top_lq,\n",
    "            r\"$t^{{\\ell}qq}$\": is_top_lqq,\n",
    "            r\"$t^{{\\ell}b}$\": is_top_lb,\n",
    "            r\"$t^{{\\ell}bq}$\": is_top_lbq,\n",
    "            r\"$t^{{\\ell}bqq}$\": is_top_lbqq,\n",
    "        }.items()\n",
    "    ):\n",
    "\n",
    "        X = 100 * (var & (df[\"THWW\"]>cut)).sum() / sum(df[\"THWW\"]>cut)\n",
    "        bars = ax.bar(\n",
    "            iregion + i * bar_width, \n",
    "            X, \n",
    "            bar_width, \n",
    "            color=color_by_sample[i],\n",
    "            label=key,\n",
    "            alpha=0.9,\n",
    "        )\n",
    "        ax.axhline(y=0, color='black', linestyle='--')\n",
    "\n",
    "# Customize ticks and labels\n",
    "#     ax.set_yticks(np.arange(-2, 3, 1))\n",
    "# ax.set_ylim(-2.5, 2.5)\n",
    "\n",
    "# Adjust the number of x-tick labels to match the number of groups\n",
    "plt.xticks(np.arange(len(regions)) + bar_width * 2, regions, rotation=45)\n",
    "\n",
    "# Add a legend\n",
    "handles, labels = ax.get_legend_handles_labels()[0][:len(samples)], ax.get_legend_handles_labels()[1][:len(samples)]\n",
    "ax.legend(handles, labels, loc='upper right')\n",
    "\n",
    "ax.set_title(\"TTbar semi-leptonic events\", pad=17)\n",
    "ax.set_ylabel(\"Events [%]\")\n",
    "\n",
    "plt.tight_layout()\n",
    "plt.savefig(f\"/Users/fmokhtar/Desktop/AN_2024/LP/LP_mquarks_TTbar.pdf\")    "
   ]
  },
  {
   "cell_type": "code",
   "execution_count": 8,
   "id": "cc559833",
   "metadata": {
    "scrolled": false
   },
   "outputs": [
    {
     "name": "stdout",
     "output_type": "stream",
     "text": [
      "fj_isTop\n",
      "fj_isTop_matched\n",
      "fj_isTop_W_lep_b\n",
      "fj_isTop_W_lep\n",
      "fj_isTop_W_ele_b\n",
      "fj_isTop_W_ele\n",
      "fj_isTop_W_mu_b\n",
      "fj_isTop_W_mu\n",
      "fj_isTop_W_tau_b\n",
      "fj_isTop_W_tau\n"
     ]
    }
   ],
   "source": [
    "for key in df:\n",
    "    if \"isT\" in key:\n",
    "        print(key)"
   ]
  },
  {
   "cell_type": "markdown",
   "id": "07224846",
   "metadata": {},
   "source": [
    "## Retrieve the pfcands, genquark, and ak8 jet info"
   ]
  },
  {
   "cell_type": "code",
   "execution_count": 172,
   "id": "d4f40118",
   "metadata": {},
   "outputs": [
    {
     "name": "stdout",
     "output_type": "stream",
     "text": [
      "is_top_l:  38032\n",
      "is_top_lb:  405840\n",
      "is_top_lbq:  27657\n",
      "is_top_lbqq:  4794\n",
      "is_top_lq:  9615\n",
      "is_top_lqq:  3976\n"
     ]
    }
   ],
   "source": [
    "for year in years:\n",
    "    for ch in channels:\n",
    "df = events_dict[year][ch][\"TTbar\"]\n",
    "\n",
    "# mask top if you want\n",
    "\n",
    "is_top_l = (df[\"fj_Top_nquarksnob\"]==0) & (df[\"fj_Top_nbquarks\"]==0)\n",
    "\n",
    "is_top_lb = (df[\"fj_Top_nquarksnob\"]==0) & (df[\"fj_Top_nbquarks\"]>=1)\n",
    "is_top_lbq = (df[\"fj_Top_nquarksnob\"]==1) & (df[\"fj_Top_nbquarks\"]>=1)\n",
    "is_top_lbqq = (df[\"fj_Top_nquarksnob\"]==2) & (df[\"fj_Top_nbquarks\"]>=1)\n",
    "\n",
    "is_top_lq = (df[\"fj_Top_nquarksnob\"]==1) & (df[\"fj_Top_nbquarks\"]==0)\n",
    "is_top_lqq = (df[\"fj_Top_nquarksnob\"]==2) & (df[\"fj_Top_nbquarks\"]==0)\n",
    "    \n",
    "print(\"is_top_l: \", is_top_l.sum())\n",
    "print(\"is_top_lb: \", is_top_lb.sum())\n",
    "print(\"is_top_lbq: \", is_top_lbq.sum())\n",
    "print(\"is_top_lbqq: \", is_top_lbqq.sum())\n",
    "print(\"is_top_lq: \", is_top_lq.sum())\n",
    "print(\"is_top_lqq: \", is_top_lqq.sum())\n",
    "\n",
    "# df = df[is_top_lqq | is_top_lq]\n",
    "# df = df[is_top_lbqq | is_top_lbq]\n",
    "# df = df[is_top_lqq | is_top_lq | is_top_lbq]\n",
    "msk = is_top_lqq | is_top_lq\n",
    "df = df[msk]"
   ]
  },
  {
   "cell_type": "code",
   "execution_count": 173,
   "id": "255ddc18",
   "metadata": {},
   "outputs": [
    {
     "name": "stdout",
     "output_type": "stream",
     "text": [
      "pf_cands (13591, 150, 4)\n",
      "ak8_jets (13591, 4)\n",
      "gen_parts_eta_phi (13591, 2, 2)  (# events, # quarks, eta&phi)\n",
      "bgen_parts_eta_phi (13591, 2, 2)  (# events, # quarks, eta&phi)\n"
     ]
    }
   ],
   "source": [
    "# (1) PFcands\n",
    "\n",
    "pxs = df.loc[:,df.columns.str.contains(\"LP_pfcand\") & df.columns.str.contains(\"px\")].values\n",
    "pys = df.loc[:,df.columns.str.contains(\"LP_pfcand\") & df.columns.str.contains(\"py\")].values\n",
    "pzs = df.loc[:,df.columns.str.contains(\"LP_pfcand\") & df.columns.str.contains(\"pz\")].values\n",
    "Es = df.loc[:,df.columns.str.contains(\"LP_pfcand\") & df.columns.str.contains(\"energy\")].values\n",
    "\n",
    "pf_cands = np.stack([pxs,pys,pzs,Es], axis=-1)\n",
    "\n",
    "print(\"pf_cands\", pf_cands.shape)\n",
    "\n",
    "# (2) ak8 jet, and the THWW score\n",
    "\n",
    "ak8_jets = np.stack([df[\"LP_fj_pt\"].values, df[\"LP_fj_eta\"].values, df[\"LP_fj_phi\"].values, df[\"LP_fj_mass\"].values], axis=-1)\n",
    "print(\"ak8_jets\", ak8_jets.shape)\n",
    "\n",
    "# print(\"THWW\", df[\"THWW\"].shape)\n",
    "\n",
    "# (3) genQuarks\n",
    "\n",
    "etas = df.loc[:,df.columns.str.contains(\"LP_quark\") & df.columns.str.contains(\"eta\")].values\n",
    "phis = df.loc[:,df.columns.str.contains(\"LP_quark\") & df.columns.str.contains(\"phi\")].values\n",
    "\n",
    "gen_parts_eta_phi = np.stack([etas,phis], axis=-1)\n",
    "print(\"gen_parts_eta_phi\", gen_parts_eta_phi.shape, \" (# events, # quarks, eta&phi)\")\n",
    "\n",
    "# # (4) bgenQuarks\n",
    "\n",
    "etas = df.loc[:,df.columns.str.contains(\"LP_bquark\") & df.columns.str.contains(\"eta\")].values\n",
    "phis = df.loc[:,df.columns.str.contains(\"LP_bquark\") & df.columns.str.contains(\"phi\")].values\n",
    "\n",
    "bgen_parts_eta_phi = np.stack([etas,phis], axis=-1)\n",
    "print(\"bgen_parts_eta_phi\", gen_parts_eta_phi.shape, \" (# events, # quarks, eta&phi)\")"
   ]
  },
  {
   "cell_type": "code",
   "execution_count": 174,
   "id": "3ce31f3a",
   "metadata": {},
   "outputs": [
    {
     "data": {
      "text/plain": [
       "array([[2.9011449 , 2.07962966],\n",
       "       [0.94309973, 0.88783131],\n",
       "       [3.12469417, 2.24940156],\n",
       "       ...,\n",
       "       [2.48064855, 2.10248904],\n",
       "       [3.15745479, 3.23684771],\n",
       "       [3.88832477, 1.4060773 ]])"
      ]
     },
     "execution_count": 174,
     "metadata": {},
     "output_type": "execute_result"
    }
   ],
   "source": [
    "def ang_dist(phi1, phi2):\n",
    "    phi1 = phi1 % (2. * np.pi)\n",
    "    phi2 = phi2 % (2. * np.pi)\n",
    "    dphi = phi1 - phi2\n",
    "    if(len(dphi.shape) > 0):\n",
    "        dphi[dphi < -np.pi] += 2.*np.pi\n",
    "        dphi[dphi > np.pi] -= 2.*np.pi\n",
    "    else:\n",
    "        if(dphi < -np.pi): dphi += 2.*np.pi\n",
    "        if(dphi > np.pi): dphi -= 2.*np.pi\n",
    "\n",
    "    return dphi\n",
    "\n",
    "def get_dRs_columnar(gen_eta_phi, j_4vec):\n",
    "\n",
    "    dR = np.sqrt(np.square(gen_eta_phi[:, :,0] - j_4vec[:, 1]) + \n",
    "            np.square(ang_dist(gen_eta_phi[:, :,1], j_4vec[:, 2] )))\n",
    "    return dR\n",
    "\n",
    "get_dRs_columnar(bgen_parts_eta_phi, ak8_jets.reshape(-1,4,1))"
   ]
  },
  {
   "cell_type": "code",
   "execution_count": 67,
   "id": "7c751825",
   "metadata": {},
   "outputs": [],
   "source": [
    "# # select the closest gen quark\n",
    "# indices = get_dRs_columnar(gen_parts_eta_phi, ak8_jets.reshape(-1,4,1)).argmin(axis=1)\n",
    "# gen_parts_eta_phi = gen_parts_eta_phi[np.arange(len(gen_parts_eta_phi)), indices, :].reshape(-1,1,2)"
   ]
  },
  {
   "cell_type": "code",
   "execution_count": 68,
   "id": "2c7eac79",
   "metadata": {},
   "outputs": [
    {
     "data": {
      "text/plain": [
       "(12420, 4, 2)"
      ]
     },
     "execution_count": 68,
     "metadata": {},
     "output_type": "execute_result"
    }
   ],
   "source": [
    "# concatenate both bgen quarks\n",
    "gen_parts_eta_phi = np.concatenate([gen_parts_eta_phi,bgen_parts_eta_phi], axis=1)\n",
    "gen_parts_eta_phi.shape"
   ]
  },
  {
   "cell_type": "code",
   "execution_count": 74,
   "id": "98d54208",
   "metadata": {},
   "outputs": [
    {
     "data": {
      "text/plain": [
       "(77790, 3, 2)"
      ]
     },
     "execution_count": 74,
     "metadata": {},
     "output_type": "execute_result"
    }
   ],
   "source": [
    "# concatenate the closest bgen quark\n",
    "indices = get_dRs_columnar(bgen_parts_eta_phi, ak8_jets.reshape(-1,4,1)).argmin(axis=1)\n",
    "\n",
    "matched_bgen = bgen_parts_eta_phi[np.arange(len(bgen_parts_eta_phi)), indices, :].reshape(-1,1,2)\n",
    "gen_parts_eta_phi = np.concatenate([gen_parts_eta_phi,matched_bgen], axis=1)\n",
    "gen_parts_eta_phi.shape"
   ]
  },
  {
   "cell_type": "code",
   "execution_count": 75,
   "id": "d9018f0d",
   "metadata": {},
   "outputs": [
    {
     "name": "stdout",
     "output_type": "stream",
     "text": [
      "(77790, 3, 1)\n"
     ]
    }
   ],
   "source": [
    "gen_parts_pdg_ids = np.zeros([len(gen_parts_eta_phi), 3, 1])\n",
    "gen_parts_pdg_ids[:,-1] = 5\n",
    "print(gen_parts_pdg_ids.shape)"
   ]
  },
  {
   "cell_type": "markdown",
   "id": "ba195bc5",
   "metadata": {},
   "source": [
    "## Initiate a LundReweigher"
   ]
  },
  {
   "cell_type": "code",
   "execution_count": 175,
   "id": "d8eb554a",
   "metadata": {
    "scrolled": true
   },
   "outputs": [
    {
     "name": "stdout",
     "output_type": "stream",
     "text": [
      "Running on 13591 events\n",
      "Jet with zero quarks inside? Not attempting to recluster\n",
      "Jet with zero quarks inside? Not attempting to recluster\n",
      "Jet with zero quarks inside? Not attempting to recluster\n",
      "Jet with zero quarks inside? Not attempting to recluster\n",
      "Jet with zero quarks inside? Not attempting to recluster\n",
      "Jet with zero quarks inside? Not attempting to recluster\n",
      "Jet with zero quarks inside? Not attempting to recluster\n",
      "Jet with zero quarks inside? Not attempting to recluster\n",
      "Jet with zero quarks inside? Not attempting to recluster\n",
      "Jet with zero quarks inside? Not attempting to recluster\n",
      "Jet with zero quarks inside? Not attempting to recluster\n",
      "Jet with zero quarks inside? Not attempting to recluster\n",
      "Jet with zero quarks inside? Not attempting to recluster\n",
      "Jet with zero quarks inside? Not attempting to recluster\n",
      "Jet with zero quarks inside? Not attempting to recluster\n",
      "Jet with zero quarks inside? Not attempting to recluster\n",
      "Jet with zero quarks inside? Not attempting to recluster\n",
      "Jet with zero quarks inside? Not attempting to recluster\n",
      "Jet with zero quarks inside? Not attempting to recluster\n",
      "Jet with zero quarks inside? Not attempting to recluster\n",
      "Jet with zero quarks inside? Not attempting to recluster\n",
      "Jet with zero quarks inside? Not attempting to recluster\n",
      "Jet with zero quarks inside? Not attempting to recluster\n",
      "Jet with zero quarks inside? Not attempting to recluster\n",
      "Jet with zero quarks inside? Not attempting to recluster\n",
      "Jet with zero quarks inside? Not attempting to recluster\n",
      "Jet with zero quarks inside? Not attempting to recluster\n",
      "Jet with zero quarks inside? Not attempting to recluster\n",
      "Jet with zero quarks inside? Not attempting to recluster\n",
      "Jet with zero quarks inside? Not attempting to recluster\n",
      "Jet with zero quarks inside? Not attempting to recluster\n",
      "Jet with zero quarks inside? Not attempting to recluster\n",
      "Jet with zero quarks inside? Not attempting to recluster\n",
      "Jet with zero quarks inside? Not attempting to recluster\n",
      "Jet with zero quarks inside? Not attempting to recluster\n",
      "Jet with zero quarks inside? Not attempting to recluster\n",
      "Jet with zero quarks inside? Not attempting to recluster\n",
      "Jet with zero quarks inside? Not attempting to recluster\n",
      "Jet with zero quarks inside? Not attempting to recluster\n",
      "Jet with zero quarks inside? Not attempting to recluster\n",
      "Jet with zero quarks inside? Not attempting to recluster\n",
      "Jet with zero quarks inside? Not attempting to recluster\n",
      "Jet with zero quarks inside? Not attempting to recluster\n",
      "Jet with zero quarks inside? Not attempting to recluster\n",
      "Jet with zero quarks inside? Not attempting to recluster\n",
      "Jet with zero quarks inside? Not attempting to recluster\n",
      "Jet with zero quarks inside? Not attempting to recluster\n",
      "Jet with zero quarks inside? Not attempting to recluster\n",
      "Jet with zero quarks inside? Not attempting to recluster\n",
      "Jet with zero quarks inside? Not attempting to recluster\n",
      "Jet with zero quarks inside? Not attempting to recluster\n",
      "Jet with zero quarks inside? Not attempting to recluster\n",
      "Jet with zero quarks inside? Not attempting to recluster\n",
      "Jet with zero quarks inside? Not attempting to recluster\n",
      "Jet with zero quarks inside? Not attempting to recluster\n",
      "Jet with zero quarks inside? Not attempting to recluster\n",
      "Jet with zero quarks inside? Not attempting to recluster\n",
      "Jet with zero quarks inside? Not attempting to recluster\n",
      "Jet with zero quarks inside? Not attempting to recluster\n",
      "Jet with zero quarks inside? Not attempting to recluster\n",
      "Jet with zero quarks inside? Not attempting to recluster\n",
      "Jet with zero quarks inside? Not attempting to recluster\n",
      "Jet with zero quarks inside? Not attempting to recluster\n",
      "Jet with zero quarks inside? Not attempting to recluster\n",
      "Jet with zero quarks inside? Not attempting to recluster\n",
      "Jet with zero quarks inside? Not attempting to recluster\n",
      "Jet with zero quarks inside? Not attempting to recluster\n",
      "Jet with zero quarks inside? Not attempting to recluster\n",
      "Jet with zero quarks inside? Not attempting to recluster\n",
      "Jet with zero quarks inside? Not attempting to recluster\n",
      "Jet with zero quarks inside? Not attempting to recluster\n",
      "Jet with zero quarks inside? Not attempting to recluster\n",
      "Jet with zero quarks inside? Not attempting to recluster\n",
      "Jet with zero quarks inside? Not attempting to recluster\n",
      "Jet with zero quarks inside? Not attempting to recluster\n",
      "Jet with zero quarks inside? Not attempting to recluster\n",
      "Jet with zero quarks inside? Not attempting to recluster\n",
      "Jet with zero quarks inside? Not attempting to recluster\n",
      "Jet with zero quarks inside? Not attempting to recluster\n",
      "Jet with zero quarks inside? Not attempting to recluster\n",
      "Jet with zero quarks inside? Not attempting to recluster\n",
      "Jet with zero quarks inside? Not attempting to recluster\n",
      "Jet with zero quarks inside? Not attempting to recluster\n",
      "Jet with zero quarks inside? Not attempting to recluster\n",
      "Jet with zero quarks inside? Not attempting to recluster\n",
      "Jet with zero quarks inside? Not attempting to recluster\n",
      "Jet with zero quarks inside? Not attempting to recluster\n",
      "Jet with zero quarks inside? Not attempting to recluster\n",
      "Jet with zero quarks inside? Not attempting to recluster\n",
      "Jet with zero quarks inside? Not attempting to recluster\n",
      "Jet with zero quarks inside? Not attempting to recluster\n",
      "Jet with zero quarks inside? Not attempting to recluster\n",
      "Jet with zero quarks inside? Not attempting to recluster\n",
      "Jet with zero quarks inside? Not attempting to recluster\n",
      "Jet with zero quarks inside? Not attempting to recluster\n",
      "Jet with zero quarks inside? Not attempting to recluster\n",
      "Jet with zero quarks inside? Not attempting to recluster\n",
      "Jet with zero quarks inside? Not attempting to recluster\n",
      "Jet with zero quarks inside? Not attempting to recluster\n",
      "Jet with zero quarks inside? Not attempting to recluster\n",
      "Jet with zero quarks inside? Not attempting to recluster\n",
      "Jet with zero quarks inside? Not attempting to recluster\n",
      "Jet with zero quarks inside? Not attempting to recluster\n",
      "Jet with zero quarks inside? Not attempting to recluster\n",
      "Jet with zero quarks inside? Not attempting to recluster\n",
      "Jet with zero quarks inside? Not attempting to recluster\n",
      "Jet with zero quarks inside? Not attempting to recluster\n",
      "Jet with zero quarks inside? Not attempting to recluster\n",
      "Jet with zero quarks inside? Not attempting to recluster\n",
      "Jet with zero quarks inside? Not attempting to recluster\n",
      "Jet with zero quarks inside? Not attempting to recluster\n",
      "Jet with zero quarks inside? Not attempting to recluster\n",
      "Jet with zero quarks inside? Not attempting to recluster\n",
      "Jet with zero quarks inside? Not attempting to recluster\n",
      "Jet with zero quarks inside? Not attempting to recluster\n",
      "Jet with zero quarks inside? Not attempting to recluster\n",
      "Jet with zero quarks inside? Not attempting to recluster\n",
      "Jet with zero quarks inside? Not attempting to recluster\n",
      "Jet with zero quarks inside? Not attempting to recluster\n",
      "Jet with zero quarks inside? Not attempting to recluster\n",
      "Jet with zero quarks inside? Not attempting to recluster\n",
      "Jet with zero quarks inside? Not attempting to recluster\n",
      "Jet with zero quarks inside? Not attempting to recluster\n",
      "Jet with zero quarks inside? Not attempting to recluster\n",
      "Jet with zero quarks inside? Not attempting to recluster\n",
      "Jet with zero quarks inside? Not attempting to recluster\n",
      "Jet with zero quarks inside? Not attempting to recluster\n",
      "Jet with zero quarks inside? Not attempting to recluster\n",
      "Jet with zero quarks inside? Not attempting to recluster\n",
      "Jet with zero quarks inside? Not attempting to recluster\n",
      "Jet with zero quarks inside? Not attempting to recluster\n",
      "Jet with zero quarks inside? Not attempting to recluster\n",
      "Jet with zero quarks inside? Not attempting to recluster\n",
      "Jet with zero quarks inside? Not attempting to recluster\n",
      "Jet with zero quarks inside? Not attempting to recluster\n",
      "Jet with zero quarks inside? Not attempting to recluster\n",
      "Jet with zero quarks inside? Not attempting to recluster\n",
      "Jet with zero quarks inside? Not attempting to recluster\n",
      "Jet with zero quarks inside? Not attempting to recluster\n",
      "Jet with zero quarks inside? Not attempting to recluster\n",
      "Jet with zero quarks inside? Not attempting to recluster\n",
      "Jet with zero quarks inside? Not attempting to recluster\n",
      "Jet with zero quarks inside? Not attempting to recluster\n",
      "Jet with zero quarks inside? Not attempting to recluster\n",
      "Jet with zero quarks inside? Not attempting to recluster\n",
      "Jet with zero quarks inside? Not attempting to recluster\n",
      "Jet with zero quarks inside? Not attempting to recluster\n",
      "Jet with zero quarks inside? Not attempting to recluster\n",
      "Jet with zero quarks inside? Not attempting to recluster\n",
      "Jet with zero quarks inside? Not attempting to recluster\n",
      "Jet with zero quarks inside? Not attempting to recluster\n",
      "Jet with zero quarks inside? Not attempting to recluster\n",
      "Jet with zero quarks inside? Not attempting to recluster\n",
      "Jet with zero quarks inside? Not attempting to recluster\n",
      "Jet with zero quarks inside? Not attempting to recluster\n",
      "Jet with zero quarks inside? Not attempting to recluster\n",
      "Jet with zero quarks inside? Not attempting to recluster\n",
      "Jet with zero quarks inside? Not attempting to recluster\n",
      "Jet with zero quarks inside? Not attempting to recluster\n",
      "Jet with zero quarks inside? Not attempting to recluster\n",
      "Jet with zero quarks inside? Not attempting to recluster\n",
      "Jet with zero quarks inside? Not attempting to recluster\n",
      "Jet with zero quarks inside? Not attempting to recluster\n",
      "Jet with zero quarks inside? Not attempting to recluster\n",
      "Jet with zero quarks inside? Not attempting to recluster\n",
      "Jet with zero quarks inside? Not attempting to recluster\n",
      "Jet with zero quarks inside? Not attempting to recluster\n",
      "Jet with zero quarks inside? Not attempting to recluster\n",
      "Jet with zero quarks inside? Not attempting to recluster\n",
      "Jet with zero quarks inside? Not attempting to recluster\n",
      "Jet with zero quarks inside? Not attempting to recluster\n",
      "Jet with zero quarks inside? Not attempting to recluster\n",
      "Jet with zero quarks inside? Not attempting to recluster\n",
      "Jet with zero quarks inside? Not attempting to recluster\n",
      "Jet with zero quarks inside? Not attempting to recluster\n",
      "Jet with zero quarks inside? Not attempting to recluster\n",
      "Jet with zero quarks inside? Not attempting to recluster\n",
      "Jet with zero quarks inside? Not attempting to recluster\n",
      "Jet with zero quarks inside? Not attempting to recluster\n",
      "Jet with zero quarks inside? Not attempting to recluster\n",
      "Jet with zero quarks inside? Not attempting to recluster\n",
      "Jet with zero quarks inside? Not attempting to recluster\n",
      "Jet with zero quarks inside? Not attempting to recluster\n",
      "Jet with zero quarks inside? Not attempting to recluster\n",
      "Jet with zero quarks inside? Not attempting to recluster\n",
      "Jet with zero quarks inside? Not attempting to recluster\n",
      "Jet with zero quarks inside? Not attempting to recluster\n",
      "Jet with zero quarks inside? Not attempting to recluster\n",
      "Jet with zero quarks inside? Not attempting to recluster\n",
      "Jet with zero quarks inside? Not attempting to recluster\n",
      "Jet with zero quarks inside? Not attempting to recluster\n",
      "Jet with zero quarks inside? Not attempting to recluster\n",
      "Jet with zero quarks inside? Not attempting to recluster\n",
      "Jet with zero quarks inside? Not attempting to recluster\n",
      "Jet with zero quarks inside? Not attempting to recluster\n",
      "Jet with zero quarks inside? Not attempting to recluster\n",
      "Jet with zero quarks inside? Not attempting to recluster\n",
      "Jet with zero quarks inside? Not attempting to recluster\n",
      "Jet with zero quarks inside? Not attempting to recluster\n",
      "Jet with zero quarks inside? Not attempting to recluster\n",
      "Jet with zero quarks inside? Not attempting to recluster\n",
      "Jet with zero quarks inside? Not attempting to recluster\n",
      "Jet with zero quarks inside? Not attempting to recluster\n",
      "Jet with zero quarks inside? Not attempting to recluster\n",
      "Jet with zero quarks inside? Not attempting to recluster\n",
      "Jet with zero quarks inside? Not attempting to recluster\n",
      "Jet with zero quarks inside? Not attempting to recluster\n",
      "Jet with zero quarks inside? Not attempting to recluster\n",
      "Jet with zero quarks inside? Not attempting to recluster\n",
      "Jet with zero quarks inside? Not attempting to recluster\n",
      "Jet with zero quarks inside? Not attempting to recluster\n",
      "Jet with zero quarks inside? Not attempting to recluster\n",
      "Jet with zero quarks inside? Not attempting to recluster\n",
      "Jet with zero quarks inside? Not attempting to recluster\n"
     ]
    },
    {
     "name": "stdout",
     "output_type": "stream",
     "text": [
      "Bad match frac 0.30\n",
      "Reclustered bad match frac 0.13\n"
     ]
    }
   ],
   "source": [
    "giveb = False\n",
    "\n",
    "#use small number of events for the example, but generally advisable to use larger sample\n",
    "max_evts = 100000000_000\n",
    "\n",
    "import sys, os\n",
    "sys.path.insert(0, '')\n",
    "sys.path.append(\"LundReweighting\")\n",
    "from LundReweighting.utils.Utils import *\n",
    "\n",
    "\"\"\" An example how to use the Lund Plane reweighting  code. \n",
    "Computes reweighting factors for an example signal. \n",
    "Uses them to compute the efficiency and uncertainty of a given substructure cut\"\"\"\n",
    "\n",
    "######################## Setup \n",
    "\n",
    "#Input file \n",
    "fname = \"LundReweighting/data/example_signal.h5\"\n",
    "f_ratio_name = 'LundReweighting/data/ratio_2017.root'\n",
    "\n",
    "f_sig = h5py.File(fname, \"r\")\n",
    "f_ratio = ROOT.TFile.Open(f_ratio_name)\n",
    "\n",
    "#Class to help read input dataset \n",
    "d = Dataset(f_sig, dtype = 1)\n",
    "d.compute_obs()\n",
    "\n",
    "#Main class for reweighting utilities\n",
    "LP_rw = LundReweighter(f_ratio = f_ratio)\n",
    "\n",
    "################### Compute reweighting factors\n",
    "\n",
    "#PF candidates in the AK8 jet for each event (list of (px,py,pz,E))\n",
    "pf_cands = pf_cands[:max_evts]\n",
    "print(\"Running on %i events\" % len(pf_cands))\n",
    "\n",
    "#Generator level quarks from hard process \n",
    "gen_parts_eta_phi = gen_parts_eta_phi[:max_evts]\n",
    "\n",
    "#4 vector of AK8 jets we are calibrating\n",
    "ak8_jets = ak8_jets[:max_evts]\n",
    "\n",
    "#Nominal event weights of the MC, (assume every event is weight '1' for this example)\n",
    "nom_weights = np.ones(len(pf_cands))\n",
    "\n",
    "#Compute reweighting factors and all systematic variations\n",
    "if giveb is True:\n",
    "    gen_parts_pdg_ids = gen_parts_pdg_ids[:max_evts]    \n",
    "    print(\"Will include b pdgid\")\n",
    "    try:\n",
    "        LP_weights = LP_rw.get_all_weights(pf_cands, gen_parts_eta_phi, ak8_jets, gen_parts_pdg_ids)\n",
    "    except IndexError:\n",
    "        print(\"FOUND BUG\")\n",
    "        LP_weights = LP_rw.get_all_weights(pf_cands, gen_parts_eta_phi, ak8_jets)\n",
    "else:\n",
    "    LP_weights = LP_rw.get_all_weights(pf_cands, gen_parts_eta_phi, ak8_jets)\n",
    "\n",
    "\n",
    "#multiply Lund plane weights with nominal event weights\n",
    "for key in LP_weights.keys():\n",
    "    if('nom' in key or 'up' in key or 'down' in key):\n",
    "        if(isinstance(LP_weights[key], np.ndarray)) : LP_weights[key] *= nom_weights\n",
    "\n",
    "\n",
    "#Fraction of prongs that are not well matched to subjets (want this to be low)\n",
    "print(\"Bad match frac %.2f\" % np.mean(LP_weights['bad_match']))\n",
    "#Fraction of prongs that are still not well matched after reclustering with varied number of prongs\n",
    "print(\"Reclustered bad match frac %.2f\" % np.mean(LP_weights['reclust_still_bad_match']))"
   ]
  },
  {
   "cell_type": "code",
   "execution_count": 85,
   "id": "7d0f599c",
   "metadata": {},
   "outputs": [],
   "source": [
    "pd.DataFrame(LP_weights[\"nom\"], columns=[\"LP_weight\"]).to_parquet(f\"LP_{year}_{ch}.parquet\")"
   ]
  },
  {
   "cell_type": "code",
   "execution_count": 87,
   "id": "58473120",
   "metadata": {},
   "outputs": [
    {
     "data": {
      "text/plain": [
       "(12965,)"
      ]
     },
     "execution_count": 87,
     "metadata": {},
     "output_type": "execute_result"
    }
   ],
   "source": [
    "LP_weights[\"nom\"].shape"
   ]
  },
  {
   "cell_type": "code",
   "execution_count": 176,
   "id": "7fe9b394",
   "metadata": {},
   "outputs": [
    {
     "name": "stderr",
     "output_type": "stream",
     "text": [
      "/var/folders/d7/p4v84gls67vdp9_q2rkkvkch0000gn/T/ipykernel_95248/3655207821.py:1: PerformanceWarning: DataFrame is highly fragmented.  This is usually the result of calling `frame.insert` many times, which has poor performance.  Consider joining all columns at once using pd.concat(axis=1) instead. To get a de-fragmented frame, use `newframe = frame.copy()`\n",
      "  events_dict[year][ch][\"TTbar\"][\"LP_weight\"] = 1\n",
      "/var/folders/d7/p4v84gls67vdp9_q2rkkvkch0000gn/T/ipykernel_95248/3655207821.py:2: FutureWarning: ChainedAssignmentError: behaviour will change in pandas 3.0!\n",
      "You are setting values through chained assignment. Currently this works in certain cases, but when using Copy-on-Write (which will become the default behaviour in pandas 3.0) this will never work to update the original DataFrame or Series, because the intermediate object on which we are setting values will behave as a copy.\n",
      "A typical example is when you are setting values in a column of a DataFrame, like:\n",
      "\n",
      "df[\"col\"][row_indexer] = value\n",
      "\n",
      "Use `df.loc[row_indexer, \"col\"] = values` instead, to perform the assignment in a single step and ensure this keeps updating the original `df`.\n",
      "\n",
      "See the caveats in the documentation: https://pandas.pydata.org/pandas-docs/stable/user_guide/indexing.html#returning-a-view-versus-a-copy\n",
      "\n",
      "  events_dict[year][ch][\"TTbar\"][\"LP_weight\"][msk] = LP_weights[\"nom\"]\n",
      "/var/folders/d7/p4v84gls67vdp9_q2rkkvkch0000gn/T/ipykernel_95248/3655207821.py:2: FutureWarning: Setting an item of incompatible dtype is deprecated and will raise an error in a future version of pandas. Value '[1.27498068 0.78965668 0.66633807 ... 1.         0.890806   1.        ]' has dtype incompatible with int64, please explicitly cast to a compatible dtype first.\n",
      "  events_dict[year][ch][\"TTbar\"][\"LP_weight\"][msk] = LP_weights[\"nom\"]\n"
     ]
    }
   ],
   "source": [
    "events_dict[year][ch][\"TTbar\"][\"LP_weight\"] = 1\n",
    "events_dict[year][ch][\"TTbar\"][\"LP_weight\"][msk] = LP_weights[\"nom\"]\n",
    "events_dict[year][ch][\"TTbar\"].to_parquet(f\"LP_TTbar_{year}_{ch}.parquet\")"
   ]
  },
  {
   "cell_type": "code",
   "execution_count": null,
   "id": "f5d56efe",
   "metadata": {},
   "outputs": [],
   "source": []
  },
  {
   "cell_type": "code",
   "execution_count": null,
   "id": "8ae2836d",
   "metadata": {},
   "outputs": [],
   "source": []
  },
  {
   "cell_type": "code",
   "execution_count": null,
   "id": "f6b38eef",
   "metadata": {},
   "outputs": [],
   "source": []
  },
  {
   "cell_type": "code",
   "execution_count": null,
   "id": "9ad983d0",
   "metadata": {},
   "outputs": [],
   "source": []
  },
  {
   "cell_type": "code",
   "execution_count": null,
   "id": "69ba7940",
   "metadata": {},
   "outputs": [],
   "source": []
  },
  {
   "cell_type": "code",
   "execution_count": null,
   "id": "d2133a38",
   "metadata": {},
   "outputs": [],
   "source": []
  },
  {
   "cell_type": "code",
   "execution_count": null,
   "id": "b2d1010c",
   "metadata": {},
   "outputs": [],
   "source": []
  },
  {
   "cell_type": "code",
   "execution_count": 31,
   "id": "20162ec1",
   "metadata": {},
   "outputs": [
    {
     "name": "stdout",
     "output_type": "stream",
     "text": [
      "Nominal efficiency 0.875, Corrected efficiency 0.876, SF (corrected / nom) 1.001\n",
      "Stat variation toys eff. avg 0.875, std dev 0.002\n",
      "Pt variation toys eff. avg 0.876, std dev 0.000\n",
      "Calibrated efficiency  is 0.876 +/- 0.003 (stat) +/- 0.000 (pt) 0.001/-0.003 (sys) 0.000/0.000 (bquark) -0.001/0.000 (prongs) 0.021/-0.009 (unclust) -0.001/0.009 (distortion)\n",
      " Original 0.875, Calibrated 0.876 +0.023/-0.010 \n",
      "\n"
     ]
    }
   ],
   "source": [
    "score_thresh = 0.75\n",
    "\n",
    "score = df[\"THWW\"].values[:max_evts]\n",
    "score_cut = score < score_thresh\n",
    "\n",
    "###### Use weights to compute efficiency of a cut\n",
    "\n",
    "#Efficiency of the cut in nominal MC\n",
    "eff_nom = np.average(score_cut, weights = nom_weights)\n",
    "\n",
    "#Efficiency of the cut after the Lund Plane reweighting\n",
    "eff_rw = np.average(score_cut, weights = LP_weights['nom'])\n",
    "\n",
    "#Nominal 'scale factor'\n",
    "SF = eff_rw / eff_nom\n",
    "\n",
    "print(\"Nominal efficiency %.3f, Corrected efficiency %.3f, SF (corrected / nom) %.3f\" % (eff_nom, eff_rw, SF))\n",
    "\n",
    "#NOTE, because there is kinematic dependence to the correction, it is better to use corrected efficiency computed \n",
    "#separately for each MC sample rather than a single 'SF'\n",
    "\n",
    "\n",
    "######  Compute uncertainties on the efficiency from the various weight variations ##############\n",
    "\n",
    "#statistical and pt extrapolation uncertainties derived from 100 variations of the weights \n",
    "#take std dev to determine unc\n",
    "\n",
    "nToys = LP_weights['stat_vars'].shape[1]\n",
    "eff_toys = []\n",
    "pt_eff_toys = []\n",
    "for i in range(nToys):\n",
    "    eff = np.average(score_cut, weights = LP_weights['stat_vars'][:,i])\n",
    "    eff_toys.append(eff)\n",
    "\n",
    "    eff1 = np.average(score_cut, weights = LP_weights['pt_vars'][:,i])\n",
    "    pt_eff_toys.append(eff1)\n",
    "\n",
    "#Compute stat and pt uncertainty based on variation in the toys\n",
    "toys_mean = np.mean(eff_toys)\n",
    "toys_std = np.std(eff_toys)\n",
    "pt_toys_mean = np.mean(pt_eff_toys)\n",
    "pt_toys_std = np.std(pt_eff_toys)\n",
    "\n",
    "#if mean of toys is biased, also include it as an unc (should be zero)\n",
    "eff_stat_unc = (abs(toys_mean - eff_rw)  + toys_std) \n",
    "eff_pt_unc = (abs(pt_toys_mean - eff_rw) + pt_toys_std)\n",
    "\n",
    "print(\"Stat variation toys eff. avg %.3f, std dev %.3f\" % (toys_mean, toys_std))\n",
    "print(\"Pt variation toys eff. avg %.3f, std dev %.3f\" % (pt_toys_mean, pt_toys_std))\n",
    "\n",
    "#Other systematics come from up/down variations of the weights\n",
    "sys_keys = ['sys', 'bquark', 'prongs', 'unclust', 'distortion']\n",
    "sys_uncs = dict()\n",
    "\n",
    "for sys in sys_keys: sys_uncs[sys] = [0.,0.]\n",
    "\n",
    "#Compute difference in efficiency due to weight variations as uncertainty\n",
    "def get_uncs(cut, weights_up, weights_down, eff_baseline):\n",
    "    eff_up =  np.average(cut, weights = weights_up)\n",
    "    eff_down =  np.average(cut, weights = weights_down)\n",
    "\n",
    "    unc_up = eff_up - eff_baseline\n",
    "    unc_down = eff_down - eff_baseline \n",
    "    return unc_up, unc_down\n",
    "\n",
    "for sys in sys_keys:\n",
    "    unc_up, unc_down = get_uncs(score_cut, LP_weights[sys + '_up'], LP_weights[sys + '_down'], eff_rw)\n",
    "    sys_uncs[sys] = [unc_up, unc_down]\n",
    "\n",
    "\n",
    "#Print uncertainty breakdown\n",
    "eff_str = \"Calibrated efficiency  is %.3f +/- %.3f (stat) +/- %.3f (pt)\" % (eff_rw, eff_stat_unc, eff_pt_unc )\n",
    "tot_unc_up = tot_unc_down = eff_stat_unc**2 + eff_pt_unc**2\n",
    "\n",
    "for sys in sys_keys:\n",
    "    eff_str += \" %.3f/%.3f (%s)\" % (sys_uncs[sys][0], sys_uncs[sys][1], sys)\n",
    "    up_var = max(sys_uncs[sys][0], sys_uncs[sys][1])\n",
    "    down_var = min(sys_uncs[sys][0], sys_uncs[sys][1])\n",
    "    tot_unc_up += up_var**2\n",
    "    tot_unc_down += down_var**2\n",
    "\n",
    "tot_unc_up = tot_unc_up**0.5\n",
    "tot_unc_down = tot_unc_down**0.5\n",
    "\n",
    "#Print final calibrated efficiency and total uncertaintiy\n",
    "eff_str += \"\\n Original %.3f, Calibrated %.3f +%.3f/-%.3f \\n\"  % (eff_nom, eff_rw, tot_unc_up, tot_unc_down)\n",
    "\n",
    "print(eff_str)\n",
    "f_ratio.Close()"
   ]
  },
  {
   "cell_type": "code",
   "execution_count": null,
   "id": "053d5cbf",
   "metadata": {},
   "outputs": [],
   "source": [
    "# Nominal efficiency: eff in MC\n",
    "# Calibrated efficiency: eff in data\n",
    "# We reweight the efficiency in MC to look like the data\n",
    "# Add more decimal points to see the unc.\n",
    "# SF is very close to 1! follow up with Oz\n",
    "# check at different cut"
   ]
  },
  {
   "cell_type": "code",
   "execution_count": null,
   "id": "cd2054fa",
   "metadata": {},
   "outputs": [],
   "source": []
  },
  {
   "cell_type": "code",
   "execution_count": null,
   "id": "82d615bf",
   "metadata": {},
   "outputs": [],
   "source": []
  },
  {
   "cell_type": "code",
   "execution_count": 81,
   "id": "119e0889",
   "metadata": {},
   "outputs": [
    {
     "data": {
      "text/plain": [
       "(array([2.20e+01, 1.33e+02, 4.47e+02, 8.54e+02, 2.22e+03, 5.24e+02,\n",
       "        3.06e+02, 1.78e+02, 9.80e+01, 8.20e+01, 4.70e+01, 2.40e+01,\n",
       "        2.00e+01, 1.30e+01, 7.00e+00, 6.00e+00, 4.00e+00, 2.00e+00,\n",
       "        4.00e+00]),\n",
       " array([0.        , 0.21052632, 0.42105263, 0.63157895, 0.84210526,\n",
       "        1.05263158, 1.26315789, 1.47368421, 1.68421053, 1.89473684,\n",
       "        2.10526316, 2.31578947, 2.52631579, 2.73684211, 2.94736842,\n",
       "        3.15789474, 3.36842105, 3.57894737, 3.78947368, 4.        ]),\n",
       " <BarContainer object of 19 artists>)"
      ]
     },
     "execution_count": 81,
     "metadata": {},
     "output_type": "execute_result"
    },
    {
     "data": {
      "image/png": "[encoded data removed]",
      "text/plain": [
       "<Figure size 1000x1000 with 1 Axes>"
      ]
     },
     "metadata": {},
     "output_type": "display_data"
    }
   ],
   "source": [
    "plt.hist(\n",
    "    LP_weights[\"nom\"],\n",
    "    bins=np.linspace(0,4,20),\n",
    ")"
   ]
  },
  {
   "cell_type": "code",
   "execution_count": null,
   "id": "407e7795",
   "metadata": {},
   "outputs": [],
   "source": []
  },
  {
   "cell_type": "code",
   "execution_count": null,
   "id": "ef2792f4",
   "metadata": {},
   "outputs": [],
   "source": []
  },
  {
   "cell_type": "code",
   "execution_count": null,
   "id": "5d09a3af",
   "metadata": {},
   "outputs": [],
   "source": []
  },
  {
   "cell_type": "code",
   "execution_count": null,
   "id": "2e1ed8c5",
   "metadata": {},
   "outputs": [],
   "source": []
  },
  {
   "cell_type": "code",
   "execution_count": null,
   "id": "3b7a497f",
   "metadata": {},
   "outputs": [],
   "source": []
  },
  {
   "cell_type": "code",
   "execution_count": null,
   "id": "12651cdf",
   "metadata": {},
   "outputs": [],
   "source": []
  },
  {
   "cell_type": "code",
   "execution_count": null,
   "id": "136a6286",
   "metadata": {},
   "outputs": [],
   "source": []
  },
  {
   "cell_type": "code",
   "execution_count": 338,
   "id": "d08db940",
   "metadata": {},
   "outputs": [
    {
     "data": {
      "text/plain": [
       "Text(1, 0, '$\\\\Delta$R(gen quark,subjet)')"
      ]
     },
     "execution_count": 338,
     "metadata": {},
     "output_type": "execute_result"
    },
    {
     "data": {
      "image/png": "[encoded data removed]",
      "text/plain": [
       "<Figure size 800x800 with 1 Axes>"
      ]
     },
     "metadata": {},
     "output_type": "display_data"
    }
   ],
   "source": [
    "fig, ax = plt.subplots(figsize=(8,8))\n",
    "\n",
    "ax.hist(dRs[sub_matching_bool], bins=np.linspace(0,1,100), histtype=\"step\", lw=2, label=\"subjets matched\")\n",
    "ax.hist(dRs[~sub_matching_bool], bins=np.linspace(0,1,100), histtype=\"step\", lw=2, label=\"subjets unmatched\")\n",
    "\n",
    "ax.set_xlim(0,1)\n",
    "ax.set_ylabel(\"TTbar events\")\n",
    "ax.legend()\n",
    "ax.set_xlabel(r\"$\\Delta$R(gen quark,subjet)\")"
   ]
  },
  {
   "cell_type": "code",
   "execution_count": null,
   "id": "0736715c",
   "metadata": {},
   "outputs": [],
   "source": []
  },
  {
   "cell_type": "code",
   "execution_count": 208,
   "id": "3ed13f02",
   "metadata": {},
   "outputs": [
    {
     "data": {
      "text/plain": [
       "(37359,)"
      ]
     },
     "execution_count": 208,
     "metadata": {},
     "output_type": "execute_result"
    }
   ],
   "source": [
    "LP_weights[\"nom\"].shape"
   ]
  },
  {
   "cell_type": "code",
   "execution_count": 209,
   "id": "2770b212",
   "metadata": {},
   "outputs": [
    {
     "data": {
      "text/plain": [
       "array([0.73024492, 1.16708584, 0.74874257, ..., 0.87880555, 1.11122473,\n",
       "       0.64491165])"
      ]
     },
     "execution_count": 209,
     "metadata": {},
     "output_type": "execute_result"
    }
   ],
   "source": [
    "LP_weights[\"nom\"]"
   ]
  },
  {
   "cell_type": "code",
   "execution_count": 174,
   "id": "c41cbf67",
   "metadata": {},
   "outputs": [],
   "source": [
    "pd.DataFrame(LP_weights[\"nom\"], columns=[\"LP_weight\"]).to_parquet(f\"LP_{ch}_{year}.parquet\")"
   ]
  },
  {
   "cell_type": "code",
   "execution_count": null,
   "id": "75a2ffa6",
   "metadata": {},
   "outputs": [],
   "source": []
  },
  {
   "cell_type": "code",
   "execution_count": 211,
   "id": "0fea847d",
   "metadata": {
    "scrolled": true
   },
   "outputs": [
    {
     "name": "stdout",
     "output_type": "stream",
     "text": [
      "Nominal efficiency 0.255, Corrected efficiency 0.242, SF (corrected / nom) 0.951\n",
      "Stat variation toys eff. avg 0.242, std dev 0.005\n",
      "Pt variation toys eff. avg 0.242, std dev 0.000\n",
      "\n",
      "Calibrated efficiency  is 0.24 +/- 0.01 (stat) +/- 0.00 (pt) 0.00/0.00 (sys) 0.00/0.00 (bquark) 0.00/-0.01 (prongs) -0.06/0.02 (unclust) 0.00/-0.01 (distortion)\n",
      " Original 0.26, Calibrated 0.24 +0.02/-0.06 \n",
      "\n"
     ]
    }
   ],
   "source": [
    "if max_evts == -1:\n",
    "    score = df[\"THWW\"].values\n",
    "else:\n",
    "    score = df[\"THWW\"].values[:max_evts]\n",
    "score_cut = score > 0.905\n",
    "\n",
    "###### Use weights to compute efficiency of a cut\n",
    "\n",
    "#Efficiency of the cut in nominal MC\n",
    "eff_nom = np.average(score_cut, weights = nom_weights)\n",
    "\n",
    "#Efficiency of the cut after the Lund Plane reweighting\n",
    "eff_rw = np.average(score_cut, weights = LP_weights['nom'])\n",
    "\n",
    "#Nominal 'scale factor'\n",
    "SF = eff_rw / eff_nom\n",
    "\n",
    "print(\"Nominal efficiency %.3f, Corrected efficiency %.3f, SF (corrected / nom) %.3f\" % (eff_nom, eff_rw, SF))\n",
    "\n",
    "#NOTE, because there is kinematic dependence to the correction, it is better to use corrected efficiency computed \n",
    "#separately for each MC sample rather than a single 'SF'\n",
    "\n",
    "\n",
    "######  Compute uncertainties on the efficiency from the various weight variations ##############\n",
    "\n",
    "#statistical and pt extrapolation uncertainties derived from 100 variations of the weights \n",
    "#take std dev to determine unc\n",
    "\n",
    "nToys = LP_weights['stat_vars'].shape[1]\n",
    "eff_toys = []\n",
    "pt_eff_toys = []\n",
    "for i in range(nToys):\n",
    "    eff = np.average(score_cut, weights = LP_weights['stat_vars'][:,i])\n",
    "    eff_toys.append(eff)\n",
    "\n",
    "    eff1 = np.average(score_cut, weights = LP_weights['pt_vars'][:,i])\n",
    "    pt_eff_toys.append(eff1)\n",
    "\n",
    "#Compute stat and pt uncertainty based on variation in the toys\n",
    "toys_mean = np.mean(eff_toys)\n",
    "toys_std = np.std(eff_toys)\n",
    "pt_toys_mean = np.mean(pt_eff_toys)\n",
    "pt_toys_std = np.std(pt_eff_toys)\n",
    "\n",
    "#if mean of toys is biased, also include it as an unc (should be zero)\n",
    "eff_stat_unc = (abs(toys_mean - eff_rw)  + toys_std) \n",
    "eff_pt_unc = (abs(pt_toys_mean - eff_rw) + pt_toys_std)\n",
    "\n",
    "print(\"Stat variation toys eff. avg %.3f, std dev %.3f\" % (toys_mean, toys_std))\n",
    "print(\"Pt variation toys eff. avg %.3f, std dev %.3f\" % (pt_toys_mean, pt_toys_std))\n",
    "\n",
    "\n",
    "#Other systematics come from up/down variations of the weights\n",
    "sys_keys = ['sys', 'bquark', 'prongs', 'unclust', 'distortion']\n",
    "sys_uncs = dict()\n",
    "\n",
    "for sys in sys_keys: sys_uncs[sys] = [0.,0.]\n",
    "\n",
    "#Compute difference in efficiency due to weight variations as uncertainty\n",
    "def get_uncs(cut, weights_up, weights_down, eff_baseline):\n",
    "    eff_up =  np.average(cut, weights = weights_up)\n",
    "    eff_down =  np.average(cut, weights = weights_down)\n",
    "\n",
    "    unc_up = eff_up - eff_baseline\n",
    "    unc_down = eff_down - eff_baseline \n",
    "    return unc_up, unc_down\n",
    "\n",
    "for sys in sys_keys:\n",
    "    unc_up, unc_down = get_uncs(score_cut, LP_weights[sys + '_up'], LP_weights[sys + '_down'], eff_rw)\n",
    "    sys_uncs[sys] = [unc_up, unc_down]\n",
    "\n",
    "#Print uncertainty breakdown\n",
    "eff_str = \"Calibrated efficiency  is %.2f +/- %.2f (stat) +/- %.2f (pt)\" % (eff_rw, eff_stat_unc, eff_pt_unc )\n",
    "tot_unc_up = tot_unc_down = eff_stat_unc**2 + eff_pt_unc**2\n",
    "\n",
    "for sys in sys_keys:\n",
    "    eff_str += \" %.2f/%.2f (%s)\" % (sys_uncs[sys][0], sys_uncs[sys][1], sys)\n",
    "    up_var = max(sys_uncs[sys][0], sys_uncs[sys][1])\n",
    "    down_var = min(sys_uncs[sys][0], sys_uncs[sys][1])\n",
    "    tot_unc_up += up_var**2\n",
    "    tot_unc_down += down_var**2\n",
    "\n",
    "\n",
    "\n",
    "tot_unc_up = tot_unc_up**0.5\n",
    "tot_unc_down = tot_unc_down**0.5\n",
    "print()\n",
    "#Print final calibrated efficiency and total uncertaintiy\n",
    "eff_str += \"\\n Original %.2f, Calibrated %.2f +%.2f/-%.2f \\n\"  % (eff_nom, eff_rw, tot_unc_up, tot_unc_down)\n",
    "\n",
    "print(eff_str)\n",
    "f_ratio.Close()"
   ]
  },
  {
   "cell_type": "code",
   "execution_count": null,
   "id": "ecb98246",
   "metadata": {},
   "outputs": [],
   "source": []
  },
  {
   "cell_type": "code",
   "execution_count": null,
   "id": "d7d82a6b",
   "metadata": {},
   "outputs": [],
   "source": []
  },
  {
   "cell_type": "code",
   "execution_count": null,
   "id": "73778c23",
   "metadata": {},
   "outputs": [],
   "source": []
  }
 ],
 "metadata": {
  "kernelspec": {
   "display_name": "fastjet-env",
   "language": "python",
   "name": "fastjet-env"
  },
  "language_info": {
   "codemirror_mode": {
    "name": "ipython",
    "version": 3
   },
   "file_extension": ".py",
   "mimetype": "text/x-python",
   "name": "python",
   "nbconvert_exporter": "python",
   "pygments_lexer": "ipython3",
   "version": "3.9.18"
  }
 },
 "nbformat": 4,
 "nbformat_minor": 5
}
