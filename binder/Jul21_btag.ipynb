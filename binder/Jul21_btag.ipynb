{
 "cells": [
  {
   "cell_type": "code",
   "execution_count": 1,
   "id": "5f855a8f",
   "metadata": {},
   "outputs": [],
   "source": [
    "import argparse\n",
    "import glob\n",
    "import json\n",
    "import os\n",
    "import pathlib\n",
    "import pickle\n",
    "import pickle as pkl\n",
    "import shutil\n",
    "import sys\n",
    "import time\n",
    "import warnings\n",
    "from collections import defaultdict\n",
    "from typing import List, Optional, Union\n",
    "\n",
    "import awkward as ak\n",
    "import numpy as np\n",
    "import pandas as pd\n",
    "import yaml\n",
    "\n",
    "pd.options.mode.chained_assignment = None\n",
    "sys.path.append(\"../\")\n",
    "\n",
    "import importlib.resources\n",
    "import pickle\n",
    "import sys\n",
    "import warnings\n",
    "from typing import Dict\n",
    "\n",
    "import awkward as ak\n",
    "import correctionlib\n",
    "import hist as hist2\n",
    "import matplotlib.pyplot as plt\n",
    "import mplhep as hep\n",
    "import numpy as np\n",
    "import pyarrow as pa\n",
    "import pyarrow.parquet as pq\n",
    "import uproot\n",
    "from coffea import nanoevents, processor\n",
    "from coffea import util as cutil\n",
    "from coffea.analysis_tools import PackedSelection, Weights\n",
    "from coffea.nanoevents import NanoAODSchema, NanoEventsFactory\n",
    "from coffea.nanoevents.methods import candidate, vector\n",
    "from coffea.nanoevents.methods.nanoaod import FatJetArray, GenParticleArray, JetArray\n",
    "\n",
    "plt.style.use(hep.style.CMS)"
   ]
  },
  {
   "cell_type": "code",
   "execution_count": 2,
   "id": "680e5923",
   "metadata": {},
   "outputs": [],
   "source": [
    "%load_ext autoreload\n",
    "%autoreload 2"
   ]
  },
  {
   "cell_type": "code",
   "execution_count": 3,
   "id": "7e6d9036",
   "metadata": {},
   "outputs": [],
   "source": [
    "pog_correction_path = \"/cvmfs/cms.cern.ch/rsync/cms-nanoAOD/jsonpog-integration/\"\n",
    "pog_jsons = {\n",
    "    \"muon\": [\"MUO\", \"muon_Z.json.gz\"],\n",
    "    \"electron\": [\"EGM\", \"electron.json.gz\"],\n",
    "    \"pileup\": [\"LUM\", \"puWeights.json.gz\"],\n",
    "    \"jec\": [\"JME\", \"fatJet_jerc.json.gz\"],\n",
    "    \"btagging\": [\"BTV\", \"btagging.json.gz\"],\n",
    "}\n",
    "\n",
    "\n",
    "def get_UL_year(year):\n",
    "    if year == \"2016\":\n",
    "        year = \"2016postVFP\"\n",
    "    elif year == \"2016APV\":\n",
    "        year = \"2016preVFP\"\n",
    "    return f\"{year}_UL\"\n",
    "\n",
    "def get_pog_json(obj, year):\n",
    "    try:\n",
    "        pog_json = pog_jsons[obj]\n",
    "    except ValueError:\n",
    "        print(f\"No json for {obj}\")\n",
    "    year = get_UL_year(year)\n",
    "    return f\"{pog_correction_path}POG/{pog_json[0]}/{year}/{pog_json[1]}\""
   ]
  },
  {
   "cell_type": "markdown",
   "id": "06d1858f",
   "metadata": {},
   "source": [
    "# Load some jets"
   ]
  },
  {
   "cell_type": "code",
   "execution_count": 4,
   "id": "fa04df54",
   "metadata": {
    "scrolled": true
   },
   "outputs": [
    {
     "name": "stdout",
     "output_type": "stream",
     "text": [
      "number of events per file: 6000\n"
     ]
    },
    {
     "name": "stderr",
     "output_type": "stream",
     "text": [
      "/uscms/home/fmokhtar/nobackup/miniconda3/envs/coffea-env/lib/python3.8/site-packages/coffea/nanoevents/mapping/uproot.py:86: UserWarning: Found duplicate branch FatJetAK15SubJet_nBHadrons in <TTree 'Events' (2140 branches) at 0x7f8738986f70>, taking first instance\n",
      "  warnings.warn(\n",
      "/uscms/home/fmokhtar/nobackup/miniconda3/envs/coffea-env/lib/python3.8/site-packages/coffea/nanoevents/mapping/uproot.py:86: UserWarning: Found duplicate branch FatJetAK15SubJet_nCHadrons in <TTree 'Events' (2140 branches) at 0x7f8738986f70>, taking first instance\n",
      "  warnings.warn(\n",
      "/uscms/home/fmokhtar/nobackup/miniconda3/envs/coffea-env/lib/python3.8/site-packages/coffea/nanoevents/mapping/uproot.py:86: UserWarning: Found duplicate branch FatJetAK15_nBHadrons in <TTree 'Events' (2140 branches) at 0x7f8738986f70>, taking first instance\n",
      "  warnings.warn(\n",
      "/uscms/home/fmokhtar/nobackup/miniconda3/envs/coffea-env/lib/python3.8/site-packages/coffea/nanoevents/mapping/uproot.py:86: UserWarning: Found duplicate branch FatJetAK15_nCHadrons in <TTree 'Events' (2140 branches) at 0x7f8738986f70>, taking first instance\n",
      "  warnings.warn(\n",
      "/uscms/home/fmokhtar/nobackup/miniconda3/envs/coffea-env/lib/python3.8/site-packages/coffea/nanoevents/mapping/uproot.py:86: UserWarning: Found duplicate branch FatJet_btagDDBvLV2 in <TTree 'Events' (2140 branches) at 0x7f8738986f70>, taking first instance\n",
      "  warnings.warn(\n",
      "/uscms/home/fmokhtar/nobackup/miniconda3/envs/coffea-env/lib/python3.8/site-packages/coffea/nanoevents/mapping/uproot.py:86: UserWarning: Found duplicate branch FatJet_btagDDCvBV2 in <TTree 'Events' (2140 branches) at 0x7f8738986f70>, taking first instance\n",
      "  warnings.warn(\n",
      "/uscms/home/fmokhtar/nobackup/miniconda3/envs/coffea-env/lib/python3.8/site-packages/coffea/nanoevents/mapping/uproot.py:86: UserWarning: Found duplicate branch FatJet_btagDDCvLV2 in <TTree 'Events' (2140 branches) at 0x7f8738986f70>, taking first instance\n",
      "  warnings.warn(\n",
      "/uscms/home/fmokhtar/nobackup/miniconda3/envs/coffea-env/lib/python3.8/site-packages/coffea/nanoevents/mapping/uproot.py:86: UserWarning: Found duplicate branch FatJet_nBHadrons in <TTree 'Events' (2140 branches) at 0x7f8738986f70>, taking first instance\n",
      "  warnings.warn(\n",
      "/uscms/home/fmokhtar/nobackup/miniconda3/envs/coffea-env/lib/python3.8/site-packages/coffea/nanoevents/mapping/uproot.py:86: UserWarning: Found duplicate branch FatJet_nCHadrons in <TTree 'Events' (2140 branches) at 0x7f8738986f70>, taking first instance\n",
      "  warnings.warn(\n",
      "/uscms/home/fmokhtar/nobackup/miniconda3/envs/coffea-env/lib/python3.8/site-packages/coffea/nanoevents/mapping/uproot.py:86: UserWarning: Found duplicate branch SubJet_nBHadrons in <TTree 'Events' (2140 branches) at 0x7f8738986f70>, taking first instance\n",
      "  warnings.warn(\n",
      "/uscms/home/fmokhtar/nobackup/miniconda3/envs/coffea-env/lib/python3.8/site-packages/coffea/nanoevents/mapping/uproot.py:86: UserWarning: Found duplicate branch SubJet_nCHadrons in <TTree 'Events' (2140 branches) at 0x7f8738986f70>, taking first instance\n",
      "  warnings.warn(\n",
      "/uscms/home/fmokhtar/nobackup/miniconda3/envs/coffea-env/lib/python3.8/site-packages/coffea/nanoevents/schemas/nanoaod.py:201: RuntimeWarning: Missing cross-reference index for GenFatJetCands_jetIdx => GenJetAK8\n",
      "  warnings.warn(\n",
      "/uscms/home/fmokhtar/nobackup/miniconda3/envs/coffea-env/lib/python3.8/site-packages/coffea/nanoevents/schemas/nanoaod.py:201: RuntimeWarning: Missing cross-reference index for GenFatJetCands_pFCandsIdx => GenCands\n",
      "  warnings.warn(\n",
      "/uscms/home/fmokhtar/nobackup/miniconda3/envs/coffea-env/lib/python3.8/site-packages/coffea/nanoevents/schemas/nanoaod.py:201: RuntimeWarning: Missing cross-reference index for GenFatJetSVs_jetIdx => GenJetAK8\n",
      "  warnings.warn(\n",
      "/uscms/home/fmokhtar/nobackup/miniconda3/envs/coffea-env/lib/python3.8/site-packages/coffea/nanoevents/schemas/nanoaod.py:201: RuntimeWarning: Missing cross-reference index for GenFatJetSVs_sVIdx => SV\n",
      "  warnings.warn(\n",
      "/uscms/home/fmokhtar/nobackup/miniconda3/envs/coffea-env/lib/python3.8/site-packages/coffea/nanoevents/schemas/nanoaod.py:201: RuntimeWarning: Missing cross-reference index for GenJetCands_jetIdx => GenJet\n",
      "  warnings.warn(\n",
      "/uscms/home/fmokhtar/nobackup/miniconda3/envs/coffea-env/lib/python3.8/site-packages/coffea/nanoevents/schemas/nanoaod.py:201: RuntimeWarning: Missing cross-reference index for GenJetCands_pFCandsIdx => GenCands\n",
      "  warnings.warn(\n",
      "/uscms/home/fmokhtar/nobackup/miniconda3/envs/coffea-env/lib/python3.8/site-packages/coffea/nanoevents/schemas/nanoaod.py:201: RuntimeWarning: Missing cross-reference index for GenJetSVs_jetIdx => GenJet\n",
      "  warnings.warn(\n",
      "/uscms/home/fmokhtar/nobackup/miniconda3/envs/coffea-env/lib/python3.8/site-packages/coffea/nanoevents/schemas/nanoaod.py:201: RuntimeWarning: Missing cross-reference index for GenJetSVs_sVIdx => SV\n",
      "  warnings.warn(\n",
      "/uscms/home/fmokhtar/nobackup/miniconda3/envs/coffea-env/lib/python3.8/site-packages/coffea/nanoevents/schemas/nanoaod.py:201: RuntimeWarning: Missing cross-reference index for JetPFCands_jetIdx => Jet\n",
      "  warnings.warn(\n",
      "/uscms/home/fmokhtar/nobackup/miniconda3/envs/coffea-env/lib/python3.8/site-packages/coffea/nanoevents/schemas/nanoaod.py:201: RuntimeWarning: Missing cross-reference index for JetPFCands_pFCandsIdx => PFCands\n",
      "  warnings.warn(\n",
      "/uscms/home/fmokhtar/nobackup/miniconda3/envs/coffea-env/lib/python3.8/site-packages/coffea/nanoevents/schemas/nanoaod.py:201: RuntimeWarning: Missing cross-reference index for JetSVs_jetIdx => Jet\n",
      "  warnings.warn(\n",
      "/uscms/home/fmokhtar/nobackup/miniconda3/envs/coffea-env/lib/python3.8/site-packages/coffea/nanoevents/schemas/nanoaod.py:201: RuntimeWarning: Missing cross-reference index for JetSVs_sVIdx => SV\n",
      "  warnings.warn(\n"
     ]
    },
    {
     "data": {
      "text/plain": [
       "array([1., 1., 1., ..., 1., 1., 1.])"
      ]
     },
     "execution_count": 4,
     "metadata": {},
     "output_type": "execute_result"
    }
   ],
   "source": [
    "### schema\n",
    "nanoevents.PFNanoAODSchema.mixins[\"PFCands\"] = \"PFCand\"\n",
    "nanoevents.PFNanoAODSchema.mixins[\"SV\"] = \"PFCand\"\n",
    "\n",
    "# load a ggF root file into coffea-friendly NanoAOD structure\n",
    "import uproot\n",
    "f = uproot.open(f\"../rootfiles/ggh.root\")\n",
    "num = f['Events'].num_entries   ### checks number of events per file \n",
    "print(f'number of events per file: {num}')\n",
    "\n",
    "events = nanoevents.NanoEventsFactory.from_root(f, \"Events\", schemaclass=nanoevents.PFNanoAODSchema).events()\n",
    "\n",
    "nevents = len(events)\n",
    "\n",
    "weights = Weights(nevents, storeIndividual=True)\n",
    "weights.weight()"
   ]
  },
  {
   "cell_type": "markdown",
   "id": "9a5e80df",
   "metadata": {},
   "source": [
    "# Real"
   ]
  },
  {
   "cell_type": "code",
   "execution_count": 7,
   "id": "56b478ff",
   "metadata": {},
   "outputs": [
    {
     "data": {
      "text/plain": [
       "<FatJetArray [[FatJet, FatJet], ... [FatJet, FatJet]] type='6000 * var * fatJet'>"
      ]
     },
     "execution_count": 7,
     "metadata": {},
     "output_type": "execute_result"
    }
   ],
   "source": [
    "# from hww processor\n",
    "fatjets = events.FatJet\n",
    "good_fatjets = (fatjets.pt > 200) & (abs(fatjets.eta) < 2.5) & fatjets.isTight\n",
    "jets = fatjets[good_fatjets]  # select good fatjets\n",
    "jets"
   ]
  },
  {
   "cell_type": "code",
   "execution_count": 8,
   "id": "8ffde228",
   "metadata": {},
   "outputs": [
    {
     "data": {
      "text/plain": [
       "3 dimensional histogram with axes:\n",
       "\t1: [ 40.  53.  66.  79.  92. 105. 118. 131. 144. 157. 170. 183. 196. 209.\n",
       " 222. 235. 248. 261. 274. 287. 300.]\n",
       "\t2: [0.    0.625 1.25  1.875 2.5  ]\n",
       "\t3: [0. 1. 2. 3.]"
      ]
     },
     "execution_count": 8,
     "metadata": {},
     "output_type": "execute_result"
    }
   ],
   "source": [
    "year = \"2017\"\n",
    "wp = \"L\"\n",
    "algo = \"deepJet\"\n",
    "\n",
    "cset = correctionlib.CorrectionSet.from_file(get_pog_json(\"btagging\", year))\n",
    "\n",
    "\n",
    "sys.path.append(\"data\")\n",
    "\n",
    "ul_year = get_UL_year(year)\n",
    "\n",
    "import boostedhiggs.data as data\n",
    "with importlib.resources.path(data, f\"btageff_{algo}_{wp}_{ul_year}.coffea\") as filename:\n",
    "    efflookup = cutil.load(filename)\n",
    "                          \n",
    "efflookup"
   ]
  },
  {
   "cell_type": "code",
   "execution_count": 9,
   "id": "fa67c040",
   "metadata": {},
   "outputs": [],
   "source": [
    "def _btagSF(cset, jets, flavour, wp=\"M\", algo=\"deepJet\", syst=\"central\"):\n",
    "    j, nj = ak.flatten(jets), ak.num(jets)\n",
    "    corrs = cset[f\"{algo}_comb\"] if flavour == \"bc\" else cset[f\"{algo}_incl\"]\n",
    "    sf = corrs.evaluate(\n",
    "        syst,\n",
    "        wp,\n",
    "        np.array(j.hadronFlavour),\n",
    "        np.array(abs(j.eta)),\n",
    "        np.array(j.pt),\n",
    "    )\n",
    "    return ak.unflatten(sf, nj)\n",
    "\n",
    "# mutually exclusive and complete set\n",
    "lightJets = jets[(jets.hadronFlavour == 0)]\n",
    "bcJets = jets[(jets.hadronFlavour > 0)]\n",
    "\n",
    "# get efficiency\n",
    "lightEff = efflookup(lightJets.pt, abs(lightJets.eta), lightJets.hadronFlavour)\n",
    "bcEff = efflookup(bcJets.pt, abs(bcJets.eta), bcJets.hadronFlavour)\n",
    "\n",
    "# get sf\n",
    "lightSF = _btagSF(cset, lightJets, \"light\", wp, algo)\n",
    "bcSF = _btagSF(cset, bcJets, \"bc\", wp, algo)"
   ]
  },
  {
   "cell_type": "code",
   "execution_count": 10,
   "id": "050b4fad",
   "metadata": {},
   "outputs": [
    {
     "data": {
      "text/plain": [
       "<Array [0.8, 0.794, 0.802, ... 0.94, 0.64] type='6000 * float64'>"
      ]
     },
     "execution_count": 10,
     "metadata": {},
     "output_type": "execute_result"
    }
   ],
   "source": [
    "# multiplies each jet probability with other jets per event (default is 1 if there are no jets)\n",
    "light_probs = ak.fill_none(ak.prod(1 - lightSF * lightEff, axis=-1), 1)\n",
    "light_probs"
   ]
  },
  {
   "cell_type": "code",
   "execution_count": 11,
   "id": "c93c93c3",
   "metadata": {},
   "outputs": [
    {
     "data": {
      "text/plain": [
       "<Array [1, 1, 1, 1, 0.102, ... 0.206, 1, 1, 1] type='6000 * float64'>"
      ]
     },
     "execution_count": 11,
     "metadata": {},
     "output_type": "execute_result"
    }
   ],
   "source": [
    "# multiplies each jet probability with other jets per event (default is 1 if there are no jets)\n",
    "bc_probs = ak.fill_none(ak.prod(1 - bcSF * bcEff, axis=-1), 1)\n",
    "bc_probs"
   ]
  },
  {
   "cell_type": "code",
   "execution_count": 12,
   "id": "dd24468b",
   "metadata": {},
   "outputs": [
    {
     "data": {
      "text/plain": [
       "<Array [0.8, 0.794, 0.802, ... 0.94, 0.64] type='6000 * float64'>"
      ]
     },
     "execution_count": 12,
     "metadata": {},
     "output_type": "execute_result"
    }
   ],
   "source": [
    "weight = (light_probs * bc_probs)\n",
    "weight"
   ]
  },
  {
   "cell_type": "code",
   "execution_count": 13,
   "id": "d8e339c7",
   "metadata": {},
   "outputs": [
    {
     "data": {
      "text/plain": [
       "(array([1808.,  251.,   64.,    7.,   61.,  128.,  379.,  851.,  757.,\n",
       "        1694.]),\n",
       " array([5.35259582e-05, 1.00048173e-01, 2.00042821e-01, 3.00037468e-01,\n",
       "        4.00032116e-01, 5.00026763e-01, 6.00021410e-01, 7.00016058e-01,\n",
       "        8.00010705e-01, 9.00005353e-01, 1.00000000e+00]),\n",
       " <BarContainer object of 10 artists>)"
      ]
     },
     "execution_count": 13,
     "metadata": {},
     "output_type": "execute_result"
    },
    {
     "data": {
      "image/png": "[encoded data removed]",
      "text/plain": [
       "<Figure size 1000x1000 with 1 Axes>"
      ]
     },
     "metadata": {},
     "output_type": "display_data"
    }
   ],
   "source": [
    "plt.hist(weight)"
   ]
  }
 ],
 "metadata": {
  "kernelspec": {
   "display_name": "Python 3 (ipykernel)",
   "language": "python",
   "name": "python3"
  },
  "language_info": {
   "codemirror_mode": {
    "name": "ipython",
    "version": 3
   },
   "file_extension": ".py",
   "mimetype": "text/x-python",
   "name": "python",
   "nbconvert_exporter": "python",
   "pygments_lexer": "ipython3",
   "version": "3.8.16"
  }
 },
 "nbformat": 4,
 "nbformat_minor": 5
}
