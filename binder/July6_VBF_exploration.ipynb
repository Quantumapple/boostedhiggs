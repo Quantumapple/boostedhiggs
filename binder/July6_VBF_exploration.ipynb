{
 "cells": [
  {
   "cell_type": "markdown",
   "metadata": {},
   "source": [
    "# VBF exploration\n",
    "- processes an `events[year][ch][sample]` object using `make_events_dict()`\n",
    "- makes mjj and $\\eta_{ij}$ and plots to seperate ggF and VBF"
   ]
  },
  {
   "cell_type": "code",
   "execution_count": 1,
   "metadata": {},
   "outputs": [],
   "source": [
    "import glob\n",
    "import os\n",
    "import json\n",
    "import pickle\n",
    "import yaml\n",
    "\n",
    "import numpy as np\n",
    "import pandas as pd\n",
    "pd.options.mode.chained_assignment = None\n",
    "import pyarrow.parquet as pq\n",
    "from sklearn.metrics import auc, roc_curve\n",
    "from scipy.special import softmax\n",
    "\n",
    "import hist as hist2\n",
    "import matplotlib.pyplot as plt\n",
    "import mplhep as hep\n",
    "\n",
    "plt.style.use(hep.style.CMS)\n",
    "\n",
    "import sys\n",
    "sys.path\n",
    "sys.path.append(\"../python/\")\n",
    "\n",
    "import utils\n",
    "\n",
    "plt.rcParams.update({\"font.size\": 20})"
   ]
  },
  {
   "cell_type": "code",
   "execution_count": 2,
   "metadata": {},
   "outputs": [],
   "source": [
    "%load_ext autoreload\n",
    "%autoreload 2"
   ]
  },
  {
   "cell_type": "code",
   "execution_count": 3,
   "metadata": {
    "scrolled": false
   },
   "outputs": [
    {
     "name": "stdout",
     "output_type": "stream",
     "text": [
      "\u001b[34mDYJetsToLL_M-10to50\u001b[m\u001b[m                     \u001b[34mSingleElectron_Run2017E\u001b[m\u001b[m\r\n",
      "\u001b[34mDYJetsToLL_Pt-100To250\u001b[m\u001b[m                  \u001b[34mSingleElectron_Run2017F\u001b[m\u001b[m\r\n",
      "\u001b[34mDYJetsToLL_Pt-250To400\u001b[m\u001b[m                  \u001b[34mSingleMuon_Run2017B\u001b[m\u001b[m\r\n",
      "\u001b[34mDYJetsToLL_Pt-400To650\u001b[m\u001b[m                  \u001b[34mSingleMuon_Run2017C\u001b[m\u001b[m\r\n",
      "\u001b[34mDYJetsToLL_Pt-50To100\u001b[m\u001b[m                   \u001b[34mSingleMuon_Run2017D\u001b[m\u001b[m\r\n",
      "\u001b[34mDYJetsToLL_Pt-650ToInf\u001b[m\u001b[m                  \u001b[34mSingleMuon_Run2017E\u001b[m\u001b[m\r\n",
      "\u001b[34mGluGluHToTauTau\u001b[m\u001b[m                         \u001b[34mSingleMuon_Run2017F\u001b[m\u001b[m\r\n",
      "\u001b[34mGluGluHToWW_Pt-200ToInf_M-125\u001b[m\u001b[m           \u001b[34mTTTo2L2Nu\u001b[m\u001b[m\r\n",
      "\u001b[34mGluGluZH_HToWW_ZTo2L_M-125\u001b[m\u001b[m              \u001b[34mTTToHadronic\u001b[m\u001b[m\r\n",
      "\u001b[34mHWminusJ_HToWW_M-125\u001b[m\u001b[m                    \u001b[34mTTToSemiLeptonic\u001b[m\u001b[m\r\n",
      "\u001b[34mHWplusJ_HToWW_M-125\u001b[m\u001b[m                     \u001b[34mVBFHToWWToLNuQQ_M-125_withDipoleRecoil\u001b[m\u001b[m\r\n",
      "\u001b[34mHZJ_HToWW_M-125\u001b[m\u001b[m                         \u001b[34mWJetsToLNu_HT-100To200\u001b[m\u001b[m\r\n",
      "\u001b[34mQCD_Pt_1000to1400\u001b[m\u001b[m                       \u001b[34mWJetsToLNu_HT-1200To2500\u001b[m\u001b[m\r\n",
      "\u001b[34mQCD_Pt_1400to1800\u001b[m\u001b[m                       \u001b[34mWJetsToLNu_HT-200To400\u001b[m\u001b[m\r\n",
      "\u001b[34mQCD_Pt_170to300\u001b[m\u001b[m                         \u001b[34mWJetsToLNu_HT-2500ToInf\u001b[m\u001b[m\r\n",
      "\u001b[34mQCD_Pt_1800to2400\u001b[m\u001b[m                       \u001b[34mWJetsToLNu_HT-400To600\u001b[m\u001b[m\r\n",
      "\u001b[34mQCD_Pt_2400to3200\u001b[m\u001b[m                       \u001b[34mWJetsToLNu_HT-600To800\u001b[m\u001b[m\r\n",
      "\u001b[34mQCD_Pt_300to470\u001b[m\u001b[m                         \u001b[34mWJetsToLNu_HT-70To100\u001b[m\u001b[m\r\n",
      "\u001b[34mQCD_Pt_3200toInf\u001b[m\u001b[m                        \u001b[34mWJetsToLNu_HT-800To1200\u001b[m\u001b[m\r\n",
      "\u001b[34mQCD_Pt_470to600\u001b[m\u001b[m                         \u001b[34mWJetsToQQ_HT-200to400\u001b[m\u001b[m\r\n",
      "\u001b[34mQCD_Pt_600to800\u001b[m\u001b[m                         \u001b[34mWJetsToQQ_HT-400to600\u001b[m\u001b[m\r\n",
      "\u001b[34mQCD_Pt_800to1000\u001b[m\u001b[m                        \u001b[34mWJetsToQQ_HT-600to800\u001b[m\u001b[m\r\n",
      "\u001b[34mST_s-channel_4f_hadronicDecays\u001b[m\u001b[m          \u001b[34mWJetsToQQ_HT-800toInf\u001b[m\u001b[m\r\n",
      "\u001b[34mST_s-channel_4f_leptonDecays\u001b[m\u001b[m            \u001b[34mWW\u001b[m\u001b[m\r\n",
      "\u001b[34mST_t-channel_antitop_4f_InclusiveDecays\u001b[m\u001b[m \u001b[34mWZ\u001b[m\u001b[m\r\n",
      "\u001b[34mST_t-channel_top_4f_InclusiveDecays\u001b[m\u001b[m     \u001b[34mZJetsToQQ_HT-200to400\u001b[m\u001b[m\r\n",
      "\u001b[34mST_tW_antitop_5f_inclusiveDecays\u001b[m\u001b[m        \u001b[34mZJetsToQQ_HT-400to600\u001b[m\u001b[m\r\n",
      "\u001b[34mST_tW_top_5f_inclusiveDecays\u001b[m\u001b[m            \u001b[34mZJetsToQQ_HT-600to800\u001b[m\u001b[m\r\n",
      "\u001b[34mSingleElectron_Run2017B\u001b[m\u001b[m                 \u001b[34mZJetsToQQ_HT-800toInf\u001b[m\u001b[m\r\n",
      "\u001b[34mSingleElectron_Run2017C\u001b[m\u001b[m                 \u001b[34mZZ\u001b[m\u001b[m\r\n",
      "\u001b[34mSingleElectron_Run2017D\u001b[m\u001b[m                 \u001b[34mttHToNonbb_M125\u001b[m\u001b[m\r\n"
     ]
    }
   ],
   "source": [
    "! ls ../eos/Apr12_presel_2017/"
   ]
  },
  {
   "cell_type": "code",
   "execution_count": 5,
   "metadata": {},
   "outputs": [],
   "source": [
    "presel = {\n",
    "    \"mu\": {\n",
    "        ### part of the preselection\n",
    "        \"lep_fj_dr\": \"( ( lep_fj_dr>0.03) )\",  \n",
    "    },\n",
    "    \"ele\": {\n",
    "        ### part of the preselection\n",
    "        \"lep_fj_dr\": \"( ( lep_fj_dr>0.03) )\",      \n",
    "    }    \n",
    "}\n",
    "\n",
    "weights = {\n",
    "    \"ele\": {\n",
    "        \"weight_L1Prefiring\": 1,\n",
    "        \"weight_genweight\": 1,\n",
    "        \"weight_id_electron\": 1,\n",
    "        \"weight_pileup\": 1,\n",
    "        \"weight_reco_electron\": 1,\n",
    "        \"weight_trigger_electron\": 1,\n",
    "        \"weight_vjets_nominal\": 1,\n",
    "    },\n",
    "    \"mu\": {\n",
    "        \"weight_L1Prefiring\": 1,\n",
    "        \"weight_genweight\": 1,\n",
    "        \"weight_id_muon\": 1,\n",
    "        \"weight_isolation_muon\": 1,\n",
    "        \"weight_pileup\": 1,\n",
    "        \"weight_trigger_iso_muon\": 1,\n",
    "        \"weight_trigger_noniso_muon\": 1,\n",
    "        \"weight_vjets_nominal\": 1   ,\n",
    "    },       \n",
    "}"
   ]
  },
  {
   "cell_type": "code",
   "execution_count": 11,
   "metadata": {},
   "outputs": [],
   "source": [
    "years = [\"2017\"] #, \"2016\", \"2016APV\", \"2018\"]\n",
    "channels = [\"mu\", \"ele\"]\n",
    "\n",
    "samples_dir = f\"../eos/Apr12_presel_\"\n",
    "\n",
    "samples = [\n",
    "    \"HWW\", \n",
    "#     \"VH\",\n",
    "    \"VBF\",\n",
    "#     \"ttH\",\n",
    "#     \"QCD\",\n",
    "#     \"DYJets\",\n",
    "#     \"WJetsLNu\",\n",
    "#     \"WZQQ\",\n",
    "#     \"TTbar\",\n",
    "#     \"SingleTop\",\n",
    "#     \"Diboson\",\n",
    "#     \"Data\"\n",
    "]"
   ]
  },
  {
   "cell_type": "code",
   "execution_count": 12,
   "metadata": {
    "scrolled": true
   },
   "outputs": [
    {
     "name": "stdout",
     "output_type": "stream",
     "text": [
      "ATTENTION: WJetsToLNu_HT-100To200 will be skipped\n",
      "ATTENTION: DYJetsToLL_Pt-400To650 will be skipped\n",
      "Finding VBFHToWWToLNuQQ_M-125_withDipoleRecoil samples and should combine them under VBF\n",
      "---> Applying preselection.\n",
      "applying lep_fj_dr selection on 1509 events\n",
      "---> Done with preselection.\n",
      "---> Accumulating event weights.\n",
      "Applying weight_L1Prefiring weight\n",
      "Applying weight_genweight weight\n",
      "Applying weight_id_muon weight\n",
      "Applying weight_isolation_muon weight\n",
      "Applying weight_pileup weight\n",
      "Applying weight_trigger_iso_muon weight\n",
      "Applying weight_trigger_noniso_muon weight\n",
      "weight_vjets_nominal weight is not stored in parquet\n",
      "---> Done with accumulating event weights.\n",
      "Will apply tagger cut of score>0.99\n",
      "Will fill the VBF dataframe with the remaining 314 events\n",
      "tot event weight 15.48593979702003 \n",
      "\n",
      "ATTENTION: HWminusJ_HToWW_M-125 will be skipped\n",
      "ATTENTION: WJetsToLNu_HT-800To1200 will be skipped\n",
      "ATTENTION: TTToSemiLeptonic will be skipped\n",
      "ATTENTION: DYJetsToLL_Pt-250To400 will be skipped\n",
      "ATTENTION: ST_t-channel_top_4f_InclusiveDecays will be skipped\n",
      "ATTENTION: ST_s-channel_4f_hadronicDecays will be skipped\n",
      "ATTENTION: WJetsToLNu_HT-1200To2500 will be skipped\n",
      "ATTENTION: WJetsToLNu_HT-200To400 will be skipped\n",
      "ATTENTION: ST_tW_top_5f_inclusiveDecays will be skipped\n",
      "Finding GluGluHToWW_Pt-200ToInf_M-125 samples and should combine them under HWW\n",
      "---> Applying preselection.\n",
      "applying lep_fj_dr selection on 19294 events\n",
      "---> Done with preselection.\n",
      "---> Accumulating event weights.\n",
      "Applying weight_L1Prefiring weight\n",
      "Applying weight_genweight weight\n",
      "Applying weight_id_muon weight\n",
      "Applying weight_isolation_muon weight\n",
      "Applying weight_pileup weight\n",
      "Applying weight_trigger_iso_muon weight\n",
      "Applying weight_trigger_noniso_muon weight\n",
      "weight_vjets_nominal weight is not stored in parquet\n",
      "---> Done with accumulating event weights.\n",
      "Will apply tagger cut of score>0.99\n",
      "Will fill the HWW dataframe with the remaining 3977 events\n",
      "tot event weight 31.11137281755248 \n",
      "\n",
      "ATTENTION: WJetsToQQ_HT-200to400 will be skipped\n",
      "ATTENTION: ST_tW_antitop_5f_inclusiveDecays will be skipped\n",
      "ATTENTION: ZJetsToQQ_HT-200to400 will be skipped\n",
      "ATTENTION: SingleElectron_Run2017E will be skipped\n",
      "ATTENTION: SingleElectron_Run2017B will be skipped\n",
      "ATTENTION: QCD_Pt_3200toInf will be skipped\n",
      "ATTENTION: HWplusJ_HToWW_M-125 will be skipped\n",
      "ATTENTION: SingleElectron_Run2017C will be skipped\n",
      "ATTENTION: SingleElectron_Run2017D will be skipped\n",
      "ATTENTION: WJetsToLNu_HT-70To100 will be skipped\n",
      "ATTENTION: SingleMuon_Run2017C will be skipped\n",
      "ATTENTION: ST_s-channel_4f_leptonDecays will be skipped\n",
      "ATTENTION: SingleMuon_Run2017D will be skipped\n",
      "ATTENTION: DYJetsToLL_Pt-50To100 will be skipped\n",
      "ATTENTION: QCD_Pt_1800to2400 will be skipped\n",
      "ATTENTION: SingleMuon_Run2017E will be skipped\n",
      "ATTENTION: SingleMuon_Run2017B will be skipped\n",
      "ATTENTION: WW will be skipped\n",
      "ATTENTION: ST_t-channel_antitop_4f_InclusiveDecays will be skipped\n",
      "ATTENTION: TTTo2L2Nu will be skipped\n",
      "ATTENTION: QCD_Pt_2400to3200 will be skipped\n",
      "ATTENTION: DYJetsToLL_Pt-650ToInf will be skipped\n",
      "ATTENTION: GluGluHToTauTau will be skipped\n",
      "ATTENTION: ZJetsToQQ_HT-400to600 will be skipped\n",
      "ATTENTION: ZZ will be skipped\n",
      "ATTENTION: TTToHadronic will be skipped\n",
      "ATTENTION: GluGluZH_HToWW_ZTo2L_M-125 will be skipped\n",
      "ATTENTION: QCD_Pt_1000to1400 will be skipped\n",
      "ATTENTION: QCD_Pt_600to800 will be skipped\n",
      "ATTENTION: QCD_Pt_300to470 will be skipped\n",
      "ATTENTION: WJetsToQQ_HT-800toInf will be skipped\n",
      "ATTENTION: ZJetsToQQ_HT-600to800 will be skipped\n",
      "ATTENTION: QCD_Pt_170to300 will be skipped\n",
      "ATTENTION: WJetsToLNu_HT-600To800 will be skipped\n",
      "ATTENTION: WJetsToQQ_HT-600to800 will be skipped\n",
      "ATTENTION: WJetsToLNu_HT-2500ToInf will be skipped\n",
      "ATTENTION: ttHToNonbb_M125 will be skipped\n",
      "ATTENTION: ZJetsToQQ_HT-800toInf will be skipped\n",
      "ATTENTION: SingleElectron_Run2017F will be skipped\n",
      "ATTENTION: QCD_Pt_800to1000 will be skipped\n",
      "ATTENTION: WJetsToQQ_HT-400to600 will be skipped\n",
      "ATTENTION: WJetsToLNu_HT-400To600 will be skipped\n",
      "ATTENTION: QCD_Pt_470to600 will be skipped\n",
      "ATTENTION: HZJ_HToWW_M-125 will be skipped\n",
      "ATTENTION: WZ will be skipped\n",
      "ATTENTION: QCD_Pt_1400to1800 will be skipped\n",
      "ATTENTION: DYJetsToLL_Pt-100To250 will be skipped\n",
      "ATTENTION: SingleMuon_Run2017F will be skipped\n",
      "ATTENTION: WJetsToLNu_HT-100To200 will be skipped\n",
      "ATTENTION: DYJetsToLL_Pt-400To650 will be skipped\n",
      "Finding VBFHToWWToLNuQQ_M-125_withDipoleRecoil samples and should combine them under VBF\n",
      "---> Applying preselection.\n",
      "applying lep_fj_dr selection on 985 events\n",
      "---> Done with preselection.\n",
      "---> Accumulating event weights.\n",
      "Applying weight_L1Prefiring weight\n",
      "Applying weight_genweight weight\n",
      "Applying weight_id_electron weight\n",
      "Applying weight_pileup weight\n",
      "Applying weight_reco_electron weight\n",
      "Applying weight_trigger_electron weight\n",
      "weight_vjets_nominal weight is not stored in parquet\n",
      "---> Done with accumulating event weights.\n",
      "Will apply tagger cut of score>0.99\n",
      "Will fill the VBF dataframe with the remaining 186 events\n",
      "tot event weight 8.799490256519746 \n",
      "\n",
      "ATTENTION: HWminusJ_HToWW_M-125 will be skipped\n",
      "ATTENTION: WJetsToLNu_HT-800To1200 will be skipped\n",
      "ATTENTION: TTToSemiLeptonic will be skipped\n",
      "ATTENTION: DYJetsToLL_Pt-250To400 will be skipped\n",
      "ATTENTION: ST_t-channel_top_4f_InclusiveDecays will be skipped\n",
      "ATTENTION: ST_s-channel_4f_hadronicDecays will be skipped\n",
      "ATTENTION: WJetsToLNu_HT-1200To2500 will be skipped\n",
      "ATTENTION: WJetsToLNu_HT-200To400 will be skipped\n",
      "ATTENTION: ST_tW_top_5f_inclusiveDecays will be skipped\n",
      "Finding GluGluHToWW_Pt-200ToInf_M-125 samples and should combine them under HWW\n",
      "---> Applying preselection.\n",
      "applying lep_fj_dr selection on 13875 events\n",
      "---> Done with preselection.\n",
      "---> Accumulating event weights.\n",
      "Applying weight_L1Prefiring weight\n",
      "Applying weight_genweight weight\n",
      "Applying weight_id_electron weight\n",
      "Applying weight_pileup weight\n",
      "Applying weight_reco_electron weight\n",
      "Applying weight_trigger_electron weight\n",
      "weight_vjets_nominal weight is not stored in parquet\n",
      "---> Done with accumulating event weights.\n",
      "Will apply tagger cut of score>0.99\n",
      "Will fill the HWW dataframe with the remaining 2558 events\n",
      "tot event weight 19.51296345145252 \n",
      "\n",
      "ATTENTION: WJetsToQQ_HT-200to400 will be skipped\n",
      "ATTENTION: ST_tW_antitop_5f_inclusiveDecays will be skipped\n",
      "ATTENTION: ZJetsToQQ_HT-200to400 will be skipped\n",
      "ATTENTION: SingleElectron_Run2017E will be skipped\n",
      "ATTENTION: SingleElectron_Run2017B will be skipped\n",
      "ATTENTION: QCD_Pt_3200toInf will be skipped\n",
      "ATTENTION: HWplusJ_HToWW_M-125 will be skipped\n",
      "ATTENTION: SingleElectron_Run2017C will be skipped\n",
      "ATTENTION: SingleElectron_Run2017D will be skipped\n",
      "ATTENTION: WJetsToLNu_HT-70To100 will be skipped\n",
      "ATTENTION: SingleMuon_Run2017C will be skipped\n",
      "ATTENTION: ST_s-channel_4f_leptonDecays will be skipped\n",
      "ATTENTION: SingleMuon_Run2017D will be skipped\n",
      "ATTENTION: DYJetsToLL_Pt-50To100 will be skipped\n",
      "ATTENTION: QCD_Pt_1800to2400 will be skipped\n",
      "ATTENTION: SingleMuon_Run2017E will be skipped\n",
      "ATTENTION: SingleMuon_Run2017B will be skipped\n",
      "ATTENTION: WW will be skipped\n",
      "ATTENTION: ST_t-channel_antitop_4f_InclusiveDecays will be skipped\n",
      "ATTENTION: TTTo2L2Nu will be skipped\n",
      "ATTENTION: QCD_Pt_2400to3200 will be skipped\n",
      "ATTENTION: DYJetsToLL_Pt-650ToInf will be skipped\n",
      "ATTENTION: GluGluHToTauTau will be skipped\n",
      "ATTENTION: ZJetsToQQ_HT-400to600 will be skipped\n",
      "ATTENTION: ZZ will be skipped\n",
      "ATTENTION: TTToHadronic will be skipped\n",
      "ATTENTION: GluGluZH_HToWW_ZTo2L_M-125 will be skipped\n",
      "ATTENTION: QCD_Pt_1000to1400 will be skipped\n",
      "ATTENTION: QCD_Pt_600to800 will be skipped\n",
      "ATTENTION: QCD_Pt_300to470 will be skipped\n",
      "ATTENTION: WJetsToQQ_HT-800toInf will be skipped\n",
      "ATTENTION: ZJetsToQQ_HT-600to800 will be skipped\n",
      "ATTENTION: QCD_Pt_170to300 will be skipped\n",
      "ATTENTION: WJetsToLNu_HT-600To800 will be skipped\n",
      "ATTENTION: WJetsToQQ_HT-600to800 will be skipped\n",
      "ATTENTION: WJetsToLNu_HT-2500ToInf will be skipped\n",
      "ATTENTION: ttHToNonbb_M125 will be skipped\n",
      "ATTENTION: ZJetsToQQ_HT-800toInf will be skipped\n",
      "ATTENTION: SingleElectron_Run2017F will be skipped\n",
      "ATTENTION: QCD_Pt_800to1000 will be skipped\n",
      "ATTENTION: WJetsToQQ_HT-400to600 will be skipped\n",
      "ATTENTION: WJetsToLNu_HT-400To600 will be skipped\n",
      "ATTENTION: QCD_Pt_470to600 will be skipped\n",
      "ATTENTION: HZJ_HToWW_M-125 will be skipped\n",
      "ATTENTION: WZ will be skipped\n",
      "ATTENTION: QCD_Pt_1400to1800 will be skipped\n",
      "ATTENTION: DYJetsToLL_Pt-100To250 will be skipped\n",
      "ATTENTION: SingleMuon_Run2017F will be skipped\n"
     ]
    }
   ],
   "source": [
    "from make_hists import make_events_dict\n",
    "events_dict = make_events_dict(years, channels, samples_dir, samples, presel, weights, \"all\", add_inclusive_score=True,\n",
    "                                  apply_tagger=0.99,\n",
    "#                                   apply_inverse_tagger=0.99,\n",
    "                                 )"
   ]
  },
  {
   "cell_type": "code",
   "execution_count": 13,
   "metadata": {},
   "outputs": [
    {
     "data": {
      "text/plain": [
       "dict_keys(['2017'])"
      ]
     },
     "execution_count": 13,
     "metadata": {},
     "output_type": "execute_result"
    }
   ],
   "source": [
    "events_dict.keys()"
   ]
  },
  {
   "cell_type": "code",
   "execution_count": 14,
   "metadata": {},
   "outputs": [
    {
     "data": {
      "text/plain": [
       "dict_keys(['mu', 'ele'])"
      ]
     },
     "execution_count": 14,
     "metadata": {},
     "output_type": "execute_result"
    }
   ],
   "source": [
    "events_dict[\"2017\"].keys()"
   ]
  },
  {
   "cell_type": "code",
   "execution_count": 15,
   "metadata": {
    "scrolled": true
   },
   "outputs": [
    {
     "data": {
      "text/plain": [
       "dict_keys(['VBF', 'HWW'])"
      ]
     },
     "execution_count": 15,
     "metadata": {},
     "output_type": "execute_result"
    }
   ],
   "source": [
    "events_dict[\"2017\"][\"mu\"].keys()"
   ]
  },
  {
   "cell_type": "markdown",
   "metadata": {},
   "source": [
    "# ggF and VBF"
   ]
  },
  {
   "cell_type": "code",
   "execution_count": 18,
   "metadata": {},
   "outputs": [
    {
     "data": {
      "image/png": "[encoded data removed]",
      "text/plain": [
       "<Figure size 900x700 with 1 Axes>"
      ]
     },
     "metadata": {},
     "output_type": "display_data"
    }
   ],
   "source": [
    "plt.rcParams.update({\"font.size\": 20})\n",
    "\n",
    "samples_to_plot = [\n",
    "    \"HWW\", \n",
    "    \"VBF\",\n",
    "]\n",
    "\n",
    "var = \"mjj\"\n",
    "\n",
    "h = hist2.Hist(\n",
    "    hist2.axis.StrCategory([], name=\"samples\", growth=True),\n",
    "    utils.axis_dict[var],\n",
    ")  \n",
    "    \n",
    "fig, ax = plt.subplots(figsize=(9, 7))\n",
    "\n",
    "for sample in samples_to_plot:\n",
    "  \n",
    "    for year in years:\n",
    "        for ch in channels:\n",
    "\n",
    "            df = events_dict[year][ch][sample]\n",
    "\n",
    "            # tagger cut\n",
    "            df = df[df[\"inclusive_score\"]>0.9]\n",
    "\n",
    "    #         df = df[df[\"lep_fj_dr\"]>0.03]        \n",
    "    #         df = df[df[\"n_bjets_M\"]<2]\n",
    "    #         df = df[(df[\"rec_W_lnu_pt\"]/df[\"rec_W_qq_pt\"])<4.8]\n",
    "\n",
    "            h.fill(\n",
    "                samples=sample,\n",
    "                var=df[var],\n",
    "                weight=df[\"event_weight\"]\n",
    "            )\n",
    "\n",
    "for sample in samples_to_plot:\n",
    "    if sample in utils.sig_labels:\n",
    "        lab = utils.sig_labels[sample]\n",
    "    else:\n",
    "        lab = sample\n",
    "        \n",
    "    hep.histplot(\n",
    "        h[{\"samples\":sample}],\n",
    "        ax=ax,\n",
    "        label=lab,\n",
    "        linewidth=3,\n",
    "        density=True\n",
    "    )\n",
    "\n",
    "# ax.set_title(\"Without dR(Jet,Lepton)>0.03\")\n",
    "ax.legend(title=f\"Semi-Leptonic Channel\")\n",
    "ax.set_ylabel(\"Events\");  "
   ]
  },
  {
   "cell_type": "code",
   "execution_count": 1,
   "metadata": {},
   "outputs": [],
   "source": [
    "import torch"
   ]
  },
  {
   "cell_type": "code",
   "execution_count": 3,
   "metadata": {},
   "outputs": [
    {
     "data": {
      "text/plain": [
       "tensor(100)"
      ]
     },
     "execution_count": 3,
     "metadata": {},
     "output_type": "execute_result"
    }
   ],
   "source": [
    "torch.tensor(5)*20"
   ]
  },
  {
   "cell_type": "code",
   "execution_count": 20,
   "metadata": {},
   "outputs": [
    {
     "data": {
      "text/plain": [
       "<matplotlib.colorbar.Colorbar at 0x2a8138700>"
      ]
     },
     "execution_count": 20,
     "metadata": {},
     "output_type": "execute_result"
    },
    {
     "data": {
      "image/png": "[encoded data removed]",
      "text/plain": [
       "<Figure size 1200x1000 with 2 Axes>"
      ]
     },
     "metadata": {},
     "output_type": "display_data"
    }
   ],
   "source": [
    "samples_to_plot = [\n",
    "    \"HWW\", \n",
    "#     \"VH\",\n",
    "#     \"VBF\",\n",
    "#     \"ttH\",\n",
    "#      \"QCD\",\n",
    "#     \"DYJets\",\n",
    "#     \"WJetsLNu\",\n",
    "#     \"TTbar\",\n",
    "]\n",
    "\n",
    "var1 = \"mjj\"\n",
    "var2 = \"deta\"\n",
    "\n",
    "from matplotlib.colors import LogNorm\n",
    "fig, ax = plt.subplots(figsize=(12, 10))\n",
    "\n",
    "for sample in samples_to_plot:\n",
    "    \n",
    "    for year in years:\n",
    "        for i, ch in enumerate(channels):\n",
    "            df = events_dict[year][ch][sample]\n",
    "            df = df[df[\"inclusive_score\"]>0.9]\n",
    "\n",
    "            if i==0:\n",
    "                dff = df\n",
    "            else:\n",
    "                dff = pd.concat([dff, df])\n",
    "\n",
    "\n",
    "    x = dff[var1].dropna()\n",
    "    y = dff[var2].dropna()\n",
    "\n",
    "    plt.hist2d(\n",
    "        x,\n",
    "        y,\n",
    "        density=True,\n",
    "#         norm=LogNorm(),\n",
    "        bins=[30,20]\n",
    "          )\n",
    "\n",
    "ax.set_xlim(80,2000)\n",
    "ax.set_ylim(0, 7)\n",
    "ax.set_xlabel(r\"$m_{jj}$\");\n",
    "ax.set_ylabel(r\"$|\\Delta \\eta_{jj}|$\");\n",
    "ax.set_title(utils.sig_labels[sample])\n",
    "plt.colorbar()"
   ]
  },
  {
   "cell_type": "code",
   "execution_count": null,
   "metadata": {},
   "outputs": [],
   "source": []
  }
 ],
 "metadata": {
  "kernelspec": {
   "display_name": "xai",
   "language": "python",
   "name": "xai"
  },
  "language_info": {
   "codemirror_mode": {
    "name": "ipython",
    "version": 3
   },
   "file_extension": ".py",
   "mimetype": "text/x-python",
   "name": "python",
   "nbconvert_exporter": "python",
   "pygments_lexer": "ipython3",
   "version": "3.9.16"
  }
 },
 "nbformat": 4,
 "nbformat_minor": 4
}
