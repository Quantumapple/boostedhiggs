{
 "cells": [
  {
   "cell_type": "code",
   "execution_count": 1,
   "metadata": {},
   "outputs": [],
   "source": [
    "import glob\n",
    "import pandas as pd\n",
    "import json\n",
    "import pickle as pkl\n",
    "\n",
    "import numpy as np\n",
    "import matplotlib.pyplot as plt\n",
    "import hist\n",
    "import mplhep\n",
    "import matplotlib as mpl\n",
    "from matplotlib.lines import Line2D"
   ]
  },
  {
   "cell_type": "code",
   "execution_count": 2,
   "metadata": {},
   "outputs": [],
   "source": [
    "def get_sum_sumgenweight(pkl_files, year, sample):\n",
    "    sum_sumgenweight = 0\n",
    "    for ifile in pkl_files:\n",
    "        # load and sum the sumgenweight of each\n",
    "        with open(ifile, \"rb\") as f:\n",
    "            metadata = pkl.load(f)\n",
    "        sum_sumgenweight = sum_sumgenweight + metadata[sample][year][\"sumgenweight\"]\n",
    "    return sum_sumgenweight\n",
    "\n",
    "def get_xsecweight(pkl_files, year, sample, is_data, luminosity):\n",
    "    if not is_data:\n",
    "        # find xsection\n",
    "        f = open(\"../fileset/xsec_pfnano.json\")\n",
    "        xsec = json.load(f)\n",
    "        f.close()\n",
    "        try:\n",
    "            xsec = eval(str((xsec[sample])))\n",
    "        except ValueError:\n",
    "            print(f\"sample {sample} doesn't have xsecs defined in xsec_pfnano.json so will skip it\")\n",
    "            return None\n",
    "\n",
    "        # get overall weighting of events.. each event has a genweight...\n",
    "        # sumgenweight sums over events in a chunk... sum_sumgenweight sums over chunks\n",
    "        xsec_weight = (xsec * luminosity) / get_sum_sumgenweight(pkl_files, year, sample)\n",
    "    else:\n",
    "        xsec_weight = 1\n",
    "    return xsec_weight"
   ]
  },
  {
   "cell_type": "code",
   "execution_count": 31,
   "metadata": {},
   "outputs": [
    {
     "name": "stdout",
     "output_type": "stream",
     "text": [
      "mu all /eos/uscms/store/user/cmantill/boostedhiggs/Jan16_nosel_2018/\n",
      "ele lep /eos/uscms/store/user/cmantill/boostedhiggs/Jan16_lepsel_2018/\n"
     ]
    },
    {
     "name": "stdout",
     "output_type": "stream",
     "text": [
      "mu lep /eos/uscms/store/user/cmantill/boostedhiggs/Jan16_lepsel_2018/\n",
      "ele semi /eos/uscms/store/user/cmantill/boostedhiggs/Jan16_allsel_2018/\n",
      "mu semi /eos/uscms/store/user/cmantill/boostedhiggs/Jan16_allsel_2018/\n",
      "mu had /eos/uscms/store/user/cmantill/boostedhiggs/Jan16_hadsel_2018/\n"
     ]
    }
   ],
   "source": [
    "hpt_axis = hist.axis.Regular(\n",
    "    40, 0, 800, name=\"hpt\", label=r\"Gen Higgs p$_T$\"\n",
    ")\n",
    "qqqq_axis = hist.axis.Regular(2, 0, 2, name=\"qqqq\", label=\"qqqq\")\n",
    "ele_axis = hist.axis.Regular(2, 0, 2, name=\"ele\", label=\"ele\")\n",
    "mu_axis = hist.axis.Regular(2, 0, 2, name=\"mu\", label=\"mu\")\n",
    "tau_axis = hist.axis.Regular(2, 0, 2, name=\"tau\", label=\"tau\")\n",
    "lep_axis = hist.axis.Regular(2, 0, 2, name=\"lep\", label=\"lep\")\n",
    "\n",
    "sample_axis = hist.axis.StrCategory([], name=\"name\", growth=True)\n",
    "tag_axis = hist.axis.StrCategory([], name=\"tag\", growth=True)\n",
    "h_hpt = hist.Hist(hpt_axis, sample_axis, tag_axis, qqqq_axis, ele_axis, mu_axis, tau_axis, lep_axis)\n",
    "samples_dict = {\n",
    "    \"ggH\": [\"GluGluHToWW_Pt-200ToInf_M-125\"],\n",
    "}\n",
    "\n",
    "tags = {\n",
    "    #\"all\": \"/eos/uscms/store/user/cmantill/boostedhiggs/Jan5_nosel_2016/\",\n",
    "    \"all\": \"/eos/uscms/store/user/cmantill/boostedhiggs/Jan16_nosel_2018/\",\n",
    "    \"lep\": \"/eos/uscms/store/user/cmantill/boostedhiggs/Jan16_lepsel_2018/\",\n",
    "    \"semi\": \"/eos/uscms/store/user/cmantill/boostedhiggs/Jan16_allsel_2018/\",\n",
    "    \"had\": \"/eos/uscms/store/user/cmantill/boostedhiggs/Jan16_hadsel_2018/\",\n",
    "}\n",
    "\n",
    "for tag, odir in tags.items():\n",
    "    for ch in [\"ele\", \"mu\"]:\n",
    "        if tag == \"all\" and ch==\"ele\": \n",
    "            continue\n",
    "        if tag == \"had\" and ch==\"ele\": \n",
    "            continue\n",
    "        #if tag == \"all\":\n",
    "        #    year = \"2016\"\n",
    "        year = \"2018\"\n",
    "        for key,samples in samples_dict.items():\n",
    "            for sample in samples:\n",
    "                print(ch, tag, odir)\n",
    "                parquet_files = glob.glob(f\"{odir}/{sample}/outfiles/*_{ch}.parquet\")\n",
    "                pkl_files = glob.glob(f\"{odir}/{sample}/outfiles/*.pkl\")\n",
    "\n",
    "                columns = [\"fj_genH_pt\", f\"weight_{ch}\", 'fj_H_VV_4q', \"fj_H_VV_elenuqq\", \"fj_H_VV_munuqq\", \"fj_H_VV_taunuqq\"]\n",
    "                if tag!=\"semi\":\n",
    "                    columns.append(\"fj_H_VV_lep\")\n",
    "                data = pd.read_parquet(parquet_files, columns=columns)\n",
    "                luminosity = 137640.0\n",
    "\n",
    "                event_weight = get_xsecweight(pkl_files, year, sample, False, luminosity)\n",
    "                event_weight *= data[f\"weight_{ch}\"]\n",
    "\n",
    "                hpt = data[\"fj_genH_pt\"].values\n",
    "                qqqq = data[\"fj_H_VV_4q\"].values\n",
    "                ele = data[\"fj_H_VV_elenuqq\"].values\n",
    "                mu = data[\"fj_H_VV_munuqq\"].values\n",
    "                tau = data[\"fj_H_VV_taunuqq\"].values\n",
    "                if tag!=\"semi\":\n",
    "                    ll = data[\"fj_H_VV_lep\"].values\n",
    "                    h_hpt.fill(hpt, key, tag, qqqq, ele, mu, tau, ll, weight=event_weight)\n",
    "                else:\n",
    "                    h_hpt.fill(hpt, key, tag, qqqq, ele, mu, tau, tau, weight=event_weight)\n",
    "\n"
   ]
  },
  {
   "cell_type": "code",
   "execution_count": 4,
   "metadata": {},
   "outputs": [
    {
     "data": {
      "text/plain": [
       "Hist(\n",
       "  Regular(40, 0, 800, name='hpt', label='Gen Higgs p$_T$'),\n",
       "  Regular(2, 0, 2, name='qqqq'),\n",
       "  Regular(2, 0, 2, name='ele'),\n",
       "  Regular(2, 0, 2, name='mu'),\n",
       "  Regular(2, 0, 2, name='tau'),\n",
       "  Regular(2, 0, 2, name='lep'),\n",
       "  storage=Double()) # Sum: 11772.963180609264 (11786.585892179999 with flow)"
      ]
     },
     "execution_count": 4,
     "metadata": {},
     "output_type": "execute_result"
    }
   ],
   "source": [
    "h_hpt[{\"name\": \"ggH\", \"tag\": \"all\"}]"
   ]
  },
  {
   "cell_type": "code",
   "execution_count": 5,
   "metadata": {},
   "outputs": [
    {
     "data": {
      "text/plain": [
       "Hist(\n",
       "  Regular(40, 0, 800, name='hpt', label='Gen Higgs p$_T$'),\n",
       "  Regular(2, 0, 2, name='qqqq'),\n",
       "  Regular(2, 0, 2, name='ele'),\n",
       "  Regular(2, 0, 2, name='mu'),\n",
       "  Regular(2, 0, 2, name='tau'),\n",
       "  Regular(2, 0, 2, name='lep'),\n",
       "  storage=Double()) # Sum: 1403.8589415341974 (1406.0391258120871 with flow)"
      ]
     },
     "execution_count": 5,
     "metadata": {},
     "output_type": "execute_result"
    }
   ],
   "source": [
    "h_hpt[{\"name\": \"ggH\", \"tag\": \"lep\"}]"
   ]
  },
  {
   "cell_type": "code",
   "execution_count": 6,
   "metadata": {},
   "outputs": [
    {
     "data": {
      "text/plain": [
       "Hist(\n",
       "  Regular(40, 0, 800, name='hpt', label='Gen Higgs p$_T$'),\n",
       "  Regular(2, 0, 2, name='qqqq'),\n",
       "  Regular(2, 0, 2, name='ele'),\n",
       "  Regular(2, 0, 2, name='mu'),\n",
       "  Regular(2, 0, 2, name='tau'),\n",
       "  Regular(2, 0, 2, name='lep'),\n",
       "  storage=Double()) # Sum: 7515.351049344631 (7525.02735946694 with flow)"
      ]
     },
     "execution_count": 6,
     "metadata": {},
     "output_type": "execute_result"
    }
   ],
   "source": [
    "h_hpt[{\"name\": \"ggH\", \"tag\": \"had\"}]"
   ]
  },
  {
   "cell_type": "code",
   "execution_count": null,
   "metadata": {},
   "outputs": [],
   "source": []
  },
  {
   "cell_type": "code",
   "execution_count": 32,
   "metadata": {},
   "outputs": [
    {
     "name": "stdout",
     "output_type": "stream",
     "text": [
      "0.45544506428581655 0.14656573627720332 0.14715739409127987 0.1455055584916458 0.10511591016042705\n"
     ]
    }
   ],
   "source": [
    "all = h_hpt[{\"name\": \"ggH\", \"tag\": \"all\"}].sum()\n",
    "all_qqqq = h_hpt[{\"name\": \"ggH\", \"tag\": \"all\", \"qqqq\":1}].sum()\n",
    "all_ele = h_hpt[{\"name\": \"ggH\", \"tag\": \"all\", \"ele\":1}].sum()\n",
    "all_mu = h_hpt[{\"name\": \"ggH\", \"tag\": \"all\", \"mu\":1}].sum()\n",
    "all_tau = h_hpt[{\"name\": \"ggH\", \"tag\": \"all\", \"tau\":1}].sum()\n",
    "all_lep = h_hpt[{\"name\": \"ggH\", \"tag\": \"all\", \"lep\":1}].sum()\n",
    "\n",
    "print(all_qqqq/all, all_ele/all, all_mu/all, all_tau/all, all_lep/all)"
   ]
  },
  {
   "cell_type": "code",
   "execution_count": 8,
   "metadata": {},
   "outputs": [
    {
     "name": "stdout",
     "output_type": "stream",
     "text": [
      "0.6180297714008298 0.1082176259025654 0.06846592329510756 0.16379321205205857 0.01619629665369303\n",
      "0.3945235043861812 0.06908145688622978 0.04370568739463325 0.1045585099678586 0.010339016030586928\n"
     ]
    }
   ],
   "source": [
    "had = h_hpt[{\"name\": \"ggH\", \"tag\": \"had\"}].sum()\n",
    "had_qqqq = h_hpt[{\"name\": \"ggH\", \"tag\": \"had\", \"qqqq\":1}].sum()\n",
    "had_ele = h_hpt[{\"name\": \"ggH\", \"tag\": \"had\", \"ele\":1}].sum()\n",
    "had_mu = h_hpt[{\"name\": \"ggH\", \"tag\": \"had\", \"mu\":1}].sum()\n",
    "had_tau = h_hpt[{\"name\": \"ggH\", \"tag\": \"had\", \"tau\":1}].sum()\n",
    "had_lep = h_hpt[{\"name\": \"ggH\", \"tag\": \"had\", \"lep\":1}].sum()\n",
    "\n",
    "print(had_qqqq/had, had_ele/had, had_mu/had, had_tau/had, had_lep/had)\n",
    "print(had_qqqq/all, had_ele/all, had_mu/all, had_tau/all, had_lep/all)"
   ]
  },
  {
   "cell_type": "code",
   "execution_count": 9,
   "metadata": {},
   "outputs": [
    {
     "name": "stdout",
     "output_type": "stream",
     "text": [
      "0.000581637104498018 0.31990838550781026 0.4355928210137759 0.033199795404402814 0.05610625416022691\n",
      "6.935691867468714e-05 0.038147256606273244 0.05194196798776093 0.003958886893687273 0.006690351899558784\n"
     ]
    }
   ],
   "source": [
    "lep = h_hpt[{\"name\": \"ggH\", \"tag\": \"lep\"}].sum()\n",
    "lep_qqqq = h_hpt[{\"name\": \"ggH\", \"tag\": \"lep\", \"qqqq\":1}].sum()\n",
    "lep_ele = h_hpt[{\"name\": \"ggH\", \"tag\": \"lep\", \"ele\":1}].sum()\n",
    "lep_mu = h_hpt[{\"name\": \"ggH\", \"tag\": \"lep\", \"mu\":1}].sum()\n",
    "lep_tau = h_hpt[{\"name\": \"ggH\", \"tag\": \"lep\", \"tau\":1}].sum()\n",
    "lep_lep = h_hpt[{\"name\": \"ggH\", \"tag\": \"lep\", \"lep\":1}].sum()\n",
    "\n",
    "print(lep_qqqq/lep, lep_ele/lep, lep_mu/lep, lep_tau/lep, lep_lep/lep)\n",
    "print(lep_qqqq/all, lep_ele/all, lep_mu/all, lep_tau/all, lep_lep/all)"
   ]
  },
  {
   "cell_type": "code",
   "execution_count": 33,
   "metadata": {},
   "outputs": [
    {
     "name": "stdout",
     "output_type": "stream",
     "text": [
      "0.0009777624258182698 0.33736645287802536 0.5575032703530608 0.032937260502892945\n",
      "2.3116848714809064e-05 0.007976221060147993 0.013180828408268532 0.0007787225690212293\n"
     ]
    }
   ],
   "source": [
    "semi = h_hpt[{\"name\": \"ggH\", \"tag\": \"semi\"}].sum()\n",
    "semi_qqqq = h_hpt[{\"name\": \"ggH\", \"tag\": \"semi\", \"qqqq\":1}].sum()\n",
    "semi_ele = h_hpt[{\"name\": \"ggH\", \"tag\": \"semi\", \"ele\":1}].sum()\n",
    "semi_mu = h_hpt[{\"name\": \"ggH\", \"tag\": \"semi\", \"mu\":1}].sum()\n",
    "semi_tau = h_hpt[{\"name\": \"ggH\", \"tag\": \"semi\", \"tau\":1}].sum()\n",
    "\n",
    "print(semi_qqqq/semi, semi_ele/semi, semi_mu/semi, semi_tau/semi)\n",
    "print(semi_qqqq/all, semi_ele/all, semi_mu/all, semi_tau/all)"
   ]
  },
  {
   "cell_type": "code",
   "execution_count": 41,
   "metadata": {},
   "outputs": [
    {
     "data": {
      "image/png": "[encoded data removed]",
      "text/plain": [
       "<Figure size 1200x800 with 1 Axes>"
      ]
     },
     "metadata": {},
     "output_type": "display_data"
    }
   ],
   "source": [
    "import seaborn as sns\n",
    "import matplotlib.pyplot as plt\n",
    "\n",
    "sns.set(style='white')\n",
    "fig, ax = plt.subplots(figsize=(12, 8))\n",
    "plotdata = pd.DataFrame({\n",
    "    #\"Selection\": [\"All\", \"Semi-leptonic\"],\n",
    "    \"4q\": [all_qqqq/all, had_qqqq/had, lep_qqqq/lep, semi_qqqq/semi],\n",
    "    r\"$e\\nu$qq\" :[all_ele/all, had_ele/had, lep_ele/lep, semi_ele/semi],\n",
    "    r\"$\\mu\\nu$qq\" :[all_mu/all, had_mu/had, lep_mu/lep, semi_mu/semi],\n",
    "    r\"$\\tau\\nu$qq\" :[all_tau/all, had_tau/had, lep_tau/lep, semi_tau/semi],\n",
    "    \"di-lepton\": [all_lep/all, \n",
    "                  (1-had_qqqq/had-had_ele/had-had_mu/had-had_tau/had),\n",
    "                  (1-lep_qqqq/lep-lep_ele/lep-lep_mu/lep-lep_tau/lep),\n",
    "                  (1-semi_qqqq/semi-semi_ele/semi-semi_mu/semi-semi_tau/semi), \n",
    "                  ],\n",
    "    },\n",
    "    index=[\"All\", \"Hadronic\", \"Semi-Lep\", \"Semi-Lep Pre-Sel\"],\n",
    ")\n",
    "plotdata.plot(kind='bar', stacked=True, ax=ax)\n",
    "y_offset = -0.02\n",
    "\n",
    "for bar in ax.patches:\n",
    "  x = ax.text(\n",
    "      # Put the text in the middle of each bar. get_x returns the start\n",
    "      # so we add half the width to get to the middle.\n",
    "      bar.get_x() + bar.get_width() / 2,\n",
    "      # Vertically, add the height of the bar to the start of the bar,\n",
    "      # along with the offset.\n",
    "      bar.get_height() + bar.get_y() + y_offset,\n",
    "      # This is actual value we'll show.\n",
    "      f\"{round(bar.get_height()*100)}%\",\n",
    "      # Center the labels and style them a bit.\n",
    "      ha='center',\n",
    "      color='w',\n",
    "      weight='bold',\n",
    "      size=8\n",
    "  )\n",
    "ax.set_ylabel(\"Gen-Level Decay Fraction\")\n",
    "ax.legend(borderpad=2)\n",
    "#ax.set_ylim(0, 1)\n",
    "fig.savefig(\"decayfraction.png\")\n",
    "\n"
   ]
  },
  {
   "cell_type": "code",
   "execution_count": null,
   "metadata": {},
   "outputs": [],
   "source": []
  },
  {
   "cell_type": "code",
   "execution_count": null,
   "metadata": {},
   "outputs": [],
   "source": []
  }
 ],
 "metadata": {
  "kernelspec": {
   "display_name": "coffea-env",
   "language": "python",
   "name": "python3"
  },
  "language_info": {
   "codemirror_mode": {
    "name": "ipython",
    "version": 3
   },
   "file_extension": ".py",
   "mimetype": "text/x-python",
   "name": "python",
   "nbconvert_exporter": "python",
   "pygments_lexer": "ipython3",
   "version": "3.8.16"
  },
  "orig_nbformat": 4
 },
 "nbformat": 4,
 "nbformat_minor": 2
}
