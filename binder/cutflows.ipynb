{
 "cells": [
  {
   "cell_type": "code",
   "execution_count": 1,
   "metadata": {},
   "outputs": [],
   "source": [
    "import glob\n",
    "import os\n",
    "import json\n",
    "import pickle as pkl\n",
    "import yaml\n",
    "\n",
    "import numpy as np\n",
    "import pandas as pd\n",
    "pd.options.mode.chained_assignment = None\n",
    "import pyarrow.parquet as pq\n",
    "from sklearn.metrics import auc, roc_curve\n",
    "from scipy.special import softmax\n",
    "\n",
    "import hist as hist2\n",
    "import matplotlib.pyplot as plt\n",
    "import mplhep as hep\n",
    "\n",
    "plt.style.use(hep.style.CMS)\n",
    "\n",
    "import sys\n",
    "sys.path\n",
    "sys.path.append(\"../python/\")\n",
    "\n",
    "import utils\n",
    "\n",
    "plt.rcParams.update({\"font.size\": 20})"
   ]
  },
  {
   "cell_type": "code",
   "execution_count": 2,
   "metadata": {},
   "outputs": [],
   "source": [
    "%load_ext autoreload\n",
    "%autoreload 2"
   ]
  },
  {
   "cell_type": "code",
   "execution_count": 6,
   "metadata": {
    "scrolled": false
   },
   "outputs": [
    {
     "data": {
      "text/plain": [
       "{'ele': {'Run2': 137640.0,\n",
       "  '2016APV': 19492.72,\n",
       "  '2016': 16809.96,\n",
       "  '2017': 41476.02,\n",
       "  '2018': 59816.23},\n",
       " 'mu': {'Run2': 137640.0,\n",
       "  '2016APV': 19436.16,\n",
       "  '2016': 16810.81,\n",
       "  '2017': 41475.26,\n",
       "  '2018': 59781.96},\n",
       " 'lep': {'Run2': 137640.0,\n",
       "  '2016APV': 19436.16,\n",
       "  '2016': 16810.81,\n",
       "  '2017': 41475.26,\n",
       "  '2018': 59781.96}}"
      ]
     },
     "execution_count": 6,
     "metadata": {},
     "output_type": "execute_result"
    }
   ],
   "source": [
    "# get lumi\n",
    "with open(\"../fileset/luminosity.json\") as f:\n",
    "    luminosity = json.load(f)\n",
    "    \n",
    "luminosity"
   ]
  },
  {
   "cell_type": "code",
   "execution_count": 7,
   "metadata": {},
   "outputs": [],
   "source": [
    "def get_lumi(years, channels):\n",
    "    lum_ = 0\n",
    "    for year in years:\n",
    "        lum = 0\n",
    "        for ch in channels:\n",
    "            lum += luminosity[ch][year] / 1000.0\n",
    "\n",
    "        lum_ += lum / len(channels)    \n",
    "    return lum_"
   ]
  },
  {
   "cell_type": "markdown",
   "metadata": {},
   "source": [
    "# Read cutflows from pkl"
   ]
  },
  {
   "cell_type": "code",
   "execution_count": 60,
   "metadata": {
    "scrolled": true
   },
   "outputs": [],
   "source": [
    "def get_sum_sumgenweight(pkl_files, year, sample):\n",
    "    sum_sumgenweight = 0\n",
    "    for ifile in pkl_files:\n",
    "        # load and sum the sumgenweight of each\n",
    "\n",
    "#         try:\n",
    "        with open(ifile, \"rb\") as f:\n",
    "            metadata = pkl.load(f)\n",
    "#         except:\n",
    "#             print(ifile)\n",
    "#             continue\n",
    "            \n",
    "        sum_sumgenweight = sum_sumgenweight + metadata[sample][year][\"sumgenweight\"]\n",
    "    return sum_sumgenweight\n",
    "\n",
    "\n",
    "def get_xsecweight(pkl_files, year, ch, sample, is_data):\n",
    "    \n",
    "    if not is_data:\n",
    "        # find xsection\n",
    "        f = open(\"../fileset/xsec_pfnano.json\")\n",
    "        xsec = json.load(f)\n",
    "        f.close()\n",
    "        try:\n",
    "            xsec = eval(str((xsec[sample])))\n",
    "        except ValueError:\n",
    "            print(f\"sample {sample} doesn't have xsecs defined in xsec_pfnano.json so will skip it\")\n",
    "            return None\n",
    "\n",
    "        # get overall weighting of events.. each event has a genweight...\n",
    "        # sumgenweight sums over events in a chunk... sum_sumgenweight sums over chunks\n",
    "        xsec_weight = (xsec * luminosity[ch][year]) / get_sum_sumgenweight(pkl_files, year, sample)\n",
    "    else:\n",
    "        xsec_weight = 1\n",
    "    return xsec_weight\n",
    "\n",
    "def get_cutflow(pkl_files, year, ch, sample, is_data):\n",
    "    \"\"\"\n",
    "    Get cutflow from metadata but multiply by xsec-weight\n",
    "    \"\"\"\n",
    "    xsec_weight = get_xsecweight(pkl_files, year, ch, sample, is_data)\n",
    "    \n",
    "    \n",
    "    \n",
    "    \n",
    "    if year == \"2018\":\n",
    "        cuts = {\n",
    "            \"mu\": [\"sumgenweight\", \"HEMCleaning\"],\n",
    "            \"ele\": [\"sumgenweight\", \"HEMCleaning\"],\n",
    "        }\n",
    "    else:\n",
    "        cuts = {\n",
    "            \"mu\": [\"sumgenweight\"],\n",
    "            \"ele\": [\"sumgenweight\"],\n",
    "        }\n",
    "        \n",
    "    cuts[\"mu\"] += [\n",
    "            \"Trigger\",\n",
    "            \"METFilters\",\n",
    "            \"OneLep\",\n",
    "            \"NoTaus\",\n",
    "            \"LepIso\",\n",
    "            \"LepMiniIso\",\n",
    "            \"OneCandidateJet\",\n",
    "            \"CandidateJetpT\",\n",
    "            \"LepInJet\",\n",
    "            \"JetLepOverlap\",\n",
    "            \"dPhiJetMETCut\",\n",
    "    ]\n",
    "    cuts[\"ele\"] += [\n",
    "            \"Trigger\",\n",
    "            \"METFilters\",\n",
    "            \"OneLep\",\n",
    "            \"NoTaus\",\n",
    "            \"LepIso\",\n",
    "            \"OneCandidateJet\",\n",
    "            \"CandidateJetpT\",\n",
    "            \"LepInJet\",\n",
    "            \"JetLepOverlap\",\n",
    "            \"dPhiJetMETCut\",\n",
    "    ]\n",
    "        \n",
    "        \n",
    "    evyield = dict.fromkeys(cuts[ch], 0)\n",
    "    for ik, pkl_file in enumerate(pkl_files):\n",
    "#         try:\n",
    "        with open(pkl_file, \"rb\") as f:\n",
    "            metadata = pkl.load(f)\n",
    "#         except:\n",
    "#             continue\n",
    "            \n",
    "        cutflows = metadata[sample][year][\"cutflows\"][ch]\n",
    "\n",
    "        for key in evyield.keys():\n",
    "\n",
    "            if key == \"sumgenweight\":\n",
    "                evyield[key] += metadata[sample][year][key] * xsec_weight\n",
    "\n",
    "            else:\n",
    "                evyield[key] += cutflows[key] * xsec_weight\n",
    "    return evyield"
   ]
  },
  {
   "cell_type": "code",
   "execution_count": 61,
   "metadata": {},
   "outputs": [],
   "source": [
    "channels = [\"ele\", \"mu\"]\n",
    "\n",
    "samples_dir = {\n",
    "    \"2016\":    \"../eos/Dec7_2016\",\n",
    "    \"2016APV\":    \"../eos/Dec7_2016APV\",    \n",
    "    \"2017\":    \"../eos/Dec7_2017\",    \n",
    "    \"2018\":    \"../eos/Dec7_2018\",    \n",
    "}"
   ]
  },
  {
   "cell_type": "code",
   "execution_count": 62,
   "metadata": {},
   "outputs": [
    {
     "name": "stdout",
     "output_type": "stream",
     "text": [
      "Processing year 2018\n",
      "------------------------------------------\n",
      "------------------------------------------\n"
     ]
    }
   ],
   "source": [
    "years = [\"2018\", \"2017\", \"2016\", \"2016APV\"]\n",
    "years = [\"2018\"]\n",
    "\n",
    "samples = [\n",
    "    \"ggF\", \n",
    "    \"VH\",\n",
    "    \"VBF\",\n",
    "    \"ttH\",\n",
    "    \"QCD\",\n",
    "    \"DYJets\",\n",
    "    \"WJetsLNu\",\n",
    "    \"WZQQ\",\n",
    "    \"TTbar\",\n",
    "    \"SingleTop\",\n",
    "    \"Diboson\",\n",
    "    \"Data\"\n",
    "]\n",
    "\n",
    "cutflows = {}\n",
    "for year in years:\n",
    "    print(f\"Processing year {year}\")\n",
    "    \n",
    "    cutflows[year] = {}\n",
    "    \n",
    "    for ch in channels:\n",
    "        cutflows[year][ch] = {}\n",
    "\n",
    "        condor_dir = os.listdir(samples_dir[year])\n",
    "\n",
    "        for sample in condor_dir:\n",
    "\n",
    "            # get a combined label to combine samples of the same process\n",
    "            for key in utils.combine_samples:\n",
    "                if key in sample:\n",
    "                    sample_to_use = utils.combine_samples[key]\n",
    "                    break\n",
    "                else:\n",
    "                    sample_to_use = sample\n",
    "\n",
    "            if sample_to_use not in samples:\n",
    "                continue\n",
    "\n",
    "            is_data = False\n",
    "            if sample_to_use == \"Data\":\n",
    "                is_data = True\n",
    "\n",
    "#             print(f\"Finding {sample} samples and should combine them under {sample_to_use}\")\n",
    "\n",
    "            out_files = f\"{samples_dir[year]}/{sample}/outfiles/\"\n",
    "            pkl_files = glob.glob(f\"{out_files}/*.pkl\")\n",
    "\n",
    "            if sample_to_use not in cutflows[year][ch].keys():\n",
    "                cutflows[year][ch][sample_to_use] = get_cutflow(pkl_files, year, ch, sample, is_data)\n",
    "            else:\n",
    "                temp = get_cutflow(pkl_files, year, ch, sample, is_data)\n",
    "                for key in cutflows[year][ch][sample_to_use]:\n",
    "                    cutflows[year][ch][sample_to_use][key] += temp[key]\n",
    "                    \n",
    "        print(f\"------------------------------------------\")                    "
   ]
  },
  {
   "cell_type": "code",
   "execution_count": 63,
   "metadata": {},
   "outputs": [
    {
     "data": {
      "text/plain": [
       "{'sumgenweight': 928778102.961436,\n",
       " 'HEMCleaning': 842390239.9772264,\n",
       " 'Trigger': 15650037.717472265,\n",
       " 'METFilters': 15643565.840687772,\n",
       " 'OneLep': 8623497.252108831,\n",
       " 'NoTaus': 7367612.349143975,\n",
       " 'LepIso': 7311988.948920526,\n",
       " 'LepMiniIso': 7288653.22525193,\n",
       " 'OneCandidateJet': 305340.60629390244,\n",
       " 'CandidateJetpT': 116855.31775893093,\n",
       " 'LepInJet': 68650.87293821659,\n",
       " 'JetLepOverlap': 20420.557996393,\n",
       " 'dPhiJetMETCut': 11534.684483343655}"
      ]
     },
     "execution_count": 63,
     "metadata": {},
     "output_type": "execute_result"
    }
   ],
   "source": [
    "cutflows[\"2018\"][\"mu\"][\"DYJets\"]"
   ]
  },
  {
   "cell_type": "markdown",
   "metadata": {},
   "source": [
    "# Combine different channels"
   ]
  },
  {
   "cell_type": "code",
   "execution_count": 64,
   "metadata": {},
   "outputs": [],
   "source": [
    "common_cuts = [\n",
    "    \"sumgenweight\",\n",
    "    \"HEMCleaning\",\n",
    "    \"Trigger\",\n",
    "    \"METFilters\",\n",
    "    \"OneLep\",\n",
    "    \"NoTaus\",\n",
    "    \"LepIso\",\n",
    "    \"LepMiniIso\",\n",
    "    \"OneCandidateJet\",\n",
    "    \"CandidateJetpT\",\n",
    "    \"LepInJet\",\n",
    "    \"JetLepOverlap\",\n",
    "    \"dPhiJetMETCut\",    \n",
    "]\n",
    "\n",
    "def combine_channels(cutflows):\n",
    "    \"\"\"Must add lepminiso cutflow to electron channel.\"\"\"\n",
    "    \n",
    "    for year in cutflows.keys():\n",
    "        cutflows[year][\"ele_new\"] = {}   \n",
    "\n",
    "        for sample in cutflows[year][\"ele\"].keys():\n",
    "            cutflows[year][\"ele_new\"][sample] = {}\n",
    "\n",
    "            for cut in common_cuts:\n",
    "                if (year != \"2018\") and (cut == \"HEMCleaning\"):\n",
    "                    continue\n",
    "\n",
    "                if cut != \"LepMiniIso\":\n",
    "                    cutflows[year][\"ele_new\"][sample][cut] = cutflows[year][\"ele\"][sample][cut]\n",
    "                else:\n",
    "                    cutflows[year][\"ele_new\"][sample][cut] = cutflows[year][\"ele\"][sample][\"LepIso\"]\n",
    "\n",
    "    # combine both channels\n",
    "    cutflows_new = {}\n",
    "    for year in cutflows.keys():\n",
    "        cutflows_new[year] = {}\n",
    "        cutflows_new[year][\"lep\"] = {}\n",
    "        \n",
    "        for ch in [\"mu\", \"ele_new\"]:\n",
    "            for sample in cutflows[year][ch]:\n",
    "                                \n",
    "                if sample not in cutflows_new[year][\"lep\"]:\n",
    "                    cutflows_new[year][\"lep\"][sample] = {}\n",
    "                \n",
    "                for cut in cutflows[year][ch][sample]:\n",
    "                    \n",
    "                    if (year != \"2018\") and (cut == \"HEMCleaning\"):\n",
    "                        continue\n",
    "                    \n",
    "                    if cut not in cutflows_new[year][\"lep\"][sample]:\n",
    "                        cutflows_new[year][\"lep\"][sample][cut] = cutflows[year][ch][sample][cut]\n",
    "                    else:\n",
    "                        cutflows_new[year][\"lep\"][sample][cut] += cutflows[year][ch][sample][cut]\n",
    "        cutflows[year] = {**cutflows[year], **cutflows_new[year]}\n",
    "    return cutflows"
   ]
  },
  {
   "cell_type": "code",
   "execution_count": 65,
   "metadata": {},
   "outputs": [],
   "source": [
    "cutflows = combine_channels(cutflows)"
   ]
  },
  {
   "cell_type": "code",
   "execution_count": 66,
   "metadata": {},
   "outputs": [
    {
     "data": {
      "text/plain": [
       "dict_keys(['ele', 'mu', 'ele_new', 'lep'])"
      ]
     },
     "execution_count": 66,
     "metadata": {},
     "output_type": "execute_result"
    }
   ],
   "source": [
    "cutflows[\"2018\"].keys()"
   ]
  },
  {
   "cell_type": "code",
   "execution_count": 67,
   "metadata": {},
   "outputs": [
    {
     "data": {
      "text/plain": [
       "{'sumgenweight': 174534156.24243575,\n",
       " 'HEMCleaning': 152544253.42998582,\n",
       " 'Trigger': 19610911.867145076,\n",
       " 'METFilters': 19604260.45292857,\n",
       " 'OneLep': 14705765.040219942,\n",
       " 'NoTaus': 14705765.040219942,\n",
       " 'LepIso': 14666020.040222298,\n",
       " 'LepMiniIso': 14666020.040222298,\n",
       " 'OneCandidateJet': 1004898.2436864963,\n",
       " 'CandidateJetpT': 429668.16663510434,\n",
       " 'LepInJet': 167356.05221906185,\n",
       " 'JetLepOverlap': 55525.78137068763,\n",
       " 'dPhiJetMETCut': 38091.92035000902}"
      ]
     },
     "execution_count": 67,
     "metadata": {},
     "output_type": "execute_result"
    }
   ],
   "source": [
    "cutflows[\"2018\"][\"ele_new\"][\"WJetsLNu\"]"
   ]
  },
  {
   "cell_type": "code",
   "execution_count": 800,
   "metadata": {},
   "outputs": [
    {
     "data": {
      "text/plain": [
       "{'HEMCleaning': 152456857.55824593,\n",
       " 'Trigger': 27497622.76075047,\n",
       " 'METFilters': 27487027.431077946,\n",
       " 'OneLep': 23220936.566750303,\n",
       " 'NoTaus': 19831202.04224224,\n",
       " 'LepIso': 19650556.46503639,\n",
       " 'LepMiniIso': 19595620.436108947,\n",
       " 'OneCandidateJet': 1198018.1657662333,\n",
       " 'CandidateJetpT': 511328.95239884075,\n",
       " 'LepInJet': 186068.4529091031,\n",
       " 'JetLepOverlap': 71049.09347281557,\n",
       " 'dPhiJetMETCut': 49270.34303106995}"
      ]
     },
     "execution_count": 800,
     "metadata": {},
     "output_type": "execute_result"
    }
   ],
   "source": [
    "cutflows[\"2018\"][\"mu\"][\"WJetsLNu\"]"
   ]
  },
  {
   "cell_type": "code",
   "execution_count": 798,
   "metadata": {},
   "outputs": [
    {
     "data": {
      "text/plain": [
       "{'HEMCleaning': 305001110.9882318,\n",
       " 'Trigger': 47108534.62789555,\n",
       " 'METFilters': 47091287.884006515,\n",
       " 'OneLep': 37926701.60697024,\n",
       " 'NoTaus': 34536967.082462184,\n",
       " 'LepIso': 34316576.50525869,\n",
       " 'LepMiniIso': 34261640.47633125,\n",
       " 'OneCandidateJet': 2202916.40945273,\n",
       " 'CandidateJetpT': 940997.119033945,\n",
       " 'LepInJet': 353424.50512816495,\n",
       " 'JetLepOverlap': 126574.8748435032,\n",
       " 'dPhiJetMETCut': 87362.26338107897}"
      ]
     },
     "execution_count": 798,
     "metadata": {},
     "output_type": "execute_result"
    }
   ],
   "source": [
    "cutflows[\"2018\"][\"lep\"][\"WJetsLNu\"]"
   ]
  },
  {
   "cell_type": "markdown",
   "metadata": {},
   "source": [
    "# Combine different years"
   ]
  },
  {
   "cell_type": "code",
   "execution_count": 801,
   "metadata": {},
   "outputs": [],
   "source": [
    "def combine_years(cutflows):\n",
    "    \"\"\"Will remove the HEM cleaning cutflow from 2018 first.\"\"\"\n",
    "    \n",
    "    whatever_year = list(cutflows.keys())[0]\n",
    "    channels = cutflows[whatever_year].keys()\n",
    "    \n",
    "    # combine all years\n",
    "    cutflows_new = {}\n",
    "    cutflows_new[\"Run2\"] = {}\n",
    "    \n",
    "    for ch in channels:\n",
    "        cutflows_new[\"Run2\"][ch] = {}\n",
    "        \n",
    "        for year in cutflows:\n",
    "            for sample in cutflows[year][ch]:\n",
    "                \n",
    "                if sample not in cutflows_new[\"Run2\"][ch]:\n",
    "                    cutflows_new[\"Run2\"][ch][sample] = {}\n",
    "\n",
    "                for cut in cutflows[year][ch][sample]:\n",
    "                    if \"HEM\" in cut:\n",
    "                        continue\n",
    "                    if cut not in cutflows_new[\"Run2\"][ch][sample]:\n",
    "                        cutflows_new[\"Run2\"][ch][sample][cut] = cutflows[year][ch][sample][cut]\n",
    "                    else:\n",
    "                        cutflows_new[\"Run2\"][ch][sample][cut] += cutflows[year][ch][sample][cut]\n",
    "\n",
    "    cutflows = {**cutflows, **cutflows_new}\n",
    "\n",
    "    return cutflows"
   ]
  },
  {
   "cell_type": "code",
   "execution_count": 802,
   "metadata": {},
   "outputs": [],
   "source": [
    "cutflows = combine_years(cutflows)"
   ]
  },
  {
   "cell_type": "code",
   "execution_count": 803,
   "metadata": {},
   "outputs": [
    {
     "data": {
      "text/plain": [
       "dict_keys(['2018', '2017', '2016', '2016APV', 'Run2'])"
      ]
     },
     "execution_count": 803,
     "metadata": {},
     "output_type": "execute_result"
    }
   ],
   "source": [
    "cutflows.keys()"
   ]
  },
  {
   "cell_type": "code",
   "execution_count": 804,
   "metadata": {},
   "outputs": [
    {
     "data": {
      "text/plain": [
       "dict_keys(['ele', 'mu', 'ele_new', 'lep'])"
      ]
     },
     "execution_count": 804,
     "metadata": {},
     "output_type": "execute_result"
    }
   ],
   "source": [
    "cutflows[\"Run2\"].keys()"
   ]
  },
  {
   "cell_type": "markdown",
   "metadata": {},
   "source": [
    "# Combine non-dominant backgrounds"
   ]
  },
  {
   "cell_type": "code",
   "execution_count": 68,
   "metadata": {},
   "outputs": [],
   "source": [
    "# combine non-dominant backgrounds under others\n",
    "dominant_bkgs = [\"WJetsLNu\", \"QCD\", \"DYJets\", \"TTbar\"]\n",
    "signals = [\"ggF\", \"VH\", \"VBF\", \"ttH\"]\n",
    "\n",
    "for year in cutflows:\n",
    "    for ch in cutflows[year]:\n",
    "        cutflows[year][ch][\"Others\"] = dict.fromkeys(cutflows[year][ch][\"WJetsLNu\"], 0)\n",
    "        for sample in cutflows[year][ch]:\n",
    "            if sample == \"Data\":\n",
    "                continue\n",
    "            if sample not in signals+dominant_bkgs:\n",
    "                for cut in cutflows[year][ch][sample]:\n",
    "                    cutflows[year][ch][\"Others\"][cut] += cutflows[year][ch][sample][cut]"
   ]
  },
  {
   "cell_type": "code",
   "execution_count": 69,
   "metadata": {},
   "outputs": [
    {
     "data": {
      "text/plain": [
       "dict_keys(['DYJets', 'WJetsLNu', 'VBF', 'VH', 'TTbar', 'SingleTop', 'ggF', 'WZQQ', 'QCD', 'Data', 'Diboson', 'ttH', 'Others'])"
      ]
     },
     "execution_count": 69,
     "metadata": {},
     "output_type": "execute_result"
    }
   ],
   "source": [
    "cutflows[\"2018\"][\"ele\"].keys()"
   ]
  },
  {
   "cell_type": "code",
   "execution_count": 74,
   "metadata": {},
   "outputs": [
    {
     "data": {
      "text/plain": [
       "{'sumgenweight': 13284181901.759933,\n",
       " 'HEMCleaning': 11607920684.327732,\n",
       " 'Trigger': 61086555.23502068,\n",
       " 'METFilters': 60973073.66302854,\n",
       " 'OneLep': 7862585.62357918,\n",
       " 'NoTaus': 7225765.694807127,\n",
       " 'LepIso': 6029014.552542027,\n",
       " 'LepMiniIso': 1282409.9383668636,\n",
       " 'OneCandidateJet': 993188.5877481492,\n",
       " 'CandidateJetpT': 470078.56365667214,\n",
       " 'LepInJet': 349939.05248699925,\n",
       " 'JetLepOverlap': 149117.04666754606,\n",
       " 'dPhiJetMETCut': 77484.95629044574}"
      ]
     },
     "execution_count": 74,
     "metadata": {},
     "output_type": "execute_result"
    }
   ],
   "source": [
    "cutflows[\"2018\"][\"lep\"][\"QCD\"]"
   ]
  },
  {
   "cell_type": "markdown",
   "metadata": {},
   "source": [
    "# Plot cutflows"
   ]
  },
  {
   "cell_type": "code",
   "execution_count": 38,
   "metadata": {},
   "outputs": [],
   "source": [
    "plt.rcParams.update({\"font.size\": 20})"
   ]
  },
  {
   "cell_type": "code",
   "execution_count": 75,
   "metadata": {},
   "outputs": [],
   "source": [
    "# PLOTTING UTILS\n",
    "color_by_sample = {\n",
    "    \"ggF\": \"pink\",\n",
    "    \"VH\": \"tab:brown\",\n",
    "    \"VBF\": \"tab:gray\",\n",
    "    \"ttH\": \"tab:olive\",\n",
    "    \"DYJets\": \"tab:purple\",\n",
    "    \"QCD\": \"tab:orange\",\n",
    "    \"Diboson\": \"orchid\",\n",
    "    \"WJetsLNu\": \"tab:green\",\n",
    "    \"TTbar\": \"tab:blue\",\n",
    "    \"WZQQ\": \"salmon\",\n",
    "    \"SingleTop\": \"tab:cyan\",\n",
    "    #     \"WplusHToTauTau\": \"tab:cyan\",\n",
    "    #     \"WminusHToTauTau\": \"tab:cyan\",\n",
    "    #     \"ttHToTauTau\": \"tab:cyan\",\n",
    "    #     \"GluGluHToTauTau\": \"tab:cyan\",\n",
    "    #     \"ZHToTauTau\": \"tab:cyan\",\n",
    "    #     \"VBFHToTauTau\": \"tab:cyan\",\n",
    "    \"Others\": \"tab:grey\",\n",
    "}\n",
    "\n",
    "cut_to_label = {\n",
    "    \"sumgenweight\": \"sumgenweight\",        \n",
    "    \"HEMCleaning\": \"HEMCleaning\",    \n",
    "    \"Trigger\": \"Trigger\",\n",
    "    \"METFilters\": \"METFilters\",\n",
    "    \"OneLep\": \"n Leptons = 1\",\n",
    "    \"NoTaus\": \"n Taus = 0\",\n",
    "    \"LepIso\": r\"$\\ell$ relative isolation\",\n",
    "    \"LepMiniIso\": r\"$\\ell$ mini-isolation\",    \n",
    "    \"OneCandidateJet\": \"n FatJets = 1\",\n",
    "    \"CandidateJetpT\": r\"j $p_T > 250$GeV\",\n",
    "    \"LepInJet\": r\"$\\Delta R(j, \\ell) < 0.8$\",\n",
    "    \"JetLepOverlap\": r\"$\\Delta R(j, \\ell) > 0.03$\",\n",
    "    \"dPhiJetMETCut\": r\"$\\Delta \\phi(\\mathrm{MET}, j)<1.57$\",\n",
    "#     \"$\\mathrm{MET}>20~\\GeV$\"\n",
    "} \n",
    "\n",
    "combine_samples = {\n",
    "    # data\n",
    "    \"SingleElectron_\": \"Data\",\n",
    "    \"SingleMuon_\": \"Data\",\n",
    "    \"EGamma_\": \"Data\",\n",
    "    # signal\n",
    "    \"GluGluHToWW_Pt-200ToInf_M-125\": \"ggF\",\n",
    "    \"HToWW_M-125\": \"VH\",\n",
    "    \"VBFHToWWToLNuQQ_M-125_withDipoleRecoil\": \"VBF\",\n",
    "    \"ttHToNonbb_M125\": \"ttH\",\n",
    "    # bkg\n",
    "    \"QCD_Pt\": \"QCD\",\n",
    "    \"DYJets\": \"DYJets\",\n",
    "    \"WJetsToLNu_\": \"WJetsLNu\",\n",
    "    \"JetsToQQ\": \"WZQQ\",\n",
    "    \"TT\": \"TTbar\",\n",
    "    \"ST_\": \"SingleTop\",\n",
    "    \"WW\": \"Diboson\",\n",
    "    \"WZ\": \"Diboson\",\n",
    "    \"ZZ\": \"Diboson\",\n",
    "    \"GluGluHToTauTau\": \"HTauTau\",\n",
    "}\n",
    "signals = [\"ggF\", \"ttH\", \"VH\", \"VBF\"]"
   ]
  },
  {
   "cell_type": "code",
   "execution_count": 40,
   "metadata": {},
   "outputs": [
    {
     "data": {
      "text/plain": [
       "(exptext: Custom Text(0.001, 1, 'CMS'),\n",
       " expsuffix: Custom Text(0.001, 1.005, 'Work in Progress'))"
      ]
     },
     "execution_count": 40,
     "metadata": {},
     "output_type": "execute_result"
    },
    {
     "data": {
      "image/png": "[encoded data removed]",
      "text/plain": [
       "<Figure size 1200x1000 with 1 Axes>"
      ]
     },
     "metadata": {},
     "output_type": "display_data"
    }
   ],
   "source": [
    "year = \"2018\"\n",
    "ch = \"lep\"\n",
    "\n",
    "samples = [\n",
    "    \"Data\",\n",
    "    \"ggF\", \n",
    "    \"VH\",\n",
    "    \"VBF\",\n",
    "    \"ttH\",\n",
    "    \"QCD\",\n",
    "    \"DYJets\",\n",
    "    \"WJetsLNu\",\n",
    "    \"TTbar\",\n",
    "    \"Others\"    \n",
    "#     \"WZQQ\",    \n",
    "#     \"SingleTop\",\n",
    "#     \"Diboson\",\n",
    "]\n",
    "\n",
    "labels = list(cutflows[year][ch][samples[0]].keys())  \n",
    "values = [[cutflows[year][ch][sample][label] for label in labels] for sample in samples]\n",
    "for i, lab in enumerate(labels):\n",
    "    labels[i] = cut_to_label[lab]\n",
    "\n",
    "# Sort the samples by yield\n",
    "sorted_idx = sorted(range(len(values)), key=lambda i: sum(values[i]), reverse=False)\n",
    "samples = [samples[i] for i in sorted_idx]\n",
    "values = [values[i] for i in sorted_idx]\n",
    "\n",
    "fig, ax = plt.subplots(figsize=(12, 10))\n",
    "# Plot the cutflows as a stacked bar chart for each sample\n",
    "bottom = [0] * len(labels)\n",
    "for i, sample in enumerate(samples):\n",
    "    \n",
    "    if sample==\"Data\":\n",
    "#         ax.bar(labels, values[i], bottom=0, label=sample, linewidth=3, fill=False)\n",
    "        continue\n",
    "    else:\n",
    "        ax.bar(labels, values[i], bottom=bottom, label=sample, edgecolor=color_by_sample[sample], linewidth=1, fill=True)\n",
    "        bottom = [sum(x) for x in zip(bottom, values[i])]\n",
    "    \n",
    "    \n",
    "for i, sample in enumerate(samples):\n",
    "    \n",
    "    if sample==\"Data\":\n",
    "        ax.bar(labels, values[i], bottom=0, label=sample, linewidth=3, fill=False)\n",
    "    else:\n",
    "        continue\n",
    "    \n",
    "# ax.legend(title=\"Semi-leptonic channel\")\n",
    "ax.legend()\n",
    "\n",
    "plt.xticks(rotation=45, ha='right')\n",
    "ax.set_xlabel('Inclusive selection')\n",
    "ax.set_ylabel(r'Events (normalized to $\\sigma$)')\n",
    "ax.set_yscale(\"log\")\n",
    "# ax.set_ylim(1,10**11)\n",
    " \n",
    "hep.cms.lumitext(\"%.0f \" % get_lumi([year], [ch]) + r\"fb$^{-1}$ (13 TeV)\", ax=ax, fontsize=20)\n",
    "hep.cms.text(\"Work in Progress\", ax=ax, fontsize=15)"
   ]
  },
  {
   "cell_type": "markdown",
   "metadata": {},
   "source": [
    "# Latex cutflow table"
   ]
  },
  {
   "cell_type": "code",
   "execution_count": 76,
   "metadata": {},
   "outputs": [],
   "source": [
    "cuts = {\n",
    "    \"mu\": [\n",
    "        \"sumgenweight\",\n",
    "        \"HEMCleaning\",        \n",
    "        \"Trigger\",\n",
    "        \"METFilters\",\n",
    "        \"OneLep\",\n",
    "        \"NoTaus\",\n",
    "        \"LepIso\",\n",
    "        \"LepMiniIso\",\n",
    "        \"OneCandidateJet\",\n",
    "        \"CandidateJetpT\",\n",
    "        \"LepInJet\",\n",
    "        \"JetLepOverlap\",\n",
    "        \"dPhiJetMETCut\",\n",
    "    ],\n",
    "    \"ele\": [\n",
    "        \"sumgenweight\",\n",
    "        \"HEMCleaning\",        \n",
    "        \"Trigger\",\n",
    "        \"METFilters\",\n",
    "        \"OneLep\",\n",
    "        \"NoTaus\",\n",
    "        \"LepIso\",\n",
    "        \"OneCandidateJet\",\n",
    "        \"CandidateJetpT\",\n",
    "        \"LepInJet\",\n",
    "        \"JetLepOverlap\",\n",
    "        \"dPhiJetMETCut\",\n",
    "    ],  \n",
    "    \"lep\": [\n",
    "        \"sumgenweight\",\n",
    "        \"HEMCleaning\",\n",
    "        \"Trigger\",\n",
    "        \"METFilters\",\n",
    "        \"OneLep\",\n",
    "        \"NoTaus\",\n",
    "        \"LepIso\",\n",
    "        \"LepMiniIso\",\n",
    "        \"OneCandidateJet\",\n",
    "        \"CandidateJetpT\",\n",
    "        \"LepInJet\",\n",
    "        \"JetLepOverlap\",\n",
    "        \"dPhiJetMETCut\",\n",
    "    ],\n",
    "}"
   ]
  },
  {
   "cell_type": "code",
   "execution_count": 80,
   "metadata": {},
   "outputs": [],
   "source": [
    "parquet_to_latex = {\n",
    "    \"WJetsLNu\": \"$\\PW(\\Pell\\PGn)$+\",\n",
    "    \"QCD\": \"QCD\",\n",
    "    \"DYJets\": \"$\\PZ(\\Pell\\Pell)$+jets\",\n",
    "    \"TTbar\": \"\\\\ttbar\",\n",
    "    \"Others\": \"Others\",\n",
    "\n",
    "    \"ggF\": \"ggF\",\n",
    "    \"VBF\": \"VBF\",\n",
    "    \"VH\": \"VH\",\n",
    "    \"ttH\": \"$t\\\\bar{t}H$\",    \n",
    "    \n",
    "    \"Data\": \"Data\",\n",
    "}\n",
    "\n",
    "def make_latex_cutflow_table(cutflows, year, ch, add_data=False, add_sumgenweight=False):\n",
    "    \"\"\"\"\"\"\n",
    "        \n",
    "    \n",
    "    ### backgrounds\n",
    "    samples = [\"WJetsLNu\",\"QCD\",\"DYJets\",\"TTbar\",\"Others\"]\n",
    "    headers = [parquet_to_latex[s] for s in samples]\n",
    "    \n",
    "    textabular = f\"l{'r'*len(headers)}\"\n",
    "\n",
    "    data = dict()\n",
    "    \n",
    "    for cut in cuts[ch]: \n",
    "        if (year != \"2018\") and (cut == \"HEMCleaning\"):\n",
    "            continue\n",
    "            \n",
    "        if not add_sumgenweight and cut == \"sumgenweight\":\n",
    "            continue\n",
    "    \n",
    "        data[cut] = []\n",
    "\n",
    "        for sample in samples:\n",
    "            data[cut].append(round(cutflows[year][ch][sample][cut]))\n",
    "        \n",
    "    texheader = \"\\\\textbf{Inclusive Selection}\" + \" & \" + \" & \".join(headers) + \"\\\\\\\\\"\n",
    "    texdata = \"\\\\hline\\n\"\n",
    "    for label in data:\n",
    "        if label == \"z\":\n",
    "            texdata += \"\\\\hline\\n\"\n",
    "        texdata += f\"{cut_to_label[label]} & {' & '.join(map(str,data[label]))} \\\\\\\\\\n\"\n",
    "    texdata += \"\\\\hline\\n\"    \n",
    "\n",
    "    ### signal\n",
    "    if add_data:\n",
    "        samples2 = [r\"ggF\",\"VBF\",\"VH\",\"ttH\", \"Data\"]\n",
    "    else:\n",
    "        samples2 = [r\"ggF\",\"VBF\",\"VH\",\"ttH\"]\n",
    "    headers2 = [parquet_to_latex[s] for s in samples2]    \n",
    "    texheader2 = \" & \" + \" & \".join(headers2) + \"\\\\\\\\\"\n",
    "    texdata2 = \"\\\\hline\\n\"\n",
    "\n",
    "    data = dict()\n",
    "    for cut in cuts[ch]:\n",
    "        if (year != \"2018\") and (cut == \"HEMCleaning\"):\n",
    "            continue\n",
    "            \n",
    "        data[cut] = []\n",
    "\n",
    "        for sample in samples2:\n",
    "            data[cut].append(round(cutflows[year][ch][sample][cut]))\n",
    "        \n",
    "    for label in data:\n",
    "        if label == \"z\":\n",
    "            texdata += \"\\\\hline\\n\"\n",
    "        texdata2 += f\"{cut_to_label[label]} & {' & '.join(map(str,data[label]))} \\\\\\\\\\n\"    \n",
    "\n",
    "    # make table\n",
    "    print(\"\\\\begin{table}[!htp]\")\n",
    "    print(\"\\\\begin{center}\")\n",
    "    \n",
    "    print(\"\\\\begin{tabular}{\"+textabular+\"}\")\n",
    "    print(texheader)\n",
    "    print(texdata,end=\"\")\n",
    "    print(texheader2)\n",
    "    print(texdata2,end=\"\")\n",
    "    print(\"\\\\end{tabular}\")\n",
    "    \n",
    "    \n",
    "    if ch == \"lep\":\n",
    "        print(\"\\\\caption{Event yield of \" + year + \" Monte Carlo samples normalized to \" + str(round(get_lumi([year], [ch]))) + \"\\\\fbinv.}\")        \n",
    "    else:\n",
    "        print(\"\\\\caption{Event yield of \" + ch + \" channel \" + year + \" Monte Carlo samples normalized to \" + str(round(get_lumi([year], [ch]))) + \"\\\\fbinv.}\")\n",
    "        \n",
    "    print(\"\\\\label{sel-tab-cutflow\" + year + \"}\")\n",
    "    print(\"\\\\end{center}\")\n",
    "    print(\"\\\\end{table}\")    "
   ]
  },
  {
   "cell_type": "code",
   "execution_count": 82,
   "metadata": {},
   "outputs": [
    {
     "name": "stdout",
     "output_type": "stream",
     "text": [
      "\\begin{table}[!htp]\n",
      "\\begin{center}\n",
      "\\begin{tabular}{lrrrrr}\n",
      "\\textbf{Inclusive Selection} & $\\PW(\\Pell\\PGn)$+ & QCD & $\\PZ(\\Pell\\Pell)$+jets & \\ttbar & Others\\\\\n",
      "\\hline\n",
      "sumgenweight & 348968318 & 13284181902 & 1858088628 & 99476871 & 1078972207 \\\\\n",
      "HEMCleaning & 305001111 & 11607920684 & 1685263380 & 85326640 & 937670186 \\\\\n",
      "Trigger & 47108535 & 61086555 & 27217323 & 10550449 & 8558059 \\\\\n",
      "METFilters & 47091288 & 60973074 & 27204447 & 10544497 & 8552944 \\\\\n",
      "n Leptons = 1 & 37926702 & 7862586 & 15889523 & 7571378 & 5563817 \\\\\n",
      "n Taus = 0 & 34536967 & 7225766 & 14633639 & 6026714 & 4809029 \\\\\n",
      "$\\ell$ relative isolation & 34316577 & 6029015 & 14555461 & 5949933 & 4716027 \\\\\n",
      "$\\ell$ mini-isolation & 34261640 & 1282410 & 14532125 & 5901957 & 4603713 \\\\\n",
      "n FatJets = 1 & 2202916 & 993189 & 690071 & 1041499 & 342031 \\\\\n",
      "j $p_T > 250$GeV & 940997 & 470079 & 272874 & 507607 & 162931 \\\\\n",
      "$\\Delta R(j, \\ell) < 0.8$ & 353425 & 349939 & 162347 & 227182 & 67997 \\\\\n",
      "$\\Delta R(j, \\ell) > 0.03$ & 126575 & 149117 & 60319 & 197300 & 33182 \\\\\n",
      "$\\Delta \\phi(\\mathrm{MET}, j)<1.57$ & 87362 & 77485 & 32869 & 124359 & 21660 \\\\\n",
      "\\hline\n",
      " & ggF & VBF & VH & $t\\bar{t}H$ & Data\\\\\n",
      "\\hline\n",
      "sumgenweight & 12053 & 41882 & 60726 & 25127 & 0 \\\\\n",
      "HEMCleaning & 10462 & 36321 & 52703 & 21361 & 3856806228 \\\\\n",
      "Trigger & 1281 & 4237 & 5939 & 3901 & 1342535812 \\\\\n",
      "METFilters & 1280 & 4234 & 5936 & 3897 & 1341241223 \\\\\n",
      "n Leptons = 1 & 938 & 3213 & 3920 & 2363 & 592991776 \\\\\n",
      "n Taus = 0 & 811 & 2747 & 3169 & 1629 & 568795651 \\\\\n",
      "$\\ell$ relative isolation & 792 & 2700 & 3125 & 1596 & 541952109 \\\\\n",
      "$\\ell$ mini-isolation & 770 & 2684 & 3110 & 1576 & 527308183 \\\\\n",
      "n FatJets = 1 & 637 & 281 & 334 & 688 & 5451481 \\\\\n",
      "j $p_T > 250$GeV & 343 & 117 & 168 & 394 & 2234384 \\\\\n",
      "$\\Delta R(j, \\ell) < 0.8$ & 204 & 76 & 86 & 183 & 1065313 \\\\\n",
      "$\\Delta R(j, \\ell) > 0.03$ & 191 & 73 & 65 & 167 & 497584 \\\\\n",
      "$\\Delta \\phi(\\mathrm{MET}, j)<1.57$ & 136 & 53 & 41 & 104 & 273853 \\\\\n",
      "\\end{tabular}\n",
      "\\caption{Event yield of 2018 Monte Carlo samples normalized to 60\\fbinv.}\n",
      "\\label{sel-tab-cutflow2018}\n",
      "\\end{center}\n",
      "\\end{table}\n"
     ]
    }
   ],
   "source": [
    "make_latex_cutflow_table(cutflows, \"2018\", \"lep\", add_data=True, add_sumgenweight=True)"
   ]
  },
  {
   "cell_type": "code",
   "execution_count": 95,
   "metadata": {},
   "outputs": [],
   "source": [
    "b4, after = 0, 0\n",
    "for sample in cutflows[\"2018\"][\"lep\"]:\n",
    "    if \"Data\" in sample:\n",
    "        continue\n",
    "        \n",
    "    if sample not in signals:\n",
    "        continue\n",
    "    b4 += cutflows[\"2018\"][\"lep\"][sample][\"sumgenweight\"]\n",
    "    after += cutflows[\"2018\"][\"lep\"][sample][\"HEMCleaning\"]\n",
    "    "
   ]
  },
  {
   "cell_type": "code",
   "execution_count": 96,
   "metadata": {},
   "outputs": [
    {
     "data": {
      "text/plain": [
       "139788.04466306634"
      ]
     },
     "execution_count": 96,
     "metadata": {},
     "output_type": "execute_result"
    }
   ],
   "source": [
    "b4"
   ]
  },
  {
   "cell_type": "code",
   "execution_count": 97,
   "metadata": {},
   "outputs": [
    {
     "data": {
      "text/plain": [
       "120846.45295526716"
      ]
     },
     "execution_count": 97,
     "metadata": {},
     "output_type": "execute_result"
    }
   ],
   "source": [
    "after"
   ]
  },
  {
   "cell_type": "code",
   "execution_count": 98,
   "metadata": {},
   "outputs": [
    {
     "data": {
      "text/plain": [
       "0.8644977705106726"
      ]
     },
     "execution_count": 98,
     "metadata": {},
     "output_type": "execute_result"
    }
   ],
   "source": [
    "after/b4"
   ]
  },
  {
   "cell_type": "code",
   "execution_count": null,
   "metadata": {},
   "outputs": [],
   "source": []
  },
  {
   "cell_type": "code",
   "execution_count": null,
   "metadata": {},
   "outputs": [],
   "source": []
  },
  {
   "cell_type": "code",
   "execution_count": null,
   "metadata": {},
   "outputs": [],
   "source": []
  }
 ],
 "metadata": {
  "kernelspec": {
   "display_name": "coffea-env",
   "language": "python",
   "name": "coffea-env"
  },
  "language_info": {
   "codemirror_mode": {
    "name": "ipython",
    "version": 3
   },
   "file_extension": ".py",
   "mimetype": "text/x-python",
   "name": "python",
   "nbconvert_exporter": "python",
   "pygments_lexer": "ipython3",
   "version": "3.9.0"
  }
 },
 "nbformat": 4,
 "nbformat_minor": 4
}
