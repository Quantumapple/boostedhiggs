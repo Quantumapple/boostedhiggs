{
 "cells": [
  {
   "cell_type": "code",
   "execution_count": 9,
   "id": "7751f679",
   "metadata": {},
   "outputs": [],
   "source": [
    "import glob\n",
    "import json\n",
    "import os\n",
    "import pickle\n",
    "import pickle as pkl\n",
    "\n",
    "import hist as hist2\n",
    "import matplotlib.pyplot as plt\n",
    "import mplhep as hep\n",
    "import numpy as np\n",
    "import pandas as pd\n",
    "import pyarrow.parquet as pq\n",
    "import yaml\n",
    "from hist.intervals import clopper_pearson_interval\n",
    "from scipy.special import softmax\n",
    "from sklearn.metrics import auc, roc_curve\n",
    "\n",
    "pd.options.mode.chained_assignment = None\n",
    "\n",
    "plt.rcParams.update({\"font.size\": 20})\n",
    "plt.style.use(hep.style.CMS)"
   ]
  },
  {
   "cell_type": "code",
   "execution_count": 16,
   "id": "2ad7032b",
   "metadata": {},
   "outputs": [
    {
     "name": "stdout",
     "output_type": "stream",
     "text": [
      "0-1.pkl   0-10.pkl  0-100.pkl\r\n"
     ]
    }
   ],
   "source": [
    "! ls /Users/fmokhtar/Desktop/AN_2024/ele_MVA_test/"
   ]
  },
  {
   "cell_type": "code",
   "execution_count": 17,
   "id": "2450a802",
   "metadata": {},
   "outputs": [],
   "source": [
    "ch = \"ele\"\n",
    "\n",
    "with open(\"/Users/fmokhtar/Desktop/AN_2024/ele_MVA_test/0-100.pkl\", \"rb\") as f:\n",
    "    file = pkl.load(f)\n",
    "    \n",
    "    trg_dict = file[\"2017\"][\"GluGluHToWW_Pt-200ToInf_M-125\"][\"skimmed_events\"][ch][\"triggers\"]\n",
    "    var_dict = file[\"2017\"][\"GluGluHToWW_Pt-200ToInf_M-125\"][\"skimmed_events\"][ch][\"vars\"]\n",
    "    weight_dict = file[\"2017\"][\"GluGluHToWW_Pt-200ToInf_M-125\"][\"skimmed_events\"][ch][\"weights\"]\n",
    "\n",
    "var_dict[\"fj_genH_pt\"] = var_dict[\"fj_genH_pt\"].reshape(-1)"
   ]
  },
  {
   "cell_type": "code",
   "execution_count": 18,
   "id": "8dadc02a",
   "metadata": {},
   "outputs": [
    {
     "name": "stdout",
     "output_type": "stream",
     "text": [
      "Events before trigger:  7496\n",
      "Events after trigger:  4749\n",
      "----------------------\n",
      "Trigger eff:  0.633537886872999\n"
     ]
    }
   ],
   "source": [
    "nev = len(var_dict[\"fj_genH_pt\"])\n",
    "print(\"Events before trigger: \", nev)\n",
    "\n",
    "########## build the OR of all triggers\n",
    "msk_trg = np.zeros(len(var_dict[\"fj_genH_pt\"]), dtype=\"bool\")\n",
    "\n",
    "for trig in trg_dict:\n",
    "    msk_trg = msk_trg | trg_dict[trig]\n",
    "\n",
    "print(\"Events after trigger: \", msk_trg.sum())\n",
    "\n",
    "print(\"----------------------\")\n",
    "print(\"Trigger eff: \", msk_trg.sum()/nev)"
   ]
  },
  {
   "cell_type": "code",
   "execution_count": 21,
   "id": "2fb4fa44",
   "metadata": {},
   "outputs": [
    {
     "data": {
      "text/plain": [
       "4749"
      ]
     },
     "execution_count": 21,
     "metadata": {},
     "output_type": "execute_result"
    }
   ],
   "source": [
    "msk_trg.sum()"
   ]
  },
  {
   "cell_type": "code",
   "execution_count": 22,
   "id": "fa908aba",
   "metadata": {},
   "outputs": [
    {
     "data": {
      "text/plain": [
       "4248"
      ]
     },
     "execution_count": 22,
     "metadata": {},
     "output_type": "execute_result"
    }
   ],
   "source": [
    "(msk_trg & var_dict[\"ele_MVA\"]).sum()"
   ]
  },
  {
   "cell_type": "code",
   "execution_count": 23,
   "id": "b2ca06a9",
   "metadata": {},
   "outputs": [
    {
     "data": {
      "text/plain": [
       "89.45041061276058"
      ]
     },
     "execution_count": 23,
     "metadata": {},
     "output_type": "execute_result"
    }
   ],
   "source": [
    "100 * (msk_trg & var_dict[\"ele_MVA\"]).sum() / msk_trg.sum()"
   ]
  }
 ],
 "metadata": {
  "kernelspec": {
   "display_name": "coffea-env",
   "language": "python",
   "name": "coffea-env"
  },
  "language_info": {
   "codemirror_mode": {
    "name": "ipython",
    "version": 3
   },
   "file_extension": ".py",
   "mimetype": "text/x-python",
   "name": "python",
   "nbconvert_exporter": "python",
   "pygments_lexer": "ipython3",
   "version": "3.9.0"
  }
 },
 "nbformat": 4,
 "nbformat_minor": 5
}
