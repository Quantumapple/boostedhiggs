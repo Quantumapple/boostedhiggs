{
 "cells": [
  {
   "cell_type": "markdown",
   "metadata": {},
   "source": [
    "# Making stacked histograms\n",
    "- processes an `events[year][ch][sample]` object using `make_events_dict()`\n",
    "- uses `plot_hists()` to make stacked histograms"
   ]
  },
  {
   "cell_type": "code",
   "execution_count": 1,
   "metadata": {},
   "outputs": [],
   "source": [
    "import glob\n",
    "import os\n",
    "import json\n",
    "import pickle\n",
    "import yaml\n",
    "import math\n",
    "\n",
    "import numpy as np\n",
    "import pandas as pd\n",
    "pd.options.mode.chained_assignment = None\n",
    "import pyarrow.parquet as pq\n",
    "from sklearn.metrics import auc, roc_curve\n",
    "from scipy.special import softmax\n",
    "\n",
    "import hist as hist2\n",
    "import matplotlib.pyplot as plt\n",
    "import mplhep as hep\n",
    "\n",
    "plt.style.use(hep.style.CMS)\n",
    "\n",
    "import sys\n",
    "sys.path\n",
    "sys.path.append(\"../python/\")\n",
    "\n",
    "import utils\n",
    "\n",
    "plt.rcParams.update({\"font.size\": 20})"
   ]
  },
  {
   "cell_type": "code",
   "execution_count": 2,
   "metadata": {},
   "outputs": [],
   "source": [
    "%load_ext autoreload\n",
    "%autoreload 2\n",
    "%reload_ext autoreload"
   ]
  },
  {
   "cell_type": "code",
   "execution_count": 3,
   "metadata": {},
   "outputs": [
    {
     "data": {
      "text/plain": [
       "{'ele': {'Run2': 137640.0,\n",
       "  '2016APV': 19492.72,\n",
       "  '2016': 16809.96,\n",
       "  '2017': 41476.02,\n",
       "  '2018': 59816.23},\n",
       " 'mu': {'Run2': 137640.0,\n",
       "  '2016APV': 19436.16,\n",
       "  '2016': 16810.81,\n",
       "  '2017': 41475.26,\n",
       "  '2018': 59781.96},\n",
       " 'lep': {'Run2': 137640.0,\n",
       "  '2016APV': 19436.16,\n",
       "  '2016': 16810.81,\n",
       "  '2017': 41475.26,\n",
       "  '2018': 59781.96},\n",
       " 'had': {'Run2': 137640.0,\n",
       "  '2016APV': 19436.16,\n",
       "  '2016': 16810.81,\n",
       "  '2017': 41475.26,\n",
       "  '2018': 59781.96}}"
      ]
     },
     "execution_count": 3,
     "metadata": {},
     "output_type": "execute_result"
    }
   ],
   "source": [
    "# get lumi\n",
    "with open(\"../fileset/luminosity.json\") as f:\n",
    "    luminosity = json.load(f)\n",
    "    \n",
    "luminosity"
   ]
  },
  {
   "cell_type": "code",
   "execution_count": 4,
   "metadata": {},
   "outputs": [],
   "source": [
    "def get_lumi(years, channels):\n",
    "    lum_ = 0\n",
    "    for year in years:\n",
    "        lum = 0\n",
    "        for ch in channels:\n",
    "            lum += luminosity[ch][year] / 1000.0\n",
    "\n",
    "        lum_ += lum / len(channels)    \n",
    "    return lum_"
   ]
  },
  {
   "cell_type": "code",
   "execution_count": 5,
   "metadata": {},
   "outputs": [
    {
     "name": "stdout",
     "output_type": "stream",
     "text": [
      "0-20.parquet    180-200.pkl     280-300.parquet 380-400.pkl     480-500.parquet\r\n",
      "0-20.pkl        20-40.parquet   280-300.pkl     40-60.parquet   480-500.pkl\r\n",
      "100-120.parquet 20-40.pkl       300-320.parquet 40-60.pkl       500-520.parquet\r\n",
      "100-120.pkl     200-220.parquet 300-320.pkl     400-420.parquet 500-520.pkl\r\n",
      "120-140.parquet 200-220.pkl     320-340.parquet 400-420.pkl     520-540.parquet\r\n",
      "120-140.pkl     220-240.parquet 320-340.pkl     420-440.parquet 520-540.pkl\r\n",
      "140-160.parquet 220-240.pkl     340-360.parquet 420-440.pkl     60-80.parquet\r\n",
      "140-160.pkl     240-260.parquet 340-360.pkl     440-460.parquet 60-80.pkl\r\n",
      "160-180.parquet 240-260.pkl     360-380.parquet 440-460.pkl     80-100.parquet\r\n",
      "160-180.pkl     260-280.parquet 360-380.pkl     460-480.parquet 80-100.pkl\r\n",
      "180-200.parquet 260-280.pkl     380-400.parquet 460-480.pkl\r\n"
     ]
    }
   ],
   "source": [
    "! ls ../eos/Lumi_July17_2016/SingleElectron_Run2016G/outfiles/"
   ]
  },
  {
   "cell_type": "code",
   "execution_count": 6,
   "metadata": {},
   "outputs": [],
   "source": [
    "years = [\n",
    "#     \"2017\", \n",
    "#     \"2016\", \n",
    "#     \"2016APV\", \n",
    "    \"2018\",\n",
    "]"
   ]
  },
  {
   "cell_type": "code",
   "execution_count": 7,
   "metadata": {},
   "outputs": [],
   "source": [
    "samples_dir = {\n",
    "    \"2016\":    \"../eos/Lumi_July17_2016\",\n",
    "    \"2016APV\": \"../eos/Lumi_July17_2016APV\",\n",
    "    \"2017\":    \"../eos/Lumi_July17_2017\",\n",
    "    \"2018\":    \"../eos/Lumi_July17_2018\",\n",
    "}"
   ]
  },
  {
   "cell_type": "code",
   "execution_count": 8,
   "metadata": {},
   "outputs": [
    {
     "name": "stdout",
     "output_type": "stream",
     "text": [
      "2018\n",
      "    EGamma_Run2018A\n",
      "    SingleMuon_Run2018A\n",
      "    EGamma_Run2018C\n",
      "    EGamma_Run2018D\n",
      "    EGamma_Run2018B\n",
      "    SingleMuon_Run2018C\n",
      "    SingleMuon_Run2018D\n",
      "    SingleMuon_Run2018B\n"
     ]
    }
   ],
   "source": [
    "events_dict = {}\n",
    "for year in years:\n",
    "    print(year)\n",
    "    \n",
    "    events_dict[year] = {}\n",
    "    for sample in os.listdir(samples_dir[year]):\n",
    "        print(\"   \", sample)\n",
    "        parquet_files = glob.glob(f\"{samples_dir[year]}/{sample}/outfiles/*.parquet\")\n",
    "        \n",
    "        events_dict[year][sample] = pd.read_parquet(parquet_files)"
   ]
  },
  {
   "cell_type": "code",
   "execution_count": null,
   "metadata": {},
   "outputs": [],
   "source": [
    "for year in years:\n",
    "    for era in events_dict[year]:\n",
    "#         if era != \"SingleMuon_Run2017F\":\n",
    "#             continue\n",
    "        df = events_dict[year][era]\n",
    "        duplicated_events = df.duplicated()\n",
    "        print(year, era, f\"Duplicate events: {100*duplicated_events.sum()/len(df):.2f}%\")"
   ]
  },
  {
   "cell_type": "code",
   "execution_count": null,
   "metadata": {},
   "outputs": [],
   "source": []
  }
 ],
 "metadata": {
  "kernelspec": {
   "display_name": "coffea-env",
   "language": "python",
   "name": "coffea-env"
  },
  "language_info": {
   "codemirror_mode": {
    "name": "ipython",
    "version": 3
   },
   "file_extension": ".py",
   "mimetype": "text/x-python",
   "name": "python",
   "nbconvert_exporter": "python",
   "pygments_lexer": "ipython3",
   "version": "3.9.0"
  }
 },
 "nbformat": 4,
 "nbformat_minor": 4
}
