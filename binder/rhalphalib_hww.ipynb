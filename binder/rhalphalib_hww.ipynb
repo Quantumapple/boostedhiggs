{
 "cells": [
  {
   "cell_type": "code",
   "execution_count": 1,
   "metadata": {},
   "outputs": [
    {
     "name": "stdout",
     "output_type": "stream",
     "text": [
      "DYJetsToLL_M-10to50\t       SingleMuon_Run2017B\r\n",
      "DYJetsToLL_M-50_HT-100to200    SingleMuon_Run2017C\r\n",
      "DYJetsToLL_M-50_HT-1200to2500  SingleMuon_Run2017D\r\n",
      "DYJetsToLL_M-50_HT-200to400    SingleMuon_Run2017E\r\n",
      "DYJetsToLL_M-50_HT-2500toInf   SingleMuon_Run2017F\r\n",
      "DYJetsToLL_M-50_HT-400to600    ST_s-channel_4f_hadronicDecays\r\n",
      "DYJetsToLL_M-50_HT-600to800    ST_s-channel_4f_leptonDecays\r\n",
      "DYJetsToLL_M-50_HT-70to100     ST_t-channel_antitop_4f_InclusiveDecays\r\n",
      "DYJetsToLL_M-50_HT-800to1200   ST_t-channel_top_4f_InclusiveDecays\r\n",
      "DYJetsToLL_Pt-100To250\t       ST_tW_antitop_5f_inclusiveDecays\r\n",
      "DYJetsToLL_Pt-250To400\t       ST_tW_top_5f_inclusiveDecays\r\n",
      "DYJetsToLL_Pt-400To650\t       ttHToNonbb_M125\r\n",
      "DYJetsToLL_Pt-50To100\t       TTTo2L2Nu\r\n",
      "DYJetsToLL_Pt-650ToInf\t       TTToHadronic\r\n",
      "GluGluHToTauTau\t\t       TTToSemiLeptonic\r\n",
      "GluGluHToWW_Pt-200ToInf_M-125  VBFHToWWToLNuQQ_M-125_withDipoleRecoil\r\n",
      "GluGluZH_HToWW_ZTo2L_M-125     WJetsToLNu_HT-100To200\r\n",
      "HWminusJ_HToWW_M-125\t       WJetsToLNu_HT-1200To2500\r\n",
      "HWplusJ_HToWW_M-125\t       WJetsToLNu_HT-200To400\r\n",
      "HZJ_HToWW_M-125\t\t       WJetsToLNu_HT-2500ToInf\r\n",
      "QCD_Pt_1000to1400\t       WJetsToLNu_HT-400To600\r\n",
      "QCD_Pt_1400to1800\t       WJetsToLNu_HT-600To800\r\n",
      "QCD_Pt_170to300\t\t       WJetsToLNu_HT-70To100\r\n",
      "QCD_Pt_1800to2400\t       WJetsToLNu_HT-800To1200\r\n",
      "QCD_Pt_2400to3200\t       WJetsToQQ_HT-200to400\r\n",
      "QCD_Pt_300to470\t\t       WJetsToQQ_HT-400to600\r\n",
      "QCD_Pt_3200toInf\t       WJetsToQQ_HT-600to800\r\n",
      "QCD_Pt_470to600\t\t       WJetsToQQ_HT-800toInf\r\n",
      "QCD_Pt_600to800\t\t       WW\r\n",
      "QCD_Pt_800to1000\t       WZ\r\n",
      "SingleElectron_Run2017B        ZJetsToQQ_HT-200to400\r\n",
      "SingleElectron_Run2017C        ZJetsToQQ_HT-400to600\r\n",
      "SingleElectron_Run2017D        ZJetsToQQ_HT-600to800\r\n",
      "SingleElectron_Run2017E        ZJetsToQQ_HT-800toInf\r\n",
      "SingleElectron_Run2017F        ZZ\r\n"
     ]
    }
   ],
   "source": [
    "! ls /eos/uscms/store/user/cmantill/boostedhiggs/Jul21_2017/"
   ]
  },
  {
   "cell_type": "code",
   "execution_count": 2,
   "metadata": {},
   "outputs": [
    {
     "name": "stdout",
     "output_type": "stream",
     "text": [
      "weight_mu_id_muonUp\n",
      "weight_mu_L1PrefiringUp\n",
      "weight_mu_trigger_noniso_muonUp\n",
      "weight_mu_UEPS_ISRUp\n",
      "weight_mu_btagSFbc_correlatedUp\n",
      "weight_mu_btagSFlight_2017Up\n",
      "weight_mu_PDF_weightUp\n",
      "weight_mu_scalevar_7ptUp\n",
      "weight_mu_aS_weightUp\n",
      "weight_mu_UEPS_FSRUp\n",
      "weight_mu_pileupUp\n",
      "weight_mu_isolation_muonUp\n",
      "weight_mu_btagSFbc_2017Up\n",
      "weight_mu_trigger_iso_muonUp\n",
      "weight_mu_scalevar_3ptUp\n",
      "weight_mu_btagSFlight_correlatedUp\n",
      "weight_mu_PDFaS_weightUp\n"
     ]
    }
   ],
   "source": [
    "import pandas as pd\n",
    "path = \"/eos/uscms/store/user/cmantill/boostedhiggs/Jul21_2017/GluGluHToWW_Pt-200ToInf_M-125/outfiles/0-1_ele.parquet\"\n",
    "df = pd.read_parquet(path)\n",
    "\n",
    "for key in df.keys():\n",
    "    if \"weight\" in key and \"Up\" in key and \"mu\" in key:\n",
    "        print(key)"
   ]
  },
  {
   "cell_type": "markdown",
   "metadata": {},
   "source": [
    "# Make datacard\n"
   ]
  },
  {
   "cell_type": "code",
   "execution_count": 3,
   "metadata": {},
   "outputs": [],
   "source": [
    "from typing import Dict, List, Tuple, Union\n",
    "\n",
    "import json\n",
    "import logging\n",
    "from collections import OrderedDict"
   ]
  },
  {
   "cell_type": "code",
   "execution_count": 5,
   "metadata": {},
   "outputs": [],
   "source": [
    "from __future__ import print_function, division\n",
    "import sys\n",
    "import os\n",
    "import rhalphalib as rl\n",
    "import numpy as np\n",
    "import scipy.stats\n",
    "rl.util.install_roofit_helpers()\n",
    "rl.ParametericSample.PreferRooParametricHist = False\n",
    "\n",
    "from hist import Hist"
   ]
  },
  {
   "cell_type": "code",
   "execution_count": 6,
   "metadata": {},
   "outputs": [],
   "source": [
    "CMS_PARAMS_LABEL = \"CMS_HWW_boosted\""
   ]
  },
  {
   "cell_type": "code",
   "execution_count": 7,
   "metadata": {},
   "outputs": [
    {
     "data": {
      "text/plain": [
       "41475.26"
      ]
     },
     "execution_count": 7,
     "metadata": {},
     "output_type": "execute_result"
    }
   ],
   "source": [
    "year = \"2017\"   # can give \"all\"\n",
    "lep_ch = \"mu\"\n",
    "\n",
    "with open(\"../fileset/luminosity.json\") as f:\n",
    "    LUMI = json.load(f)[lep_ch]\n",
    "\n",
    "if year != \"all\":\n",
    "    years = [year]\n",
    "    full_lumi = LUMI[year]\n",
    "else:\n",
    "    years = [\"2016\", \"2016APV\", \"2017\", \"2018\"]\n",
    "    full_lumi = np.sum(list(LUMI.values()))\n",
    "\n",
    "full_lumi"
   ]
  },
  {
   "cell_type": "code",
   "execution_count": 8,
   "metadata": {},
   "outputs": [],
   "source": [
    "# systematics that are NOT necessarily stored in the parquets\n",
    "sys_dict = {\n",
    "    f\"lumi_13TeV_{year}\": rl.NuisanceParameter(f'CMS_lumi_13TeV_{year}', 'lnN'),\n",
    "    \"BR_hww\": rl.NuisanceParameter(f'BR_hww', 'lnN'),\n",
    "}\n",
    "\n",
    "# tuple (value_up, value_down) and if (value_up, None) is given then value_down=value_up\n",
    "sys_dict_values = {\n",
    "    f\"lumi_13TeV_{year}\": (1.02 ** (LUMI[\"2017\"] / full_lumi), None),\n",
    "    \"BR_hww\": (1.0153, 0.9848)\n",
    "}\n",
    "\n",
    "# systematics that ARE stored in the parquets\n",
    "sys_from_parquets = {\n",
    "    \"mu\": {\n",
    "        \"all_samples\": {\n",
    "            \"weight_mu_btagSFlight_2017\": rl.NuisanceParameter(f'{CMS_PARAMS_LABEL}_btagSFlight_{year}', 'lnN'),\n",
    "            \"weight_mu_btagSFlight_correlated\": rl.NuisanceParameter(f'{CMS_PARAMS_LABEL}_btagSFlight_correlated', 'lnN'),\n",
    "            \"weight_mu_btagSFbc_2017\": rl.NuisanceParameter(f'{CMS_PARAMS_LABEL}_btagSFbc_{year}', 'lnN'),\n",
    "            \"weight_mu_btagSFbc_correlated\": rl.NuisanceParameter(f'{CMS_PARAMS_LABEL}_btagSFbc_correlated', 'lnN'),\n",
    "            \"weight_mu_pileup\": rl.NuisanceParameter(f'{CMS_PARAMS_LABEL}_PU_{year}', 'shape'),\n",
    "            \"weight_mu_isolation_muon\": rl.NuisanceParameter(f'CMS_mu_iso_{year}', 'lnN'),\n",
    "            \"weight_mu_id_muon\": rl.NuisanceParameter(f'CMS_mu_id_{year}', 'lnN'),\n",
    "            \"weight_mu_L1Prefiring\": rl.NuisanceParameter(f'CMS_L1Prefiring_{year}', 'lnN'),\n",
    "            \"weight_mu_trigger_iso_muon\": rl.NuisanceParameter('CMS_btagSF', 'lnN'),\n",
    "            \"weight_mu_trigger_noniso_muon\": rl.NuisanceParameter(f'{CMS_PARAMS_LABEL}_mu_trigger_{year}', 'lnN'),\n",
    "        },\n",
    "        ### signal\n",
    "        \"HWW\": {\n",
    "            \"weight_mu_UEPS_FSR\": rl.NuisanceParameter('UEPS_FSR_ggF', 'shape'),\n",
    "            \"weight_mu_UEPS_ISR\": rl.NuisanceParameter('UEPS_ISR_ggF', 'shape'),\n",
    "            \"weight_mu_PDF_weight\": rl.NuisanceParameter('pdf_Higgs_ggF', 'lnN'),\n",
    "            \"weight_mu_PDFaS_weight\": rl.NuisanceParameter('pdfAS_Higgs_ggF', 'lnN'),\n",
    "            \"weight_mu_aS_weight\": rl.NuisanceParameter('aS_Higgs_ggF', 'lnN'),                        \n",
    "            \"weight_mu_scalevar_3pt\": rl.NuisanceParameter(f'{CMS_PARAMS_LABEL}_scale_pt_3_ggF_{year}', 'lnN'),\n",
    "            \"weight_mu_scalevar_7pt\": rl.NuisanceParameter(f'{CMS_PARAMS_LABEL}_scale_pt_7_ggF_{year}', 'lnN'),\n",
    "        },\n",
    "        \"VBF\": {\n",
    "            \"weight_mu_UEPS_FSR\": rl.NuisanceParameter('UEPS_FSR_VBF', 'shape'),\n",
    "            \"weight_mu_UEPS_ISR\": rl.NuisanceParameter('UEPS_ISR_VBF', 'shape'),\n",
    "            \"weight_mu_PDF_weight\": rl.NuisanceParameter('pdf_Higgs_VBF', 'lnN'),\n",
    "            \"weight_mu_PDFaS_weight\": rl.NuisanceParameter('pdfAS_Higgs_VBF', 'lnN'),\n",
    "            \"weight_mu_aS_weight\": rl.NuisanceParameter('aS_Higgs_VBF', 'lnN'),                        \n",
    "            \"weight_mu_scalevar_3pt\": rl.NuisanceParameter(f'{CMS_PARAMS_LABEL}_scale_pt_3_VBF_{year}', 'lnN'),\n",
    "            \"weight_mu_scalevar_7pt\": rl.NuisanceParameter(f'{CMS_PARAMS_LABEL}_scale_pt_7_VBF_{year}', 'lnN'),            \n",
    "        },\n",
    "        \"VH\": {},\n",
    "        \"ttH\": {},\n",
    "        ### bkgs        \n",
    "        \"TTbar\": {},\n",
    "        \"WJetsLNu\": {\n",
    "            \"weight_mu_d1kappa_EW\": rl.NuisanceParameter(f'{CMS_PARAMS_LABEL}_W_d1kappa_EW_{year}', 'lnN'),\n",
    "            \"weight_mu_W_d2kappa_EW\": rl.NuisanceParameter(f'{CMS_PARAMS_LABEL}_W_d2kappa_EW_{year}', 'lnN'),            \n",
    "            \"weight_mu_W_d3kappa_EW\": rl.NuisanceParameter(f'{CMS_PARAMS_LABEL}_W_d3kappa_EW_{year}', 'lnN'),            \n",
    "            \"weight_mu_d1K_NLO\": rl.NuisanceParameter(f'{CMS_PARAMS_LABEL}_d1K_NLO_{year}', 'lnN'),            \n",
    "            \"weight_mu_d2K_NLO\": rl.NuisanceParameter(f'{CMS_PARAMS_LABEL}_d2K_NLO_{year}', 'lnN'),            \n",
    "            \"weight_mu_d3K_NLO\": rl.NuisanceParameter(f'{CMS_PARAMS_LABEL}_d3K_NLO_{year}', 'lnN'),            \n",
    "        },\n",
    "        \"SingleTop\": {},    \n",
    "        \"DYJets\": {\n",
    "            \"weight_mu_d1kappa_EW\": rl.NuisanceParameter(f'{CMS_PARAMS_LABEL}_Z_d1kappa_EW_{year}', 'lnN'),\n",
    "            \"weight_mu_Z_d2kappa_EW\": rl.NuisanceParameter(f'{CMS_PARAMS_LABEL}_Z_d2kappa_EW_{year}', 'lnN'),            \n",
    "            \"weight_mu_Z_d3kappa_EW\": rl.NuisanceParameter(f'{CMS_PARAMS_LABEL}_Z_d3kappa_EW_{year}', 'lnN'),                     \n",
    "        },        \n",
    "    },\n",
    "}"
   ]
  },
  {
   "cell_type": "code",
   "execution_count": 77,
   "metadata": {},
   "outputs": [],
   "source": [
    "def shape_to_num(var, nom, clip=1.5):\n",
    "    nom_rate = np.sum(nom)\n",
    "    var_rate = np.sum(var)\n",
    "\n",
    "    if abs(var_rate/nom_rate) > clip:\n",
    "        var_rate = clip*nom_rate\n",
    "\n",
    "    if var_rate < 0:\n",
    "        var_rate = 0\n",
    "\n",
    "    return var_rate/nom_rate\n",
    "\n",
    "def get_template(h, sample, ptbin):\n",
    "    return (\n",
    "        h[{\"samples\": sample, \"systematic\": \"nominal\", \"fj_pt\": ptbin}].values(),\n",
    "        massbins,\n",
    "        \"reco_higgs_m\"\n",
    "    )"
   ]
  },
  {
   "cell_type": "code",
   "execution_count": 78,
   "metadata": {},
   "outputs": [],
   "source": [
    "def blindBins(h: Hist, blind_region: List, blind_samples: List[str] = []):\n",
    "    \"\"\"\n",
    "    Blind (i.e. zero) bins in histogram ``h``.\n",
    "    If ``blind_samples`` specified, only blind those samples, else blinds all.\n",
    "    \n",
    "    CAREFUL: assumes axis=0 is samples, axis=3 is mass_axis\n",
    "        \n",
    "    \"\"\"\n",
    "    \n",
    "    h = h.copy()\n",
    "    \n",
    "#     mass_axis = np.argmax(np.array(list(h.axes.name))==\"rec_higgs_m\")\n",
    "    mass_axis = 3\n",
    "    massbins = h.axes[mass_axis].edges\n",
    "    \n",
    "    lv = int(np.searchsorted(massbins, blind_region[0], \"right\"))\n",
    "    rv = int(np.searchsorted(massbins, blind_region[1], \"left\") + 1)\n",
    "\n",
    "    if blind_samples:\n",
    "        \n",
    "        for blind_sample in blind_samples:\n",
    "            sample_index = np.argmax(np.array(list(h.axes[0]))==blind_sample)\n",
    "            h.view(flow=True)[sample_index, :, :, lv:rv] = 0\n",
    "        \n",
    "    else:\n",
    "        \n",
    "        h.view(flow=True)[:, :, :, lv:rv] = 0\n",
    "\n",
    "    return h"
   ]
  },
  {
   "cell_type": "markdown",
   "metadata": {},
   "source": [
    "# Load template"
   ]
  },
  {
   "cell_type": "code",
   "execution_count": 59,
   "metadata": {},
   "outputs": [],
   "source": [
    "import pickle as pkl\n",
    "with open(f\"hists_templates_{year}_{lep_ch}.pkl\", \"rb\") as f:\n",
    "    hists_templates = pkl.load(f)"
   ]
  },
  {
   "cell_type": "code",
   "execution_count": 60,
   "metadata": {},
   "outputs": [
    {
     "data": {
      "text/plain": [
       "Hist(\n",
       "  StrCategory(['WJetsLNu', 'DYJets', 'VBF', 'VH', 'TTbar', 'SingleTop', 'HWW', 'QCD', 'Data', 'Diboson', 'WZQQ', 'ttH'], growth=True, name='samples'),\n",
       "  StrCategory(['nominal', 'weight_mu_btagSFlight_2017Up', 'weight_mu_btagSFlight_2017Down', 'weight_mu_btagSFlight_correlatedUp', 'weight_mu_btagSFlight_correlatedDown', 'weight_mu_btagSFbc_2017Up', 'weight_mu_btagSFbc_2017Down', 'weight_mu_btagSFbc_correlatedUp', 'weight_mu_btagSFbc_correlatedDown', 'weight_mu_pileupUp', 'weight_mu_pileupDown', 'weight_mu_isolation_muonUp', 'weight_mu_isolation_muonDown', 'weight_mu_id_muonUp', 'weight_mu_id_muonDown', 'weight_mu_L1PrefiringUp', 'weight_mu_L1PrefiringDown', 'weight_mu_trigger_iso_muonUp', 'weight_mu_trigger_iso_muonDown', 'weight_mu_trigger_noniso_muonUp', 'weight_mu_trigger_noniso_muonDown', 'weight_mu_d1K_NLOUp', 'weight_mu_d1K_NLODown', 'weight_mu_d2K_NLOUp', 'weight_mu_d2K_NLODown', 'weight_mu_d3K_NLOUp', 'weight_mu_d3K_NLODown', 'weight_mu_d1kappa_EWUp', 'weight_mu_d1kappa_EWDown', 'weight_mu_W_d2kappa_EWUp', 'weight_mu_W_d2kappa_EWDown', 'weight_mu_W_d3kappa_EWUp', 'weight_mu_W_d3kappa_EWDown', 'weight_mu_Z_d2kappa_EWUp', 'weight_mu_Z_d2kappa_EWDown', 'weight_mu_Z_d3kappa_EWUp', 'weight_mu_Z_d3kappa_EWDown', 'weight_mu_aS_weightUp', 'weight_mu_aS_weightDown', 'weight_mu_UEPS_FSRUp', 'weight_mu_UEPS_FSRDown', 'weight_mu_UEPS_ISRUp', 'weight_mu_UEPS_ISRDown', 'weight_mu_PDF_weightUp', 'weight_mu_PDF_weightDown', 'weight_mu_PDFaS_weightUp', 'weight_mu_PDFaS_weightDown', 'weight_mu_scalevar_3ptUp', 'weight_mu_scalevar_3ptDown', 'weight_mu_scalevar_7ptUp', 'weight_mu_scalevar_7ptDown'], growth=True, name='systematic'),\n",
       "  Variable([200, 300, 450, 600, 800, 1400], name='fj_pt', label='Jet $p_T$ [GeV]'),\n",
       "  Variable([40, 61, 82, 103, 124, 145, 166, 187, 208, 229], name='rec_higgs_m', label='Higgs reconstructed mass [GeV]'),\n",
       "  storage=Double()) # Sum: 1042546.7462971407 (1386834.4956967875 with flow)"
      ]
     },
     "execution_count": 60,
     "metadata": {},
     "output_type": "execute_result"
    }
   ],
   "source": [
    "hists_templates[\"pass\"]"
   ]
  },
  {
   "cell_type": "code",
   "execution_count": 61,
   "metadata": {},
   "outputs": [
    {
     "data": {
      "text/plain": [
       "['WJetsLNu',\n",
       " 'DYJets',\n",
       " 'VBF',\n",
       " 'VH',\n",
       " 'TTbar',\n",
       " 'SingleTop',\n",
       " 'HWW',\n",
       " 'QCD',\n",
       " 'Data',\n",
       " 'Diboson',\n",
       " 'WZQQ',\n",
       " 'ttH']"
      ]
     },
     "execution_count": 61,
     "metadata": {},
     "output_type": "execute_result"
    }
   ],
   "source": [
    "samples = list(hists_templates[\"pass\"].axes[0])\n",
    "samples"
   ]
  },
  {
   "cell_type": "markdown",
   "metadata": {},
   "source": [
    "# Create datacard"
   ]
  },
  {
   "cell_type": "code",
   "execution_count": 62,
   "metadata": {},
   "outputs": [
    {
     "data": {
      "text/plain": [
       "['HWW', 'VBF', 'VH', 'ttH', 'TTbar', 'WJetsLNu', 'SingleTop', 'DYJets']"
      ]
     },
     "execution_count": 62,
     "metadata": {},
     "output_type": "execute_result"
    }
   ],
   "source": [
    "# (name in templates, name in cards)\n",
    "labels = {\n",
    "    # sigs\n",
    "    \"HWW\": \"ggF\",\n",
    "    \"VBF\": \"VBF\",\n",
    "    \"VH\": \"VH\",\n",
    "    \"ttH\": \"ttH\",\n",
    "    # BKGS\n",
    "    \"QCD\": \"qcd\",\n",
    "    \"TTbar\": \"ttbar\",\n",
    "    \"WJetsLNu\": \"wjets\",\n",
    "    \"SingleTop\": \"singletop\",\n",
    "    \"DYJets\": \"zjets\",\n",
    "}\n",
    "\n",
    "bkgs = [\n",
    "    \"TTbar\", \n",
    "    \"WJetsLNu\", \n",
    "    \"SingleTop\", \n",
    "    \"DYJets\"\n",
    "]\n",
    "\n",
    "sigs = [\n",
    "    \"HWW\", \n",
    "    \"VBF\", \n",
    "    \"VH\", \n",
    "    \"ttH\"\n",
    "]\n",
    "samples = sigs+bkgs\n",
    "\n",
    "samples"
   ]
  },
  {
   "cell_type": "code",
   "execution_count": 79,
   "metadata": {},
   "outputs": [],
   "source": [
    "ptbins = hists_templates[\"pass\"].axes[2].edges\n",
    "npt = len(ptbins) - 1\n",
    "\n",
    "massbins = hists_templates[\"pass\"].axes[3].edges\n",
    "mass = rl.Observable('reco_higgs_m', massbins)\n",
    "\n",
    "# here we derive these all at once with 2D array\n",
    "ptpts, masspts = np.meshgrid(ptbins[:-1] + 0.3 * np.diff(ptbins), massbins[:-1] + 0.5 * np.diff(massbins), indexing='ij')\n",
    "\n",
    "rhopts = 2*np.log(masspts/ptpts)\n",
    "pt_scaled = (ptpts - ptbins[0]) / (ptbins[-1] - ptbins[0])\n",
    "rho_scaled = (rhopts - (-6)) / ((-2.1) - (-6))   # TODO: understand why\n",
    "\n",
    "validbins = (rho_scaled >= 0) & (rho_scaled <= 1)\n",
    "rho_scaled[~validbins] = 1  # we will mask these out later\n",
    "\n",
    "### Raghav: https://github.com/rkansal47/HHbbVV/blob/68dd5738ebe6950a6b5ea16049c4047b7de7892d/src/HHbbVV/postprocessing/CreateDatacard.py#L66-L77\n",
    "# bins = hists_templates[\"pass\"][{\"samples\": sum, \"rec_higgs_m\": sum, \"systematic\": sum}].values()\n",
    "# pts = bins[:-1] + 0.5 * np.diff(bins)\n",
    "# ptscaled = (pts - ptbins[0]) / (ptbins[-1] - ptbins[0])"
   ]
  },
  {
   "cell_type": "code",
   "execution_count": 86,
   "metadata": {
    "scrolled": true
   },
   "outputs": [
    {
     "name": "stdout",
     "output_type": "stream",
     "text": [
      "effect_up (CMS_HWW_boosted_PU_2017, ptbin0pass_ggF) has magnitude greater than 50% (97.30%), you might be passing absolute values instead of relative\n",
      "effect_down (CMS_HWW_boosted_PU_2017, ptbin0pass_ggF) has magnitude greater than 50% (76.38%), you might be passing absolute values instead of relative\n",
      "effect_up (UEPS_FSR_ggF, ptbin0pass_ggF) has magnitude greater than 50% (85.76%), you might be passing absolute values instead of relative\n",
      "effect_down (UEPS_FSR_ggF, ptbin0pass_ggF) has magnitude greater than 50% (66.35%), you might be passing absolute values instead of relative\n",
      "effect_up (UEPS_ISR_ggF, ptbin0pass_ggF) has magnitude greater than 50% (81.65%), you might be passing absolute values instead of relative\n",
      "effect_down (UEPS_ISR_ggF, ptbin0pass_ggF) has magnitude greater than 50% (78.43%), you might be passing absolute values instead of relative\n",
      "effect_up (CMS_HWW_boosted_PU_2017, ptbin0pass_VBF) has magnitude greater than 50% (53.86%), you might be passing absolute values instead of relative\n",
      "effect_down (CMS_HWW_boosted_PU_2017, ptbin0pass_VBF) has magnitude greater than 50% (62.35%), you might be passing absolute values instead of relative\n",
      "effect_up (UEPS_FSR_VBF, ptbin0pass_VBF) has magnitude greater than 50% (62.51%), you might be passing absolute values instead of relative\n",
      "effect_down (UEPS_FSR_VBF, ptbin0pass_VBF) has magnitude greater than 50% (60.30%), you might be passing absolute values instead of relative\n",
      "effect_up (UEPS_ISR_VBF, ptbin0pass_VBF) has magnitude greater than 50% (60.04%), you might be passing absolute values instead of relative\n",
      "effect_down (UEPS_ISR_VBF, ptbin0pass_VBF) has magnitude greater than 50% (61.66%), you might be passing absolute values instead of relative\n",
      "effect_up (CMS_HWW_boosted_PU_2017, ptbin0pass_ttH) has magnitude greater than 50% (62.10%), you might be passing absolute values instead of relative\n",
      "effect_down (CMS_HWW_boosted_PU_2017, ptbin0pass_ttH) has magnitude greater than 50% (65.37%), you might be passing absolute values instead of relative\n",
      "effect_up (CMS_HWW_boosted_PU_2017, ptbin0pass_ttbar) has magnitude greater than 50% (24506.25%), you might be passing absolute values instead of relative\n",
      "effect_down (CMS_HWW_boosted_PU_2017, ptbin0pass_ttbar) has magnitude greater than 50% (20719.28%), you might be passing absolute values instead of relative\n",
      "effect_up (CMS_HWW_boosted_PU_2017, ptbin0pass_wjets) has magnitude greater than 50% (165198.86%), you might be passing absolute values instead of relative\n",
      "effect_down (CMS_HWW_boosted_PU_2017, ptbin0pass_wjets) has magnitude greater than 50% (148535.76%), you might be passing absolute values instead of relative\n",
      "effect_up (CMS_HWW_boosted_PU_2017, ptbin0pass_singletop) has magnitude greater than 50% (2719.84%), you might be passing absolute values instead of relative\n",
      "effect_down (CMS_HWW_boosted_PU_2017, ptbin0pass_singletop) has magnitude greater than 50% (2417.58%), you might be passing absolute values instead of relative\n",
      "effect_up (CMS_HWW_boosted_PU_2017, ptbin0pass_zjets) has magnitude greater than 50% (6835.29%), you might be passing absolute values instead of relative\n",
      "effect_down (CMS_HWW_boosted_PU_2017, ptbin0pass_zjets) has magnitude greater than 50% (5919.86%), you might be passing absolute values instead of relative\n",
      "effect_up (CMS_HWW_boosted_PU_2017, ptbin0fail_ggF) has magnitude greater than 50% (101.26%), you might be passing absolute values instead of relative\n",
      "effect_down (UEPS_FSR_ggF, ptbin0fail_ggF) has magnitude greater than 50% (64.13%), you might be passing absolute values instead of relative\n",
      "effect_up (UEPS_ISR_ggF, ptbin0fail_ggF) has magnitude greater than 50% (53.95%), you might be passing absolute values instead of relative\n",
      "effect_down (UEPS_ISR_ggF, ptbin0fail_ggF) has magnitude greater than 50% (51.89%), you might be passing absolute values instead of relative\n",
      "effect_up (CMS_HWW_boosted_PU_2017, ptbin0fail_ttbar) has magnitude greater than 50% (518460.69%), you might be passing absolute values instead of relative\n",
      "effect_down (CMS_HWW_boosted_PU_2017, ptbin0fail_ttbar) has magnitude greater than 50% (411622.56%), you might be passing absolute values instead of relative\n",
      "effect_up (CMS_HWW_boosted_PU_2017, ptbin0fail_wjets) has magnitude greater than 50% (700281.22%), you might be passing absolute values instead of relative\n",
      "effect_down (CMS_HWW_boosted_PU_2017, ptbin0fail_wjets) has magnitude greater than 50% (532073.79%), you might be passing absolute values instead of relative\n",
      "effect_up (CMS_HWW_boosted_PU_2017, ptbin0fail_singletop) has magnitude greater than 50% (40961.39%), you might be passing absolute values instead of relative\n",
      "effect_down (CMS_HWW_boosted_PU_2017, ptbin0fail_singletop) has magnitude greater than 50% (35705.01%), you might be passing absolute values instead of relative\n",
      "effect_up (CMS_HWW_boosted_PU_2017, ptbin0fail_zjets) has magnitude greater than 50% (64359.85%), you might be passing absolute values instead of relative\n",
      "effect_down (CMS_HWW_boosted_PU_2017, ptbin0fail_zjets) has magnitude greater than 50% (47217.69%), you might be passing absolute values instead of relative\n",
      "effect_up (CMS_HWW_boosted_PU_2017, ptbin1pass_VBF) has magnitude greater than 50% (89.12%), you might be passing absolute values instead of relative\n",
      "effect_down (CMS_HWW_boosted_PU_2017, ptbin1pass_VBF) has magnitude greater than 50% (89.56%), you might be passing absolute values instead of relative\n",
      "effect_up (UEPS_FSR_VBF, ptbin1pass_VBF) has magnitude greater than 50% (88.01%), you might be passing absolute values instead of relative\n",
      "effect_down (UEPS_FSR_VBF, ptbin1pass_VBF) has magnitude greater than 50% (88.19%), you might be passing absolute values instead of relative\n",
      "effect_up (UEPS_ISR_VBF, ptbin1pass_VBF) has magnitude greater than 50% (89.78%), you might be passing absolute values instead of relative\n",
      "effect_down (UEPS_ISR_VBF, ptbin1pass_VBF) has magnitude greater than 50% (88.94%), you might be passing absolute values instead of relative\n",
      "effect_up (CMS_HWW_boosted_PU_2017, ptbin1pass_VH) has magnitude greater than 50% (63.98%), you might be passing absolute values instead of relative\n",
      "effect_down (CMS_HWW_boosted_PU_2017, ptbin1pass_VH) has magnitude greater than 50% (68.43%), you might be passing absolute values instead of relative\n",
      "effect_up (CMS_HWW_boosted_PU_2017, ptbin1pass_ttH) has magnitude greater than 50% (68.34%), you might be passing absolute values instead of relative\n",
      "effect_down (CMS_HWW_boosted_PU_2017, ptbin1pass_ttH) has magnitude greater than 50% (70.47%), you might be passing absolute values instead of relative\n",
      "effect_up (CMS_HWW_boosted_PU_2017, ptbin1pass_ttbar) has magnitude greater than 50% (9625.38%), you might be passing absolute values instead of relative\n",
      "effect_down (CMS_HWW_boosted_PU_2017, ptbin1pass_ttbar) has magnitude greater than 50% (8697.12%), you might be passing absolute values instead of relative\n",
      "effect_up (CMS_HWW_boosted_PU_2017, ptbin1pass_wjets) has magnitude greater than 50% (67192.22%), you might be passing absolute values instead of relative\n",
      "effect_down (CMS_HWW_boosted_PU_2017, ptbin1pass_wjets) has magnitude greater than 50% (61211.68%), you might be passing absolute values instead of relative\n",
      "effect_up (CMS_HWW_boosted_PU_2017, ptbin1pass_singletop) has magnitude greater than 50% (903.53%), you might be passing absolute values instead of relative\n",
      "effect_down (CMS_HWW_boosted_PU_2017, ptbin1pass_singletop) has magnitude greater than 50% (771.30%), you might be passing absolute values instead of relative\n",
      "effect_up (CMS_HWW_boosted_PU_2017, ptbin1pass_zjets) has magnitude greater than 50% (3725.40%), you might be passing absolute values instead of relative\n",
      "effect_down (CMS_HWW_boosted_PU_2017, ptbin1pass_zjets) has magnitude greater than 50% (3050.60%), you might be passing absolute values instead of relative\n",
      "effect_up (CMS_HWW_boosted_PU_2017, ptbin1fail_VBF) has magnitude greater than 50% (87.45%), you might be passing absolute values instead of relative\n",
      "effect_down (CMS_HWW_boosted_PU_2017, ptbin1fail_VBF) has magnitude greater than 50% (85.56%), you might be passing absolute values instead of relative\n",
      "effect_up (UEPS_FSR_VBF, ptbin1fail_VBF) has magnitude greater than 50% (88.49%), you might be passing absolute values instead of relative\n",
      "effect_down (UEPS_FSR_VBF, ptbin1fail_VBF) has magnitude greater than 50% (84.60%), you might be passing absolute values instead of relative\n",
      "effect_up (UEPS_ISR_VBF, ptbin1fail_VBF) has magnitude greater than 50% (86.35%), you might be passing absolute values instead of relative\n",
      "effect_down (UEPS_ISR_VBF, ptbin1fail_VBF) has magnitude greater than 50% (86.73%), you might be passing absolute values instead of relative\n",
      "effect_up (CMS_HWW_boosted_PU_2017, ptbin1fail_VH) has magnitude greater than 50% (80.00%), you might be passing absolute values instead of relative\n",
      "effect_down (CMS_HWW_boosted_PU_2017, ptbin1fail_VH) has magnitude greater than 50% (82.08%), you might be passing absolute values instead of relative\n",
      "effect_up (CMS_HWW_boosted_PU_2017, ptbin1fail_ttbar) has magnitude greater than 50% (285682.17%), you might be passing absolute values instead of relative\n",
      "effect_down (CMS_HWW_boosted_PU_2017, ptbin1fail_ttbar) has magnitude greater than 50% (224972.34%), you might be passing absolute values instead of relative\n",
      "effect_up (CMS_HWW_boosted_PU_2017, ptbin1fail_wjets) has magnitude greater than 50% (266219.81%), you might be passing absolute values instead of relative\n",
      "effect_down (CMS_HWW_boosted_PU_2017, ptbin1fail_wjets) has magnitude greater than 50% (212414.13%), you might be passing absolute values instead of relative\n",
      "effect_up (CMS_HWW_boosted_PU_2017, ptbin1fail_singletop) has magnitude greater than 50% (34146.58%), you might be passing absolute values instead of relative\n",
      "effect_down (CMS_HWW_boosted_PU_2017, ptbin1fail_singletop) has magnitude greater than 50% (17328.61%), you might be passing absolute values instead of relative\n",
      "effect_up (CMS_HWW_boosted_PU_2017, ptbin1fail_zjets) has magnitude greater than 50% (23007.08%), you might be passing absolute values instead of relative\n",
      "effect_down (CMS_HWW_boosted_PU_2017, ptbin1fail_zjets) has magnitude greater than 50% (19697.80%), you might be passing absolute values instead of relative\n",
      "effect_up (CMS_HWW_boosted_PU_2017, ptbin2pass_ggF) has magnitude greater than 50% (79.43%), you might be passing absolute values instead of relative\n",
      "effect_down (CMS_HWW_boosted_PU_2017, ptbin2pass_ggF) has magnitude greater than 50% (82.36%), you might be passing absolute values instead of relative\n",
      "effect_up (UEPS_FSR_ggF, ptbin2pass_ggF) has magnitude greater than 50% (80.64%), you might be passing absolute values instead of relative\n",
      "effect_down (UEPS_FSR_ggF, ptbin2pass_ggF) has magnitude greater than 50% (73.22%), you might be passing absolute values instead of relative\n",
      "effect_up (UEPS_ISR_ggF, ptbin2pass_ggF) has magnitude greater than 50% (81.84%), you might be passing absolute values instead of relative\n",
      "effect_down (UEPS_ISR_ggF, ptbin2pass_ggF) has magnitude greater than 50% (80.20%), you might be passing absolute values instead of relative\n",
      "effect_up (CMS_HWW_boosted_PU_2017, ptbin2pass_VH) has magnitude greater than 50% (92.37%), you might be passing absolute values instead of relative\n",
      "effect_down (CMS_HWW_boosted_PU_2017, ptbin2pass_VH) has magnitude greater than 50% (93.17%), you might be passing absolute values instead of relative\n",
      "effect_up (CMS_HWW_boosted_PU_2017, ptbin2pass_ttH) has magnitude greater than 50% (95.08%), you might be passing absolute values instead of relative\n",
      "effect_down (CMS_HWW_boosted_PU_2017, ptbin2pass_ttH) has magnitude greater than 50% (94.39%), you might be passing absolute values instead of relative\n",
      "effect_up (CMS_HWW_boosted_PU_2017, ptbin2pass_ttbar) has magnitude greater than 50% (1883.15%), you might be passing absolute values instead of relative\n",
      "effect_down (CMS_HWW_boosted_PU_2017, ptbin2pass_ttbar) has magnitude greater than 50% (1778.77%), you might be passing absolute values instead of relative\n",
      "effect_up (CMS_HWW_boosted_PU_2017, ptbin2pass_wjets) has magnitude greater than 50% (21877.66%), you might be passing absolute values instead of relative\n",
      "effect_down (CMS_HWW_boosted_PU_2017, ptbin2pass_wjets) has magnitude greater than 50% (15375.27%), you might be passing absolute values instead of relative\n",
      "effect_up (CMS_HWW_boosted_PU_2017, ptbin2pass_singletop) has magnitude greater than 50% (240.31%), you might be passing absolute values instead of relative\n",
      "effect_down (CMS_HWW_boosted_PU_2017, ptbin2pass_singletop) has magnitude greater than 50% (239.47%), you might be passing absolute values instead of relative\n",
      "effect_up (CMS_HWW_boosted_PU_2017, ptbin2pass_zjets) has magnitude greater than 50% (370.19%), you might be passing absolute values instead of relative\n",
      "effect_down (CMS_HWW_boosted_PU_2017, ptbin2pass_zjets) has magnitude greater than 50% (414.15%), you might be passing absolute values instead of relative\n",
      "effect_up (CMS_HWW_boosted_PU_2017, ptbin2fail_ggF) has magnitude greater than 50% (94.84%), you might be passing absolute values instead of relative\n",
      "effect_down (CMS_HWW_boosted_PU_2017, ptbin2fail_ggF) has magnitude greater than 50% (93.85%), you might be passing absolute values instead of relative\n",
      "effect_up (UEPS_FSR_ggF, ptbin2fail_ggF) has magnitude greater than 50% (93.59%), you might be passing absolute values instead of relative\n",
      "effect_down (UEPS_FSR_ggF, ptbin2fail_ggF) has magnitude greater than 50% (96.19%), you might be passing absolute values instead of relative\n",
      "effect_up (UEPS_ISR_ggF, ptbin2fail_ggF) has magnitude greater than 50% (94.80%), you might be passing absolute values instead of relative\n",
      "effect_down (UEPS_ISR_ggF, ptbin2fail_ggF) has magnitude greater than 50% (93.70%), you might be passing absolute values instead of relative\n",
      "effect_up (CMS_HWW_boosted_PU_2017, ptbin2fail_VH) has magnitude greater than 50% (95.56%), you might be passing absolute values instead of relative\n",
      "effect_down (CMS_HWW_boosted_PU_2017, ptbin2fail_VH) has magnitude greater than 50% (96.49%), you might be passing absolute values instead of relative\n",
      "effect_up (CMS_HWW_boosted_PU_2017, ptbin2fail_ttH) has magnitude greater than 50% (79.13%), you might be passing absolute values instead of relative\n",
      "effect_down (CMS_HWW_boosted_PU_2017, ptbin2fail_ttH) has magnitude greater than 50% (81.54%), you might be passing absolute values instead of relative\n",
      "effect_up (CMS_HWW_boosted_PU_2017, ptbin2fail_ttbar) has magnitude greater than 50% (56802.56%), you might be passing absolute values instead of relative\n",
      "effect_down (CMS_HWW_boosted_PU_2017, ptbin2fail_ttbar) has magnitude greater than 50% (44785.41%), you might be passing absolute values instead of relative\n",
      "effect_up (CMS_HWW_boosted_PU_2017, ptbin2fail_wjets) has magnitude greater than 50% (81189.22%), you might be passing absolute values instead of relative\n",
      "effect_down (CMS_HWW_boosted_PU_2017, ptbin2fail_wjets) has magnitude greater than 50% (62640.30%), you might be passing absolute values instead of relative\n",
      "effect_up (CMS_HWW_boosted_PU_2017, ptbin2fail_singletop) has magnitude greater than 50% (5105.34%), you might be passing absolute values instead of relative\n",
      "effect_down (CMS_HWW_boosted_PU_2017, ptbin2fail_singletop) has magnitude greater than 50% (4026.03%), you might be passing absolute values instead of relative\n",
      "effect_up (CMS_HWW_boosted_PU_2017, ptbin2fail_zjets) has magnitude greater than 50% (4248.12%), you might be passing absolute values instead of relative\n",
      "effect_down (CMS_HWW_boosted_PU_2017, ptbin2fail_zjets) has magnitude greater than 50% (3703.80%), you might be passing absolute values instead of relative\n",
      "effect_up (CMS_HWW_boosted_PU_2017, ptbin3pass_ggF) has magnitude greater than 50% (94.66%), you might be passing absolute values instead of relative\n",
      "effect_down (CMS_HWW_boosted_PU_2017, ptbin3pass_ggF) has magnitude greater than 50% (96.51%), you might be passing absolute values instead of relative\n",
      "effect_up (UEPS_FSR_ggF, ptbin3pass_ggF) has magnitude greater than 50% (96.30%), you might be passing absolute values instead of relative\n",
      "effect_down (UEPS_FSR_ggF, ptbin3pass_ggF) has magnitude greater than 50% (96.89%), you might be passing absolute values instead of relative\n",
      "effect_up (UEPS_ISR_ggF, ptbin3pass_ggF) has magnitude greater than 50% (96.21%), you might be passing absolute values instead of relative\n",
      "effect_down (UEPS_ISR_ggF, ptbin3pass_ggF) has magnitude greater than 50% (95.80%), you might be passing absolute values instead of relative\n",
      "effect_up (CMS_HWW_boosted_PU_2017, ptbin3pass_VH) has magnitude greater than 50% (97.71%), you might be passing absolute values instead of relative\n",
      "effect_down (CMS_HWW_boosted_PU_2017, ptbin3pass_VH) has magnitude greater than 50% (97.77%), you might be passing absolute values instead of relative\n",
      "effect_up (CMS_HWW_boosted_PU_2017, ptbin3pass_ttH) has magnitude greater than 50% (97.93%), you might be passing absolute values instead of relative\n",
      "effect_down (CMS_HWW_boosted_PU_2017, ptbin3pass_ttH) has magnitude greater than 50% (98.40%), you might be passing absolute values instead of relative\n",
      "effect_up (CMS_HWW_boosted_PU_2017, ptbin3pass_ttbar) has magnitude greater than 50% (187.98%), you might be passing absolute values instead of relative\n",
      "effect_down (CMS_HWW_boosted_PU_2017, ptbin3pass_ttbar) has magnitude greater than 50% (156.24%), you might be passing absolute values instead of relative\n",
      "effect_up (CMS_HWW_boosted_PU_2017, ptbin3pass_wjets) has magnitude greater than 50% (4396.25%), you might be passing absolute values instead of relative\n",
      "effect_down (CMS_HWW_boosted_PU_2017, ptbin3pass_wjets) has magnitude greater than 50% (4082.71%), you might be passing absolute values instead of relative\n",
      "effect_up (CMS_HWW_boosted_PU_2017, ptbin3pass_zjets) has magnitude greater than 50% (53.86%), you might be passing absolute values instead of relative\n"
     ]
    },
    {
     "name": "stdout",
     "output_type": "stream",
     "text": [
      "effect_up (CMS_HWW_boosted_PU_2017, ptbin3fail_VH) has magnitude greater than 50% (99.18%), you might be passing absolute values instead of relative\n",
      "effect_down (CMS_HWW_boosted_PU_2017, ptbin3fail_VH) has magnitude greater than 50% (99.31%), you might be passing absolute values instead of relative\n",
      "effect_up (CMS_HWW_boosted_PU_2017, ptbin3fail_ttH) has magnitude greater than 50% (95.19%), you might be passing absolute values instead of relative\n",
      "effect_down (CMS_HWW_boosted_PU_2017, ptbin3fail_ttH) has magnitude greater than 50% (95.99%), you might be passing absolute values instead of relative\n",
      "effect_up (CMS_HWW_boosted_PU_2017, ptbin3fail_ttbar) has magnitude greater than 50% (9973.86%), you might be passing absolute values instead of relative\n",
      "effect_down (CMS_HWW_boosted_PU_2017, ptbin3fail_ttbar) has magnitude greater than 50% (9000.54%), you might be passing absolute values instead of relative\n",
      "effect_up (CMS_HWW_boosted_PU_2017, ptbin3fail_wjets) has magnitude greater than 50% (23856.30%), you might be passing absolute values instead of relative\n",
      "effect_down (CMS_HWW_boosted_PU_2017, ptbin3fail_wjets) has magnitude greater than 50% (19569.10%), you might be passing absolute values instead of relative\n",
      "effect_up (CMS_HWW_boosted_PU_2017, ptbin3fail_singletop) has magnitude greater than 50% (800.41%), you might be passing absolute values instead of relative\n",
      "effect_down (CMS_HWW_boosted_PU_2017, ptbin3fail_singletop) has magnitude greater than 50% (560.06%), you might be passing absolute values instead of relative\n",
      "effect_up (CMS_HWW_boosted_PU_2017, ptbin3fail_zjets) has magnitude greater than 50% (958.94%), you might be passing absolute values instead of relative\n",
      "effect_down (CMS_HWW_boosted_PU_2017, ptbin3fail_zjets) has magnitude greater than 50% (784.89%), you might be passing absolute values instead of relative\n",
      "effect_up (CMS_HWW_boosted_PU_2017, ptbin4pass_VH) has magnitude greater than 50% (99.54%), you might be passing absolute values instead of relative\n",
      "effect_down (CMS_HWW_boosted_PU_2017, ptbin4pass_VH) has magnitude greater than 50% (99.44%), you might be passing absolute values instead of relative\n",
      "effect_up (CMS_HWW_boosted_PU_2017, ptbin4pass_ttH) has magnitude greater than 50% (98.86%), you might be passing absolute values instead of relative\n",
      "effect_down (CMS_HWW_boosted_PU_2017, ptbin4pass_ttH) has magnitude greater than 50% (98.91%), you might be passing absolute values instead of relative\n",
      "effect_up (CMS_HWW_boosted_PU_2017, ptbin4pass_wjets) has magnitude greater than 50% (1724.43%), you might be passing absolute values instead of relative\n",
      "effect_down (CMS_HWW_boosted_PU_2017, ptbin4pass_wjets) has magnitude greater than 50% (794.03%), you might be passing absolute values instead of relative\n",
      "effect_up (CMS_HWW_boosted_PU_2017, ptbin4pass_singletop) has magnitude greater than 50% (80.34%), you might be passing absolute values instead of relative\n",
      "effect_down (CMS_HWW_boosted_PU_2017, ptbin4pass_singletop) has magnitude greater than 50% (74.78%), you might be passing absolute values instead of relative\n",
      "effect_up (CMS_HWW_boosted_PU_2017, ptbin4pass_zjets) has magnitude greater than 50% (112.71%), you might be passing absolute values instead of relative\n",
      "effect_down (CMS_HWW_boosted_PU_2017, ptbin4pass_zjets) has magnitude greater than 50% (135.32%), you might be passing absolute values instead of relative\n",
      "effect_up (CMS_HWW_boosted_PU_2017, ptbin4fail_VH) has magnitude greater than 50% (99.78%), you might be passing absolute values instead of relative\n",
      "effect_down (CMS_HWW_boosted_PU_2017, ptbin4fail_VH) has magnitude greater than 50% (99.66%), you might be passing absolute values instead of relative\n",
      "effect_up (CMS_HWW_boosted_PU_2017, ptbin4fail_ttH) has magnitude greater than 50% (99.91%), you might be passing absolute values instead of relative\n",
      "effect_down (CMS_HWW_boosted_PU_2017, ptbin4fail_ttH) has magnitude greater than 50% (100.04%), you might be passing absolute values instead of relative\n",
      "effect_up (CMS_HWW_boosted_PU_2017, ptbin4fail_ttbar) has magnitude greater than 50% (1830.18%), you might be passing absolute values instead of relative\n",
      "effect_down (CMS_HWW_boosted_PU_2017, ptbin4fail_ttbar) has magnitude greater than 50% (1516.67%), you might be passing absolute values instead of relative\n",
      "effect_up (CMS_HWW_boosted_PU_2017, ptbin4fail_wjets) has magnitude greater than 50% (5700.91%), you might be passing absolute values instead of relative\n",
      "effect_down (CMS_HWW_boosted_PU_2017, ptbin4fail_wjets) has magnitude greater than 50% (5168.57%), you might be passing absolute values instead of relative\n",
      "effect_up (CMS_HWW_boosted_PU_2017, ptbin4fail_singletop) has magnitude greater than 50% (59.98%), you might be passing absolute values instead of relative\n",
      "effect_up (CMS_HWW_boosted_PU_2017, ptbin4fail_zjets) has magnitude greater than 50% (195.36%), you might be passing absolute values instead of relative\n",
      "effect_down (CMS_HWW_boosted_PU_2017, ptbin4fail_zjets) has magnitude greater than 50% (197.35%), you might be passing absolute values instead of relative\n"
     ]
    },
    {
     "name": "stderr",
     "output_type": "stream",
     "text": [
      "/tmp/ipykernel_31430/1126598244.py:5: RuntimeWarning: invalid value encountered in double_scalars\n",
      "  if abs(var_rate/nom_rate) > clip:\n",
      "/tmp/ipykernel_31430/1126598244.py:11: RuntimeWarning: invalid value encountered in double_scalars\n",
      "  return var_rate/nom_rate\n"
     ]
    }
   ],
   "source": [
    "blind = True\n",
    "blind_samples = []   # will blind all if empty\n",
    "blind_region = [40,200]\n",
    "\n",
    "    \n",
    "# build actual fit model now\n",
    "model = rl.Model(\"testModel\")\n",
    "\n",
    "# fill datacard with systematics and rates\n",
    "for ptbin in range(npt):\n",
    "    for region in ['pass', 'fail']:\n",
    "        ch = rl.Channel(\"ptbin%d%s\" % (ptbin, region))\n",
    "        model.addChannel(ch)\n",
    "\n",
    "        isPass = region == 'pass'\n",
    "        ptnorm = 1.\n",
    "\n",
    "        if blind:\n",
    "            h = blindBins(hists_templates[region], blind_region, blind_samples)\n",
    "                          \n",
    "        else:\n",
    "            h = hists_templates[region]\n",
    "    \n",
    "        for sName in samples:\n",
    "\n",
    "            templ = get_template(h, sName, ptbin)\n",
    "            stype = rl.Sample.SIGNAL if sName in sigs else rl.Sample.BACKGROUND\n",
    "            sample = rl.TemplateSample(ch.name + '_' + labels[sName], stype, templ)\n",
    "\n",
    "            ### systematics NOT from parquets\n",
    "            for sys_name, sys_value in sys_dict.items():\n",
    "                sample.setParamEffect(sys_value, \n",
    "                                      sys_dict_values[sys_name][0], \n",
    "                                      sys_dict_values[sys_name][1] if sys_dict_values[sys_name][1] is not None else sys_dict_values[sys_name][0])\n",
    "            \n",
    "\n",
    "            ### systematics from parquets\n",
    "            # apply systematics that are common for all samples\n",
    "            for sys_name, sys_value in sys_from_parquets[lep_ch][\"all_samples\"].items():\n",
    "\n",
    "                syst_up = h[{\"samples\": sName, \"fj_pt\": ptbin, \"systematic\": sys_name+\"Up\"}].values()\n",
    "                syst_do = h[{\"samples\": sName, \"fj_pt\": ptbin, \"systematic\": sys_name+\"Down\"}].values()\n",
    "                \n",
    "                if sys_value.combinePrior == \"lnN\":\n",
    "                    nominal = h[{\"samples\": sName, \"fj_pt\": ptbin, \"systematic\": \"nominal\"}].values()\n",
    "\n",
    "                    eff_up = shape_to_num(syst_up,nominal)\n",
    "                    eff_do = shape_to_num(syst_do,nominal)\n",
    "\n",
    "                    sample.setParamEffect(sys_value, eff_up, eff_do)\n",
    "\n",
    "                else:\n",
    "                    \n",
    "                    sample.setParamEffect(sys_value, syst_up, syst_do)\n",
    "            \n",
    "            \n",
    "            # apply systematics that are common for this particular sample\n",
    "            for sys_name, sys_value in sys_from_parquets[lep_ch][sName].items():\n",
    "                \n",
    "                syst_up = h[{\"samples\": sName, \"fj_pt\": ptbin, \"systematic\": sys_name+\"Up\"}].values()\n",
    "                syst_do = h[{\"samples\": sName, \"fj_pt\": ptbin, \"systematic\": sys_name+\"Down\"}].values()\n",
    "                \n",
    "                if sys_value.combinePrior == \"lnN\":\n",
    "                \n",
    "                    nominal = h[{\"samples\": sName, \"fj_pt\": ptbin, \"systematic\": \"nominal\"}].values()\n",
    "\n",
    "                    eff_up = shape_to_num(syst_up,nominal)\n",
    "                    eff_do = shape_to_num(syst_do,nominal)\n",
    "\n",
    "                    sample.setParamEffect(sys_value, eff_up, eff_do)\n",
    "\n",
    "                else:\n",
    "                    sample.setParamEffect(sys_value, syst_up, syst_do)\n",
    "\n",
    "            ch.addSample(sample)\n",
    "        \n",
    "        # add data\n",
    "        data_obs = get_template(h, \"Data\", ptbin)\n",
    "        ch.setObservation(data_obs)\n",
    "        \n",
    "        # drop bins outside rho validity\n",
    "        mask = validbins[ptbin]\n",
    "        # blind bins 3:6\n",
    "#         mask[3:6] = False\n",
    "        ch.mask = mask        "
   ]
  },
  {
   "cell_type": "code",
   "execution_count": 87,
   "metadata": {},
   "outputs": [],
   "source": [
    "# qcd data-driven estimation\n",
    "\n",
    "if blind:\n",
    "    h_pass = blindBins(hists_templates[\"pass\"], blind_region, blind_samples)\n",
    "    h_fail = blindBins(hists_templates[\"fail\"], blind_region, blind_samples)\n",
    "    \n",
    "else:\n",
    "    h_pass = hists_templates[\"pass\"]\n",
    "    h_fail = hists_templates[\"fail\"]\n",
    "\n",
    "    \n",
    "# get the transfer factor\n",
    "qcd_eff = (\n",
    "    h_pass[{\"samples\": \"QCD\", \"systematic\": \"nominal\"}].sum() \n",
    "    / h_fail[{\"samples\": \"QCD\", \"systematic\": \"nominal\"}] .sum()\n",
    ")\n",
    "    \n",
    "tf_dataResidual = rl.BernsteinPoly(\n",
    "    f\"{CMS_PARAMS_LABEL}_tf_dataResidual\", (2, 2), ['pt', 'rho'], limits=(-20, 20)\n",
    ")\n",
    "tf_dataResidual_params = tf_dataResidual(pt_scaled, rho_scaled)\n",
    "tf_params_pass = qcd_eff * tf_dataResidual_params\n",
    "\n",
    "for ptbin in range(npt):\n",
    "    failCh = model['ptbin%dfail' % ptbin]\n",
    "    passCh = model['ptbin%dpass' % ptbin]\n",
    "\n",
    "    qcdparams = np.array([rl.IndependentParameter('qcdparam_ptbin%d_massbin%d' % (ptbin, i), 0) for i in range(mass.nbins)])\n",
    "    initial_qcd = failCh.getObservation().astype(float)  # was integer, and numpy complained about subtracting float from it\n",
    "    \n",
    "    for sample in failCh:\n",
    "        initial_qcd -= sample.getExpectation(nominal=True)\n",
    "    \n",
    "    if np.any(initial_qcd < 0.):\n",
    "        initial_qcd[np.where(initial_qcd<0)] = 0\n",
    "#         raise ValueError(\"initial_qcd negative for some bins..\", initial_qcd)\n",
    "    \n",
    "    sigmascale = 10  # to scale the deviation from initial\n",
    "    scaledparams = initial_qcd * (1 + sigmascale/np.maximum(1., np.sqrt(initial_qcd)))**qcdparams\n",
    "    fail_qcd = rl.ParametericSample('ptbin%dfail_qcd' % ptbin, rl.Sample.BACKGROUND, mass, scaledparams)\n",
    "    failCh.addSample(fail_qcd)\n",
    "    pass_qcd = rl.TransferFactorSample('ptbin%dpass_qcd' % ptbin, rl.Sample.BACKGROUND, tf_params_pass[ptbin, :], fail_qcd)\n",
    "    passCh.addSample(pass_qcd) "
   ]
  },
  {
   "cell_type": "code",
   "execution_count": 88,
   "metadata": {},
   "outputs": [],
   "source": [
    "tmpdir = \"tmpdir/\"\n",
    "\n",
    "if not os.path.isdir(tmpdir):\n",
    "    os.mkdir(tmpdir)\n",
    "\n",
    "with open(f\"{tmpdir}/testModel.pkl\", \"wb\") as fout:\n",
    "    pkl.dump(model, fout, protocol=2)"
   ]
  },
  {
   "cell_type": "code",
   "execution_count": 52,
   "metadata": {},
   "outputs": [],
   "source": [
    "# # you can then render combine in a CMSENV\n",
    "\n",
    "# with open(os.path.join(str(tmpdir), 'testModel.pkl'), \"rb\") as fout:\n",
    "#     model = pickle.load(fout)\n",
    "\n",
    "# model.renderCombine(os.path.join(str(tmpdir), 'testModel'))       "
   ]
  },
  {
   "cell_type": "code",
   "execution_count": null,
   "metadata": {},
   "outputs": [],
   "source": []
  },
  {
   "cell_type": "code",
   "execution_count": 3,
   "metadata": {},
   "outputs": [],
   "source": [
    "from typing import Dict, List, Tuple\n",
    "regions: List[str] = [\n",
    "    f\"{pf}{blind_str}\" for pf in [f\"pass\", \"fail\"] for blind_str in [\"\", \"Blinded\"]\n",
    "]"
   ]
  },
  {
   "cell_type": "code",
   "execution_count": 4,
   "metadata": {},
   "outputs": [
    {
     "data": {
      "text/plain": [
       "['pass', 'passBlinded', 'fail', 'failBlinded']"
      ]
     },
     "execution_count": 4,
     "metadata": {},
     "output_type": "execute_result"
    }
   ],
   "source": [
    "regions"
   ]
  },
  {
   "cell_type": "code",
   "execution_count": null,
   "metadata": {},
   "outputs": [],
   "source": []
  },
  {
   "cell_type": "code",
   "execution_count": 6,
   "metadata": {},
   "outputs": [
    {
     "ename": "NameError",
     "evalue": "name 'hists_templates' is not defined",
     "output_type": "error",
     "traceback": [
      "\u001b[0;31m---------------------------------------------------------------------------\u001b[0m",
      "\u001b[0;31mNameError\u001b[0m                                 Traceback (most recent call last)",
      "Cell \u001b[0;32mIn[6], line 1\u001b[0m\n\u001b[0;32m----> 1\u001b[0m \u001b[43mhists_templates\u001b[49m[\u001b[38;5;124m\"\u001b[39m\u001b[38;5;124mpass\u001b[39m\u001b[38;5;124m\"\u001b[39m]\n",
      "\u001b[0;31mNameError\u001b[0m: name 'hists_templates' is not defined"
     ]
    }
   ],
   "source": [
    "hists_templates[\"pass\"]"
   ]
  },
  {
   "cell_type": "code",
   "execution_count": null,
   "metadata": {},
   "outputs": [],
   "source": []
  },
  {
   "cell_type": "code",
   "execution_count": null,
   "metadata": {},
   "outputs": [],
   "source": []
  },
  {
   "cell_type": "markdown",
   "metadata": {},
   "source": [
    "# Weird"
   ]
  },
  {
   "cell_type": "code",
   "execution_count": 143,
   "metadata": {},
   "outputs": [
    {
     "data": {
      "text/plain": [
       "Hist(\n",
       "  StrCategory(['WJetsLNu', 'DYJets', 'VBF', 'VH', 'TTbar', 'SingleTop', 'HWW', 'WZQQ', 'QCD', 'Data', 'Diboson', 'ttH'], growth=True, name='samples'),\n",
       "  StrCategory(['Nominal', 'weight_mu_btagSFlight_2017Up', 'weight_mu_btagSFlight_2017Down', 'weight_mu_btagSFlight_correlatedUp', 'weight_mu_btagSFlight_correlatedDown', 'weight_mu_btagSFbc_2017Up', 'weight_mu_btagSFbc_2017Down', 'weight_mu_btagSFbc_correlatedUp', 'weight_mu_btagSFbc_correlatedDown', 'weight_mu_pileupUp', 'weight_mu_pileupDown', 'weight_mu_isolation_muonUp', 'weight_mu_isolation_muonDown', 'weight_mu_id_muonUp', 'weight_mu_id_muonDown', 'weight_mu_L1PrefiringUp', 'weight_mu_L1PrefiringDown', 'weight_mu_trigger_iso_muonUp', 'weight_mu_trigger_iso_muonDown', 'weight_mu_trigger_noniso_muonUp', 'weight_mu_trigger_noniso_muonDown', 'weight_mu_d1K_NLOUp', 'weight_mu_d1K_NLODown', 'weight_mu_d2K_NLOUp', 'weight_mu_d2K_NLODown', 'weight_mu_d3K_NLOUp', 'weight_mu_d3K_NLODown', 'weight_mu_d1kappa_EWUp', 'weight_mu_d1kappa_EWDown', 'weight_mu_W_d2kappa_EWUp', 'weight_mu_W_d2kappa_EWDown', 'weight_mu_W_d3kappa_EWUp', 'weight_mu_W_d3kappa_EWDown', 'weight_mu_Z_d2kappa_EWUp', 'weight_mu_Z_d2kappa_EWDown', 'weight_mu_Z_d3kappa_EWUp', 'weight_mu_Z_d3kappa_EWDown', 'weight_mu_aS_weightUp', 'weight_mu_aS_weightDown', 'weight_mu_UEPS_FSRUp', 'weight_mu_UEPS_FSRDown', 'weight_mu_UEPS_ISRUp', 'weight_mu_UEPS_ISRDown', 'weight_mu_PDF_weightUp', 'weight_mu_PDF_weightDown', 'weight_mu_PDFaS_weightUp', 'weight_mu_PDFaS_weightDown', 'weight_mu_scalevar_3ptUp', 'weight_mu_scalevar_3ptDown', 'weight_mu_scalevar_7ptUp', 'weight_mu_scalevar_7ptDown'], growth=True, name='systematic'),\n",
       "  Variable([200, 400, 600, 1200], name='fj_pt', label='Jet $p_T$ [GeV]'),\n",
       "  Variable([40, 61, 82, 103, 124, 145, 166, 187, 208, 229], name='rec_higgs_m', label='Higgs reconstructed mass [GeV]'),\n",
       "  storage=Double()) # Sum: 7684748.652335145 (9944966.017022358 with flow)"
      ]
     },
     "execution_count": 143,
     "metadata": {},
     "output_type": "execute_result"
    }
   ],
   "source": [
    "hists_templates[region]"
   ]
  },
  {
   "cell_type": "code",
   "execution_count": null,
   "metadata": {},
   "outputs": [],
   "source": []
  },
  {
   "cell_type": "code",
   "execution_count": 146,
   "metadata": {},
   "outputs": [
    {
     "data": {
      "text/html": [
       "<html>\n",
       "<div style=\"display:flex; align-items:center;\">\n",
       "<div style=\"width:290px;\">\n",
       "<svg xmlns=\"http://www.w3.org/2000/svg\" viewBox=\"-10 -105 270 120\">\n",
       "<line x1=\"-5\" y1=\"0\" x2=\"255\" y2=\"0\" style=\"fill:none;stroke-width:2;stroke:currentColor\"/>\n",
       "<text text-anchor=\"middle\" x=\"0\" y=\"15\" style=\"fill:currentColor;\">\n",
       "40\n",
       "</text>\n",
       "<text text-anchor=\"middle\" x=\"250\" y=\"15\" style=\"fill:currentColor;\">\n",
       "229\n",
       "</text>\n",
       "<text text-anchor=\"middle\" x=\"125.0\" y=\"15\" style=\"fill:currentColor;\">\n",
       "Higgs reconstructed mass [GeV]\n",
       "</text>\n",
       "<polyline points=\"  0,0   0,-57.4 27.7778,-57.4 27.7778,-73.3 55.5556,-73.3 55.5556,-92.1 83.3333,-92.1 83.3333,-100 111.111,-100 111.111,-96.9 138.889,-96.9 138.889,-82.7 166.667,-82.7 166.667,-46.8 194.444,-46.8 194.444,-61.5 222.222,-61.5 222.222,-37.3 250,-37.3 250,0\" style=\"fill:none; stroke:currentColor;\"/>\n",
       "</svg>\n",
       "</div>\n",
       "<div style=\"flex=grow:1;\">\n",
       "Variable([40, 61, 82, 103, 124, 145, 166, 187, 208, 229], name='rec_higgs_m', label='Higgs reconstructed mass [GeV]')<br/>\n",
       "<hr style=\"margin-top:.2em; margin-bottom:.2em;\"/>\n",
       "Double() Σ=14405.738480112432 <em>(17380.864209511736 with flow)</em>\n",
       "\n",
       "</div>\n",
       "</div>\n",
       "</html>"
      ],
      "text/plain": [
       "Hist(Variable([40, 61, 82, 103, 124, 145, 166, 187, 208, 229], name='rec_higgs_m', label='Higgs reconstructed mass [GeV]'), storage=Double()) # Sum: 14405.738480112432 (17380.864209511736 with flow)"
      ]
     },
     "execution_count": 146,
     "metadata": {},
     "output_type": "execute_result"
    }
   ],
   "source": [
    "hists_templates[region][{\"samples\": \"DYJets\", \"fj_pt\": 0, \"systematic\": \"weight_mu_pileup\"+\"Up\"}]"
   ]
  },
  {
   "cell_type": "code",
   "execution_count": 521,
   "metadata": {},
   "outputs": [
    {
     "data": {
      "text/plain": [
       "array([  150.296258  , -1843.68413151,  7010.90422745,  7428.64527074,\n",
       "        8357.54945927, 15357.74445735, 14694.38271677, 28407.87092594,\n",
       "       21605.53628121])"
      ]
     },
     "execution_count": 521,
     "metadata": {},
     "output_type": "execute_result"
    }
   ],
   "source": [
    "hists_templates[region][{\"samples\": \"DYJets\", \"fj_pt\": 3, \"systematic\": \"weight_mu_pileup\"+\"Up\"}].counts()"
   ]
  },
  {
   "cell_type": "code",
   "execution_count": null,
   "metadata": {},
   "outputs": [],
   "source": []
  },
  {
   "cell_type": "code",
   "execution_count": null,
   "metadata": {},
   "outputs": [],
   "source": []
  },
  {
   "cell_type": "code",
   "execution_count": 520,
   "metadata": {},
   "outputs": [
    {
     "data": {
      "text/plain": [
       "array([5140351.07765956, 6918601.06886374, 8676571.07647283,\n",
       "       9660143.65139297, 9591255.21968746, 8341564.29235224,\n",
       "       5038577.81015876, 6222156.98219302, 4110360.73886758])"
      ]
     },
     "execution_count": 520,
     "metadata": {},
     "output_type": "execute_result"
    }
   ],
   "source": [
    "hists_templates[region][{\"samples\": \"DYJets\", \"fj_pt\": sum, \"systematic\": \"weight_mu_pileup\"+\"Up\"}].counts()"
   ]
  },
  {
   "cell_type": "code",
   "execution_count": null,
   "metadata": {},
   "outputs": [],
   "source": []
  }
 ],
 "metadata": {
  "kernelspec": {
   "display_name": "coffea-env",
   "language": "python",
   "name": "coffea-env"
  },
  "language_info": {
   "codemirror_mode": {
    "name": "ipython",
    "version": 3
   },
   "file_extension": ".py",
   "mimetype": "text/x-python",
   "name": "python",
   "nbconvert_exporter": "python",
   "pygments_lexer": "ipython3",
   "version": "3.8.16"
  }
 },
 "nbformat": 4,
 "nbformat_minor": 2
}
