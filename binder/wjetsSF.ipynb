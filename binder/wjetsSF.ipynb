{
 "cells": [
  {
   "cell_type": "code",
   "execution_count": 1,
   "id": "280c80cc",
   "metadata": {},
   "outputs": [
    {
     "data": {
      "text/plain": [
       "{'divide': 'warn', 'over': 'warn', 'under': 'ignore', 'invalid': 'warn'}"
      ]
     },
     "execution_count": 1,
     "metadata": {},
     "output_type": "execute_result"
    }
   ],
   "source": [
    "import argparse\n",
    "import json\n",
    "import os\n",
    "import pickle as pkl\n",
    "import sys\n",
    "import time\n",
    "import warnings\n",
    "from typing import Union\n",
    "\n",
    "import pandas as pd\n",
    "import pyarrow as pa\n",
    "import pyarrow.parquet as pq\n",
    "import uproot\n",
    "from coffea import nanoevents, processor\n",
    "from coffea.nanoevents import BaseSchema, NanoAODSchema, NanoEventsFactory\n",
    "from coffea.nanoevents.methods.nanoaod import FatJetArray, GenParticleArray\n",
    "\n",
    "sys.path.append(\"../\")\n",
    "\n",
    "import json\n",
    "import os\n",
    "import pathlib\n",
    "import pickle as pkl\n",
    "import shutil\n",
    "import warnings\n",
    "from collections import defaultdict\n",
    "from typing import List, Optional\n",
    "\n",
    "import awkward as ak\n",
    "import hist as hist2\n",
    "import matplotlib.pyplot as plt\n",
    "import mplhep as hep\n",
    "\n",
    "plt.style.use(hep.style.CMS)\n",
    "\n",
    "import numpy as np\n",
    "import pandas as pd\n",
    "import pyarrow as pa\n",
    "import pyarrow.parquet as pq\n",
    "from coffea import processor\n",
    "from coffea.analysis_tools import PackedSelection, Weights\n",
    "from coffea.nanoevents.methods import candidate, vector\n",
    "\n",
    "warnings.filterwarnings(\"ignore\", message=\"Found duplicate branch \")\n",
    "warnings.filterwarnings(\"ignore\", category=DeprecationWarning)\n",
    "np.seterr(invalid=\"ignore\")"
   ]
  },
  {
   "cell_type": "code",
   "execution_count": 2,
   "id": "a0e272ca",
   "metadata": {},
   "outputs": [],
   "source": [
    "def pad_val(\n",
    "    arr: ak.Array,\n",
    "    value: float,\n",
    "    target: int = None,\n",
    "    axis: int = 0,\n",
    "    to_numpy: bool = False,\n",
    "    clip: bool = True,\n",
    "):\n",
    "    \"\"\"\n",
    "    basically: preserves the nested structure of the ak array and replaces None values with -1\n",
    "    pads awkward array up to ``target`` index along axis ``axis`` with value ``value``,\n",
    "    optionally converts to numpy array\n",
    "    \"\"\"\n",
    "    if target:\n",
    "        ret = ak.fill_none(ak.pad_none(arr, target, axis=axis, clip=clip), value, axis=None)\n",
    "    else:\n",
    "        ret = ak.fill_none(arr, value, axis=None)\n",
    "    return ret.to_numpy() if to_numpy else ret\n",
    "\n",
    "def build_p4(cand):\n",
    "    return ak.zip(\n",
    "        {\n",
    "            \"pt\": cand.pt,\n",
    "            \"eta\": cand.eta,\n",
    "            \"phi\": cand.phi,\n",
    "            \"mass\": cand.mass,\n",
    "#             \"charge\": cand.charge,\n",
    "        },\n",
    "        with_name=\"PtEtaPhiMCandidate\",\n",
    "        behavior=candidate.behavior,\n",
    "    )\n",
    "\n",
    "def get_pid_mask(\n",
    "    genparts: GenParticleArray,\n",
    "    pdgids: Union[int, list],\n",
    "    ax: int = 2,\n",
    "    byall: bool = True,\n",
    ") -> ak.Array:\n",
    "    \"\"\"\n",
    "    Get selection mask for gen particles matching any of the pdgIds in ``pdgids``.\n",
    "    If ``byall``, checks all particles along axis ``ax`` match.\n",
    "    \"\"\"\n",
    "    gen_pdgids = abs(genparts.pdgId)\n",
    "\n",
    "    if type(pdgids) == list:\n",
    "        mask = gen_pdgids == pdgids[0]\n",
    "        for pdgid in pdgids[1:]:\n",
    "            mask = mask | (gen_pdgids == pdgid)\n",
    "    else:\n",
    "        mask = gen_pdgids == pdgids\n",
    "\n",
    "    return ak.all(mask, axis=ax) if byall else mask"
   ]
  },
  {
   "cell_type": "code",
   "execution_count": 4,
   "id": "d02285d5",
   "metadata": {},
   "outputs": [],
   "source": [
    "# running on\n",
    "# root://cmseos.fnal.gov//store/user/lpcpfnano/drankin/v2_2/2017/WJetsToLNu/WJetsToLNu_HT-100To200_TuneCP5_13TeV-madgraphMLM-pythia8/WJetsToLNu_HT-100To200/211106_200115/0000/nano_mc2017_1-1.root"
   ]
  },
  {
   "cell_type": "code",
   "execution_count": 19,
   "id": "1f939675",
   "metadata": {},
   "outputs": [
    {
     "name": "stdout",
     "output_type": "stream",
     "text": [
      "0-1_ele.parquet  0-1_mu.parquet  0-1.pkl\r\n"
     ]
    }
   ],
   "source": [
    "! ls ../outfiles/"
   ]
  },
  {
   "cell_type": "code",
   "execution_count": 194,
   "id": "341662cf",
   "metadata": {},
   "outputs": [
    {
     "data": {
      "text/html": [
       "<div>\n",
       "<style scoped>\n",
       "    .dataframe tbody tr th:only-of-type {\n",
       "        vertical-align: middle;\n",
       "    }\n",
       "\n",
       "    .dataframe tbody tr th {\n",
       "        vertical-align: top;\n",
       "    }\n",
       "\n",
       "    .dataframe thead th {\n",
       "        text-align: right;\n",
       "    }\n",
       "</style>\n",
       "<table border=\"1\" class=\"dataframe\">\n",
       "  <thead>\n",
       "    <tr style=\"text-align: right;\">\n",
       "      <th></th>\n",
       "      <th>fj_msoftdrop</th>\n",
       "      <th>lep_pt</th>\n",
       "      <th>lep_isolation</th>\n",
       "      <th>lep_misolation</th>\n",
       "      <th>lep_fj_dr</th>\n",
       "      <th>lep_met_mt</th>\n",
       "      <th>met_fj_dphi</th>\n",
       "      <th>met_pt</th>\n",
       "      <th>deta</th>\n",
       "      <th>mjj</th>\n",
       "      <th>...</th>\n",
       "      <th>L_btagSFlight_2017Up</th>\n",
       "      <th>L_btagSFlight_2017Down</th>\n",
       "      <th>L_btagSFbc_2017Up</th>\n",
       "      <th>L_btagSFbc_2017Down</th>\n",
       "      <th>L_btagSFlight_correlatedUp</th>\n",
       "      <th>L_btagSFlight_correlatedDown</th>\n",
       "      <th>L_btagSFbc_correlatedUp</th>\n",
       "      <th>L_btagSFbc_correlatedDown</th>\n",
       "      <th>weight_mu</th>\n",
       "      <th>weight_ele</th>\n",
       "    </tr>\n",
       "  </thead>\n",
       "  <tbody>\n",
       "    <tr>\n",
       "      <th>0</th>\n",
       "      <td>24.167390</td>\n",
       "      <td>119.065475</td>\n",
       "      <td>0.718474</td>\n",
       "      <td>0.000000</td>\n",
       "      <td>0.090115</td>\n",
       "      <td>75.421257</td>\n",
       "      <td>2.189562</td>\n",
       "      <td>14.468851</td>\n",
       "      <td>2.214783</td>\n",
       "      <td>214.936279</td>\n",
       "      <td>...</td>\n",
       "      <td>0.995445</td>\n",
       "      <td>0.995178</td>\n",
       "      <td>0.997911</td>\n",
       "      <td>0.991843</td>\n",
       "      <td>0.995407</td>\n",
       "      <td>0.995217</td>\n",
       "      <td>0.997109</td>\n",
       "      <td>0.993107</td>\n",
       "      <td>1.502497</td>\n",
       "      <td>1.503789</td>\n",
       "    </tr>\n",
       "    <tr>\n",
       "      <th>1</th>\n",
       "      <td>95.244769</td>\n",
       "      <td>64.717102</td>\n",
       "      <td>0.000000</td>\n",
       "      <td>0.000000</td>\n",
       "      <td>0.417019</td>\n",
       "      <td>23.582958</td>\n",
       "      <td>0.312709</td>\n",
       "      <td>49.522247</td>\n",
       "      <td>NaN</td>\n",
       "      <td>NaN</td>\n",
       "      <td>...</td>\n",
       "      <td>0.327236</td>\n",
       "      <td>0.287633</td>\n",
       "      <td>0.307598</td>\n",
       "      <td>0.307598</td>\n",
       "      <td>0.321726</td>\n",
       "      <td>0.293300</td>\n",
       "      <td>0.307598</td>\n",
       "      <td>0.307598</td>\n",
       "      <td>1.465581</td>\n",
       "      <td>1.426363</td>\n",
       "    </tr>\n",
       "    <tr>\n",
       "      <th>2</th>\n",
       "      <td>91.984312</td>\n",
       "      <td>50.384544</td>\n",
       "      <td>0.019467</td>\n",
       "      <td>0.019471</td>\n",
       "      <td>0.435228</td>\n",
       "      <td>68.267258</td>\n",
       "      <td>2.717904</td>\n",
       "      <td>27.253942</td>\n",
       "      <td>0.567627</td>\n",
       "      <td>68.779877</td>\n",
       "      <td>...</td>\n",
       "      <td>0.554889</td>\n",
       "      <td>0.499390</td>\n",
       "      <td>0.527733</td>\n",
       "      <td>0.527733</td>\n",
       "      <td>0.546971</td>\n",
       "      <td>0.507904</td>\n",
       "      <td>0.527733</td>\n",
       "      <td>0.527733</td>\n",
       "      <td>1.500397</td>\n",
       "      <td>1.448191</td>\n",
       "    </tr>\n",
       "    <tr>\n",
       "      <th>3</th>\n",
       "      <td>56.494671</td>\n",
       "      <td>61.858627</td>\n",
       "      <td>0.000000</td>\n",
       "      <td>0.000000</td>\n",
       "      <td>0.388965</td>\n",
       "      <td>88.155411</td>\n",
       "      <td>-1.869926</td>\n",
       "      <td>39.349003</td>\n",
       "      <td>NaN</td>\n",
       "      <td>NaN</td>\n",
       "      <td>...</td>\n",
       "      <td>0.263304</td>\n",
       "      <td>0.230705</td>\n",
       "      <td>0.247108</td>\n",
       "      <td>0.247108</td>\n",
       "      <td>0.258750</td>\n",
       "      <td>0.235358</td>\n",
       "      <td>0.247108</td>\n",
       "      <td>0.247108</td>\n",
       "      <td>1.468193</td>\n",
       "      <td>1.449492</td>\n",
       "    </tr>\n",
       "    <tr>\n",
       "      <th>4</th>\n",
       "      <td>51.427469</td>\n",
       "      <td>158.847366</td>\n",
       "      <td>0.007645</td>\n",
       "      <td>0.000000</td>\n",
       "      <td>0.087791</td>\n",
       "      <td>19.440250</td>\n",
       "      <td>0.211057</td>\n",
       "      <td>51.423164</td>\n",
       "      <td>2.028931</td>\n",
       "      <td>290.408051</td>\n",
       "      <td>...</td>\n",
       "      <td>0.922720</td>\n",
       "      <td>0.921048</td>\n",
       "      <td>0.935384</td>\n",
       "      <td>0.908388</td>\n",
       "      <td>0.922511</td>\n",
       "      <td>0.921259</td>\n",
       "      <td>0.933418</td>\n",
       "      <td>0.910353</td>\n",
       "      <td>1.416018</td>\n",
       "      <td>1.444139</td>\n",
       "    </tr>\n",
       "    <tr>\n",
       "      <th>...</th>\n",
       "      <td>...</td>\n",
       "      <td>...</td>\n",
       "      <td>...</td>\n",
       "      <td>...</td>\n",
       "      <td>...</td>\n",
       "      <td>...</td>\n",
       "      <td>...</td>\n",
       "      <td>...</td>\n",
       "      <td>...</td>\n",
       "      <td>...</td>\n",
       "      <td>...</td>\n",
       "      <td>...</td>\n",
       "      <td>...</td>\n",
       "      <td>...</td>\n",
       "      <td>...</td>\n",
       "      <td>...</td>\n",
       "      <td>...</td>\n",
       "      <td>...</td>\n",
       "      <td>...</td>\n",
       "      <td>...</td>\n",
       "      <td>...</td>\n",
       "    </tr>\n",
       "    <tr>\n",
       "      <th>775</th>\n",
       "      <td>62.393388</td>\n",
       "      <td>129.419525</td>\n",
       "      <td>0.047077</td>\n",
       "      <td>0.054163</td>\n",
       "      <td>0.193955</td>\n",
       "      <td>90.963432</td>\n",
       "      <td>1.350337</td>\n",
       "      <td>39.518272</td>\n",
       "      <td>NaN</td>\n",
       "      <td>NaN</td>\n",
       "      <td>...</td>\n",
       "      <td>0.443294</td>\n",
       "      <td>0.392232</td>\n",
       "      <td>0.418040</td>\n",
       "      <td>0.418040</td>\n",
       "      <td>0.435871</td>\n",
       "      <td>0.399926</td>\n",
       "      <td>0.418040</td>\n",
       "      <td>0.418040</td>\n",
       "      <td>1.609638</td>\n",
       "      <td>1.634851</td>\n",
       "    </tr>\n",
       "    <tr>\n",
       "      <th>776</th>\n",
       "      <td>32.883656</td>\n",
       "      <td>172.321274</td>\n",
       "      <td>0.099520</td>\n",
       "      <td>0.000000</td>\n",
       "      <td>0.059473</td>\n",
       "      <td>147.982910</td>\n",
       "      <td>-2.898687</td>\n",
       "      <td>32.075394</td>\n",
       "      <td>2.648224</td>\n",
       "      <td>258.400848</td>\n",
       "      <td>...</td>\n",
       "      <td>0.373490</td>\n",
       "      <td>0.327772</td>\n",
       "      <td>0.350824</td>\n",
       "      <td>0.350824</td>\n",
       "      <td>0.367366</td>\n",
       "      <td>0.334083</td>\n",
       "      <td>0.350824</td>\n",
       "      <td>0.350824</td>\n",
       "      <td>1.296622</td>\n",
       "      <td>1.190102</td>\n",
       "    </tr>\n",
       "    <tr>\n",
       "      <th>777</th>\n",
       "      <td>97.318975</td>\n",
       "      <td>75.228043</td>\n",
       "      <td>0.000000</td>\n",
       "      <td>0.000000</td>\n",
       "      <td>0.443834</td>\n",
       "      <td>98.127815</td>\n",
       "      <td>-2.862783</td>\n",
       "      <td>32.788700</td>\n",
       "      <td>NaN</td>\n",
       "      <td>NaN</td>\n",
       "      <td>...</td>\n",
       "      <td>0.297208</td>\n",
       "      <td>0.260786</td>\n",
       "      <td>0.279148</td>\n",
       "      <td>0.279148</td>\n",
       "      <td>0.292322</td>\n",
       "      <td>0.265814</td>\n",
       "      <td>0.279148</td>\n",
       "      <td>0.279148</td>\n",
       "      <td>1.309402</td>\n",
       "      <td>1.251323</td>\n",
       "    </tr>\n",
       "    <tr>\n",
       "      <th>778</th>\n",
       "      <td>0.000000</td>\n",
       "      <td>181.681595</td>\n",
       "      <td>0.032323</td>\n",
       "      <td>0.000000</td>\n",
       "      <td>0.032027</td>\n",
       "      <td>11.182274</td>\n",
       "      <td>-0.386769</td>\n",
       "      <td>4.365685</td>\n",
       "      <td>1.720825</td>\n",
       "      <td>204.353668</td>\n",
       "      <td>...</td>\n",
       "      <td>0.964404</td>\n",
       "      <td>0.960767</td>\n",
       "      <td>0.975030</td>\n",
       "      <td>0.950198</td>\n",
       "      <td>0.963880</td>\n",
       "      <td>0.961319</td>\n",
       "      <td>0.965971</td>\n",
       "      <td>0.959257</td>\n",
       "      <td>1.686964</td>\n",
       "      <td>1.720568</td>\n",
       "    </tr>\n",
       "    <tr>\n",
       "      <th>779</th>\n",
       "      <td>87.115063</td>\n",
       "      <td>88.852829</td>\n",
       "      <td>0.000000</td>\n",
       "      <td>0.012888</td>\n",
       "      <td>0.266809</td>\n",
       "      <td>26.960735</td>\n",
       "      <td>1.539834</td>\n",
       "      <td>3.538320</td>\n",
       "      <td>4.369141</td>\n",
       "      <td>827.234558</td>\n",
       "      <td>...</td>\n",
       "      <td>0.613606</td>\n",
       "      <td>0.555639</td>\n",
       "      <td>0.585329</td>\n",
       "      <td>0.585329</td>\n",
       "      <td>0.605018</td>\n",
       "      <td>0.564961</td>\n",
       "      <td>0.585329</td>\n",
       "      <td>0.585329</td>\n",
       "      <td>0.691053</td>\n",
       "      <td>0.656877</td>\n",
       "    </tr>\n",
       "  </tbody>\n",
       "</table>\n",
       "<p>780 rows × 86 columns</p>\n",
       "</div>"
      ],
      "text/plain": [
       "     fj_msoftdrop      lep_pt  lep_isolation  lep_misolation  lep_fj_dr  \\\n",
       "0       24.167390  119.065475       0.718474        0.000000   0.090115   \n",
       "1       95.244769   64.717102       0.000000        0.000000   0.417019   \n",
       "2       91.984312   50.384544       0.019467        0.019471   0.435228   \n",
       "3       56.494671   61.858627       0.000000        0.000000   0.388965   \n",
       "4       51.427469  158.847366       0.007645        0.000000   0.087791   \n",
       "..            ...         ...            ...             ...        ...   \n",
       "775     62.393388  129.419525       0.047077        0.054163   0.193955   \n",
       "776     32.883656  172.321274       0.099520        0.000000   0.059473   \n",
       "777     97.318975   75.228043       0.000000        0.000000   0.443834   \n",
       "778      0.000000  181.681595       0.032323        0.000000   0.032027   \n",
       "779     87.115063   88.852829       0.000000        0.012888   0.266809   \n",
       "\n",
       "     lep_met_mt  met_fj_dphi     met_pt      deta         mjj  ...  \\\n",
       "0     75.421257     2.189562  14.468851  2.214783  214.936279  ...   \n",
       "1     23.582958     0.312709  49.522247       NaN         NaN  ...   \n",
       "2     68.267258     2.717904  27.253942  0.567627   68.779877  ...   \n",
       "3     88.155411    -1.869926  39.349003       NaN         NaN  ...   \n",
       "4     19.440250     0.211057  51.423164  2.028931  290.408051  ...   \n",
       "..          ...          ...        ...       ...         ...  ...   \n",
       "775   90.963432     1.350337  39.518272       NaN         NaN  ...   \n",
       "776  147.982910    -2.898687  32.075394  2.648224  258.400848  ...   \n",
       "777   98.127815    -2.862783  32.788700       NaN         NaN  ...   \n",
       "778   11.182274    -0.386769   4.365685  1.720825  204.353668  ...   \n",
       "779   26.960735     1.539834   3.538320  4.369141  827.234558  ...   \n",
       "\n",
       "     L_btagSFlight_2017Up  L_btagSFlight_2017Down  L_btagSFbc_2017Up  \\\n",
       "0                0.995445                0.995178           0.997911   \n",
       "1                0.327236                0.287633           0.307598   \n",
       "2                0.554889                0.499390           0.527733   \n",
       "3                0.263304                0.230705           0.247108   \n",
       "4                0.922720                0.921048           0.935384   \n",
       "..                    ...                     ...                ...   \n",
       "775              0.443294                0.392232           0.418040   \n",
       "776              0.373490                0.327772           0.350824   \n",
       "777              0.297208                0.260786           0.279148   \n",
       "778              0.964404                0.960767           0.975030   \n",
       "779              0.613606                0.555639           0.585329   \n",
       "\n",
       "     L_btagSFbc_2017Down  L_btagSFlight_correlatedUp  \\\n",
       "0               0.991843                    0.995407   \n",
       "1               0.307598                    0.321726   \n",
       "2               0.527733                    0.546971   \n",
       "3               0.247108                    0.258750   \n",
       "4               0.908388                    0.922511   \n",
       "..                   ...                         ...   \n",
       "775             0.418040                    0.435871   \n",
       "776             0.350824                    0.367366   \n",
       "777             0.279148                    0.292322   \n",
       "778             0.950198                    0.963880   \n",
       "779             0.585329                    0.605018   \n",
       "\n",
       "     L_btagSFlight_correlatedDown  L_btagSFbc_correlatedUp  \\\n",
       "0                        0.995217                 0.997109   \n",
       "1                        0.293300                 0.307598   \n",
       "2                        0.507904                 0.527733   \n",
       "3                        0.235358                 0.247108   \n",
       "4                        0.921259                 0.933418   \n",
       "..                            ...                      ...   \n",
       "775                      0.399926                 0.418040   \n",
       "776                      0.334083                 0.350824   \n",
       "777                      0.265814                 0.279148   \n",
       "778                      0.961319                 0.965971   \n",
       "779                      0.564961                 0.585329   \n",
       "\n",
       "     L_btagSFbc_correlatedDown  weight_mu  weight_ele  \n",
       "0                     0.993107   1.502497    1.503789  \n",
       "1                     0.307598   1.465581    1.426363  \n",
       "2                     0.527733   1.500397    1.448191  \n",
       "3                     0.247108   1.468193    1.449492  \n",
       "4                     0.910353   1.416018    1.444139  \n",
       "..                         ...        ...         ...  \n",
       "775                   0.418040   1.609638    1.634851  \n",
       "776                   0.350824   1.296622    1.190102  \n",
       "777                   0.279148   1.309402    1.251323  \n",
       "778                   0.959257   1.686964    1.720568  \n",
       "779                   0.585329   0.691053    0.656877  \n",
       "\n",
       "[780 rows x 86 columns]"
      ]
     },
     "execution_count": 194,
     "metadata": {},
     "output_type": "execute_result"
    }
   ],
   "source": [
    "old = pd.read_parquet(\"../outfilesold/outfiles/0-5_ele.parquet\", filters=[[\"lep_fj_dr\", \"<\", 0.8]])\n",
    "old"
   ]
  },
  {
   "cell_type": "code",
   "execution_count": 195,
   "id": "385cb71d",
   "metadata": {},
   "outputs": [
    {
     "data": {
      "text/html": [
       "<div>\n",
       "<style scoped>\n",
       "    .dataframe tbody tr th:only-of-type {\n",
       "        vertical-align: middle;\n",
       "    }\n",
       "\n",
       "    .dataframe tbody tr th {\n",
       "        vertical-align: top;\n",
       "    }\n",
       "\n",
       "    .dataframe thead th {\n",
       "        text-align: right;\n",
       "    }\n",
       "</style>\n",
       "<table border=\"1\" class=\"dataframe\">\n",
       "  <thead>\n",
       "    <tr style=\"text-align: right;\">\n",
       "      <th></th>\n",
       "      <th>fj_msoftdrop</th>\n",
       "      <th>lep_pt</th>\n",
       "      <th>lep_isolation</th>\n",
       "      <th>lep_misolation</th>\n",
       "      <th>lep_fj_dr</th>\n",
       "      <th>lep_met_mt</th>\n",
       "      <th>met_fj_dphi</th>\n",
       "      <th>met_pt</th>\n",
       "      <th>deta</th>\n",
       "      <th>mjj</th>\n",
       "      <th>...</th>\n",
       "      <th>L_btagSFlight_2017Up</th>\n",
       "      <th>L_btagSFlight_2017Down</th>\n",
       "      <th>L_btagSFbc_2017Up</th>\n",
       "      <th>L_btagSFbc_2017Down</th>\n",
       "      <th>L_btagSFlight_correlatedUp</th>\n",
       "      <th>L_btagSFlight_correlatedDown</th>\n",
       "      <th>L_btagSFbc_correlatedUp</th>\n",
       "      <th>L_btagSFbc_correlatedDown</th>\n",
       "      <th>weight_mu</th>\n",
       "      <th>weight_ele</th>\n",
       "    </tr>\n",
       "  </thead>\n",
       "  <tbody>\n",
       "    <tr>\n",
       "      <th>0</th>\n",
       "      <td>24.167390</td>\n",
       "      <td>119.065475</td>\n",
       "      <td>0.718474</td>\n",
       "      <td>0.000000</td>\n",
       "      <td>0.090115</td>\n",
       "      <td>75.421257</td>\n",
       "      <td>2.189562</td>\n",
       "      <td>14.468851</td>\n",
       "      <td>2.214783</td>\n",
       "      <td>214.936279</td>\n",
       "      <td>...</td>\n",
       "      <td>0.995445</td>\n",
       "      <td>0.995178</td>\n",
       "      <td>0.997911</td>\n",
       "      <td>0.991843</td>\n",
       "      <td>0.995407</td>\n",
       "      <td>0.995217</td>\n",
       "      <td>0.997109</td>\n",
       "      <td>0.993107</td>\n",
       "      <td>1.411814</td>\n",
       "      <td>1.413028</td>\n",
       "    </tr>\n",
       "    <tr>\n",
       "      <th>1</th>\n",
       "      <td>95.244769</td>\n",
       "      <td>64.717102</td>\n",
       "      <td>0.000000</td>\n",
       "      <td>0.000000</td>\n",
       "      <td>0.417019</td>\n",
       "      <td>23.582958</td>\n",
       "      <td>0.312709</td>\n",
       "      <td>49.522247</td>\n",
       "      <td>NaN</td>\n",
       "      <td>NaN</td>\n",
       "      <td>...</td>\n",
       "      <td>0.327236</td>\n",
       "      <td>0.287633</td>\n",
       "      <td>0.307598</td>\n",
       "      <td>0.307598</td>\n",
       "      <td>0.321726</td>\n",
       "      <td>0.293300</td>\n",
       "      <td>0.307598</td>\n",
       "      <td>0.307598</td>\n",
       "      <td>1.426016</td>\n",
       "      <td>1.387857</td>\n",
       "    </tr>\n",
       "    <tr>\n",
       "      <th>2</th>\n",
       "      <td>91.984312</td>\n",
       "      <td>50.384544</td>\n",
       "      <td>0.019467</td>\n",
       "      <td>0.019471</td>\n",
       "      <td>0.435228</td>\n",
       "      <td>68.267258</td>\n",
       "      <td>2.717904</td>\n",
       "      <td>27.253942</td>\n",
       "      <td>0.567627</td>\n",
       "      <td>68.779877</td>\n",
       "      <td>...</td>\n",
       "      <td>0.554889</td>\n",
       "      <td>0.499390</td>\n",
       "      <td>0.527733</td>\n",
       "      <td>0.527733</td>\n",
       "      <td>0.546971</td>\n",
       "      <td>0.507904</td>\n",
       "      <td>0.527733</td>\n",
       "      <td>0.527733</td>\n",
       "      <td>1.488744</td>\n",
       "      <td>1.436944</td>\n",
       "    </tr>\n",
       "    <tr>\n",
       "      <th>3</th>\n",
       "      <td>56.494671</td>\n",
       "      <td>61.858627</td>\n",
       "      <td>0.000000</td>\n",
       "      <td>0.000000</td>\n",
       "      <td>0.388965</td>\n",
       "      <td>88.155411</td>\n",
       "      <td>-1.869926</td>\n",
       "      <td>39.349003</td>\n",
       "      <td>NaN</td>\n",
       "      <td>NaN</td>\n",
       "      <td>...</td>\n",
       "      <td>0.263304</td>\n",
       "      <td>0.230705</td>\n",
       "      <td>0.247108</td>\n",
       "      <td>0.247108</td>\n",
       "      <td>0.258750</td>\n",
       "      <td>0.235358</td>\n",
       "      <td>0.247108</td>\n",
       "      <td>0.247108</td>\n",
       "      <td>1.440725</td>\n",
       "      <td>1.422373</td>\n",
       "    </tr>\n",
       "    <tr>\n",
       "      <th>4</th>\n",
       "      <td>51.427469</td>\n",
       "      <td>158.847366</td>\n",
       "      <td>0.007645</td>\n",
       "      <td>0.000000</td>\n",
       "      <td>0.087791</td>\n",
       "      <td>19.440250</td>\n",
       "      <td>0.211057</td>\n",
       "      <td>51.423164</td>\n",
       "      <td>2.028931</td>\n",
       "      <td>290.408051</td>\n",
       "      <td>...</td>\n",
       "      <td>0.922720</td>\n",
       "      <td>0.921048</td>\n",
       "      <td>0.935384</td>\n",
       "      <td>0.908388</td>\n",
       "      <td>0.922511</td>\n",
       "      <td>0.921259</td>\n",
       "      <td>0.933418</td>\n",
       "      <td>0.910353</td>\n",
       "      <td>1.230364</td>\n",
       "      <td>1.254798</td>\n",
       "    </tr>\n",
       "    <tr>\n",
       "      <th>...</th>\n",
       "      <td>...</td>\n",
       "      <td>...</td>\n",
       "      <td>...</td>\n",
       "      <td>...</td>\n",
       "      <td>...</td>\n",
       "      <td>...</td>\n",
       "      <td>...</td>\n",
       "      <td>...</td>\n",
       "      <td>...</td>\n",
       "      <td>...</td>\n",
       "      <td>...</td>\n",
       "      <td>...</td>\n",
       "      <td>...</td>\n",
       "      <td>...</td>\n",
       "      <td>...</td>\n",
       "      <td>...</td>\n",
       "      <td>...</td>\n",
       "      <td>...</td>\n",
       "      <td>...</td>\n",
       "      <td>...</td>\n",
       "      <td>...</td>\n",
       "    </tr>\n",
       "    <tr>\n",
       "      <th>775</th>\n",
       "      <td>62.393388</td>\n",
       "      <td>129.419525</td>\n",
       "      <td>0.047077</td>\n",
       "      <td>0.054163</td>\n",
       "      <td>0.193955</td>\n",
       "      <td>90.963432</td>\n",
       "      <td>1.350337</td>\n",
       "      <td>39.518272</td>\n",
       "      <td>NaN</td>\n",
       "      <td>NaN</td>\n",
       "      <td>...</td>\n",
       "      <td>0.443294</td>\n",
       "      <td>0.392232</td>\n",
       "      <td>0.418040</td>\n",
       "      <td>0.418040</td>\n",
       "      <td>0.435871</td>\n",
       "      <td>0.399926</td>\n",
       "      <td>0.418040</td>\n",
       "      <td>0.418040</td>\n",
       "      <td>1.421171</td>\n",
       "      <td>1.443433</td>\n",
       "    </tr>\n",
       "    <tr>\n",
       "      <th>776</th>\n",
       "      <td>32.883656</td>\n",
       "      <td>172.321274</td>\n",
       "      <td>0.099520</td>\n",
       "      <td>0.000000</td>\n",
       "      <td>0.059473</td>\n",
       "      <td>147.982910</td>\n",
       "      <td>-2.898687</td>\n",
       "      <td>32.075394</td>\n",
       "      <td>2.648224</td>\n",
       "      <td>258.400848</td>\n",
       "      <td>...</td>\n",
       "      <td>0.373490</td>\n",
       "      <td>0.327772</td>\n",
       "      <td>0.350824</td>\n",
       "      <td>0.350824</td>\n",
       "      <td>0.367366</td>\n",
       "      <td>0.334083</td>\n",
       "      <td>0.350824</td>\n",
       "      <td>0.350824</td>\n",
       "      <td>1.166295</td>\n",
       "      <td>1.070481</td>\n",
       "    </tr>\n",
       "    <tr>\n",
       "      <th>777</th>\n",
       "      <td>97.318975</td>\n",
       "      <td>75.228043</td>\n",
       "      <td>0.000000</td>\n",
       "      <td>0.000000</td>\n",
       "      <td>0.443834</td>\n",
       "      <td>98.127815</td>\n",
       "      <td>-2.862783</td>\n",
       "      <td>32.788700</td>\n",
       "      <td>NaN</td>\n",
       "      <td>NaN</td>\n",
       "      <td>...</td>\n",
       "      <td>0.297208</td>\n",
       "      <td>0.260786</td>\n",
       "      <td>0.279148</td>\n",
       "      <td>0.279148</td>\n",
       "      <td>0.292322</td>\n",
       "      <td>0.265814</td>\n",
       "      <td>0.279148</td>\n",
       "      <td>0.279148</td>\n",
       "      <td>1.289356</td>\n",
       "      <td>1.232166</td>\n",
       "    </tr>\n",
       "    <tr>\n",
       "      <th>778</th>\n",
       "      <td>0.000000</td>\n",
       "      <td>181.681595</td>\n",
       "      <td>0.032323</td>\n",
       "      <td>0.000000</td>\n",
       "      <td>0.032027</td>\n",
       "      <td>11.182274</td>\n",
       "      <td>-0.386769</td>\n",
       "      <td>4.365685</td>\n",
       "      <td>1.720825</td>\n",
       "      <td>204.353668</td>\n",
       "      <td>...</td>\n",
       "      <td>0.964404</td>\n",
       "      <td>0.960767</td>\n",
       "      <td>0.975030</td>\n",
       "      <td>0.950198</td>\n",
       "      <td>0.963880</td>\n",
       "      <td>0.961319</td>\n",
       "      <td>0.965971</td>\n",
       "      <td>0.959257</td>\n",
       "      <td>1.499480</td>\n",
       "      <td>1.529349</td>\n",
       "    </tr>\n",
       "    <tr>\n",
       "      <th>779</th>\n",
       "      <td>87.115063</td>\n",
       "      <td>88.852829</td>\n",
       "      <td>0.000000</td>\n",
       "      <td>0.012888</td>\n",
       "      <td>0.266809</td>\n",
       "      <td>26.960735</td>\n",
       "      <td>1.539834</td>\n",
       "      <td>3.538320</td>\n",
       "      <td>4.369141</td>\n",
       "      <td>827.234558</td>\n",
       "      <td>...</td>\n",
       "      <td>0.613606</td>\n",
       "      <td>0.555639</td>\n",
       "      <td>0.585329</td>\n",
       "      <td>0.585329</td>\n",
       "      <td>0.605018</td>\n",
       "      <td>0.564961</td>\n",
       "      <td>0.585329</td>\n",
       "      <td>0.585329</td>\n",
       "      <td>0.655218</td>\n",
       "      <td>0.622814</td>\n",
       "    </tr>\n",
       "  </tbody>\n",
       "</table>\n",
       "<p>780 rows × 86 columns</p>\n",
       "</div>"
      ],
      "text/plain": [
       "     fj_msoftdrop      lep_pt  lep_isolation  lep_misolation  lep_fj_dr  \\\n",
       "0       24.167390  119.065475       0.718474        0.000000   0.090115   \n",
       "1       95.244769   64.717102       0.000000        0.000000   0.417019   \n",
       "2       91.984312   50.384544       0.019467        0.019471   0.435228   \n",
       "3       56.494671   61.858627       0.000000        0.000000   0.388965   \n",
       "4       51.427469  158.847366       0.007645        0.000000   0.087791   \n",
       "..            ...         ...            ...             ...        ...   \n",
       "775     62.393388  129.419525       0.047077        0.054163   0.193955   \n",
       "776     32.883656  172.321274       0.099520        0.000000   0.059473   \n",
       "777     97.318975   75.228043       0.000000        0.000000   0.443834   \n",
       "778      0.000000  181.681595       0.032323        0.000000   0.032027   \n",
       "779     87.115063   88.852829       0.000000        0.012888   0.266809   \n",
       "\n",
       "     lep_met_mt  met_fj_dphi     met_pt      deta         mjj  ...  \\\n",
       "0     75.421257     2.189562  14.468851  2.214783  214.936279  ...   \n",
       "1     23.582958     0.312709  49.522247       NaN         NaN  ...   \n",
       "2     68.267258     2.717904  27.253942  0.567627   68.779877  ...   \n",
       "3     88.155411    -1.869926  39.349003       NaN         NaN  ...   \n",
       "4     19.440250     0.211057  51.423164  2.028931  290.408051  ...   \n",
       "..          ...          ...        ...       ...         ...  ...   \n",
       "775   90.963432     1.350337  39.518272       NaN         NaN  ...   \n",
       "776  147.982910    -2.898687  32.075394  2.648224  258.400848  ...   \n",
       "777   98.127815    -2.862783  32.788700       NaN         NaN  ...   \n",
       "778   11.182274    -0.386769   4.365685  1.720825  204.353668  ...   \n",
       "779   26.960735     1.539834   3.538320  4.369141  827.234558  ...   \n",
       "\n",
       "     L_btagSFlight_2017Up  L_btagSFlight_2017Down  L_btagSFbc_2017Up  \\\n",
       "0                0.995445                0.995178           0.997911   \n",
       "1                0.327236                0.287633           0.307598   \n",
       "2                0.554889                0.499390           0.527733   \n",
       "3                0.263304                0.230705           0.247108   \n",
       "4                0.922720                0.921048           0.935384   \n",
       "..                    ...                     ...                ...   \n",
       "775              0.443294                0.392232           0.418040   \n",
       "776              0.373490                0.327772           0.350824   \n",
       "777              0.297208                0.260786           0.279148   \n",
       "778              0.964404                0.960767           0.975030   \n",
       "779              0.613606                0.555639           0.585329   \n",
       "\n",
       "     L_btagSFbc_2017Down  L_btagSFlight_correlatedUp  \\\n",
       "0               0.991843                    0.995407   \n",
       "1               0.307598                    0.321726   \n",
       "2               0.527733                    0.546971   \n",
       "3               0.247108                    0.258750   \n",
       "4               0.908388                    0.922511   \n",
       "..                   ...                         ...   \n",
       "775             0.418040                    0.435871   \n",
       "776             0.350824                    0.367366   \n",
       "777             0.279148                    0.292322   \n",
       "778             0.950198                    0.963880   \n",
       "779             0.585329                    0.605018   \n",
       "\n",
       "     L_btagSFlight_correlatedDown  L_btagSFbc_correlatedUp  \\\n",
       "0                        0.995217                 0.997109   \n",
       "1                        0.293300                 0.307598   \n",
       "2                        0.507904                 0.527733   \n",
       "3                        0.235358                 0.247108   \n",
       "4                        0.921259                 0.933418   \n",
       "..                            ...                      ...   \n",
       "775                      0.399926                 0.418040   \n",
       "776                      0.334083                 0.350824   \n",
       "777                      0.265814                 0.279148   \n",
       "778                      0.961319                 0.965971   \n",
       "779                      0.564961                 0.585329   \n",
       "\n",
       "     L_btagSFbc_correlatedDown  weight_mu  weight_ele  \n",
       "0                     0.993107   1.411814    1.413028  \n",
       "1                     0.307598   1.426016    1.387857  \n",
       "2                     0.527733   1.488744    1.436944  \n",
       "3                     0.247108   1.440725    1.422373  \n",
       "4                     0.910353   1.230364    1.254798  \n",
       "..                         ...        ...         ...  \n",
       "775                   0.418040   1.421171    1.443433  \n",
       "776                   0.350824   1.166295    1.070481  \n",
       "777                   0.279148   1.289356    1.232166  \n",
       "778                   0.959257   1.499480    1.529349  \n",
       "779                   0.585329   0.655218    0.622814  \n",
       "\n",
       "[780 rows x 86 columns]"
      ]
     },
     "execution_count": 195,
     "metadata": {},
     "output_type": "execute_result"
    }
   ],
   "source": [
    "new = pd.read_parquet(\"../outfilesnew/0-5_ele.parquet\", filters=[[\"lep_fj_dr\", \"<\", 0.8]])\n",
    "new"
   ]
  },
  {
   "cell_type": "code",
   "execution_count": 203,
   "id": "65121f13",
   "metadata": {},
   "outputs": [
    {
     "data": {
      "text/plain": [
       "(200.0, 504.0)"
      ]
     },
     "execution_count": 203,
     "metadata": {},
     "output_type": "execute_result"
    },
    {
     "data": {
      "image/png": "[encoded data removed]",
      "text/plain": [
       "<Figure size 1200x900 with 1 Axes>"
      ]
     },
     "metadata": {},
     "output_type": "display_data"
    }
   ],
   "source": [
    "plt.rcParams.update({\"font.size\": 20})\n",
    "\n",
    "bins = 50\n",
    "\n",
    "nice_ch = {\n",
    "    \"ele\": \"ELECTRON\",\n",
    "    \"mu\": \"MUON\",\n",
    "}\n",
    "\n",
    "sample = \"TTbar\"\n",
    "channels = [\"ele\", \"mu\"]\n",
    "region = \"signal_region\"\n",
    "\n",
    "fig, ax = plt.subplots(figsize=(12, 9))\n",
    "\n",
    "ax.hist(\n",
    "    new[\"fj_pt\"], \n",
    "    bins=np.linspace(0,480,bins), \n",
    "    weights=new[\"weight_ele\"],\n",
    "#     density=True, \n",
    "    histtype=\"step\", \n",
    "    linewidth=2, \n",
    "    label=\"new\",\n",
    ")\n",
    "\n",
    "ax.hist(\n",
    "    old[\"fj_pt\"], \n",
    "    bins=np.linspace(0,480,bins), \n",
    "    weights=old[\"weight_ele\"],\n",
    "#     density=True, \n",
    "    histtype=\"step\", \n",
    "    linewidth=2, \n",
    "    label=\"old\",\n",
    ")\n",
    "\n",
    "# ax.axvline(125, color=\"grey\", linestyle=\"--\", label=rf\"125 GeV\")\n",
    "ax.legend(title=\"Electron channel\")\n",
    "ax.set_ylabel(\"Events\")\n",
    "ax.set_xlabel(f\"Jet pT [GeV]\")\n",
    "ax.set_xlim(200)"
   ]
  },
  {
   "cell_type": "code",
   "execution_count": 204,
   "id": "60cb8b86",
   "metadata": {},
   "outputs": [
    {
     "data": {
      "text/plain": [
       "1010.9039288541674"
      ]
     },
     "execution_count": 204,
     "metadata": {},
     "output_type": "execute_result"
    }
   ],
   "source": [
    "new[\"weight_ele\"].sum()"
   ]
  },
  {
   "cell_type": "code",
   "execution_count": 206,
   "id": "08826460",
   "metadata": {},
   "outputs": [
    {
     "data": {
      "text/plain": [
       "1121.2021400667722"
      ]
     },
     "execution_count": 206,
     "metadata": {},
     "output_type": "execute_result"
    }
   ],
   "source": [
    "old[\"weight_ele\"].sum()"
   ]
  },
  {
   "cell_type": "code",
   "execution_count": null,
   "id": "3ed365f6",
   "metadata": {},
   "outputs": [],
   "source": []
  },
  {
   "cell_type": "code",
   "execution_count": 182,
   "id": "180ce581",
   "metadata": {},
   "outputs": [
    {
     "data": {
      "text/plain": [
       "12.491738389188763"
      ]
     },
     "execution_count": 182,
     "metadata": {},
     "output_type": "execute_result"
    }
   ],
   "source": [
    "new[\"weight_ele\"].sum()"
   ]
  },
  {
   "cell_type": "code",
   "execution_count": null,
   "id": "9b6ce587",
   "metadata": {},
   "outputs": [],
   "source": []
  },
  {
   "cell_type": "code",
   "execution_count": 7,
   "id": "cc135563",
   "metadata": {},
   "outputs": [
    {
     "name": "stdout",
     "output_type": "stream",
     "text": [
      "number of events per file is 72418\n"
     ]
    }
   ],
   "source": [
    "# load a hww root file into coffea-friendly NanoAOD structure\n",
    "import uproot\n",
    "f = uproot.open(f\"root://cmseos.fnal.gov//store/user/lpcpfnano/drankin/v2_2/2017/WJetsToLNu/WJetsToLNu_HT-100To200_TuneCP5_13TeV-madgraphMLM-pythia8/WJetsToLNu_HT-100To200/211106_200115/0000/nano_mc2017_1-1.root\")\n",
    "num = f['Events'].num_entries   ### checks number of events per file \n",
    "print(f'number of events per file is {num}')\n",
    "\n",
    "events = nanoevents.NanoEventsFactory.from_root(f, \"Events\").events()"
   ]
  },
  {
   "cell_type": "code",
   "execution_count": 9,
   "id": "1a51c32f",
   "metadata": {},
   "outputs": [],
   "source": [
    "def get_vpt(genpart, check_offshell=False):\n",
    "    \"\"\"Only the leptonic samples have no resonance in the decay tree, and only\n",
    "    when M is beyond the configured Breit-Wigner cutoff (usually 15*width)\n",
    "    \"\"\"\n",
    "    boson = ak.firsts(\n",
    "        genpart[((genpart.pdgId == 23) | (abs(genpart.pdgId) == 24)) & genpart.hasFlags([\"fromHardProcess\", \"isLastCopy\"])]\n",
    "    )\n",
    "    if check_offshell:\n",
    "        offshell = genpart[\n",
    "            genpart.hasFlags([\"fromHardProcess\", \"isLastCopy\"])\n",
    "            & ak.is_none(boson)\n",
    "            & (abs(genpart.pdgId) >= 11)\n",
    "            & (abs(genpart.pdgId) <= 16)\n",
    "        ].sum()\n",
    "        return ak.where(ak.is_none(boson.pt), offshell.pt, boson.pt)\n",
    "    return np.array(ak.fill_none(boson.pt, 0.0))"
   ]
  },
  {
   "cell_type": "code",
   "execution_count": 18,
   "id": "be1ca517",
   "metadata": {},
   "outputs": [
    {
     "data": {
      "text/plain": [
       "array([39.25   , 38.125  , 81.5    , ..., 55.5    , 35.5    , 12.34375])"
      ]
     },
     "execution_count": 18,
     "metadata": {},
     "output_type": "execute_result"
    }
   ],
   "source": [
    "genpart = events.GenPart\n",
    "vpt = get_vpt(genpart)\n",
    "vpt"
   ]
  },
  {
   "cell_type": "code",
   "execution_count": 39,
   "id": "f4c78218",
   "metadata": {},
   "outputs": [
    {
     "name": "stdout",
     "output_type": "stream",
     "text": [
      "qcdcorr [1.57546211 1.57546211 1.57546211 ... 1.57546211 1.57546211 1.57546211]\n",
      "ewknom [0.99658845 0.99658845 0.98062954 ... 0.99052354 0.99658845 0.99658845]\n",
      "qcdcorr*ewknom [1.57008734 1.57008734 1.54494468 ... 1.5605323  1.57008734 1.57008734]\n"
     ]
    }
   ],
   "source": [
    "# old\n",
    "import importlib.resources\n",
    "import pickle\n",
    "import warnings\n",
    "from typing import Dict\n",
    "\n",
    "import awkward as ak\n",
    "import correctionlib\n",
    "import numpy as np\n",
    "from coffea import util as cutil\n",
    "from coffea.analysis_tools import Weights\n",
    "from coffea.nanoevents.methods.nanoaod import JetArray\n",
    "\n",
    "with importlib.resources.path(\"boostedhiggs.data\", \"ULvjets_corrections.json\") as filename:\n",
    "    vjets_kfactors = correctionlib.CorrectionSet.from_file(str(filename))\n",
    "    \n",
    "qcdcorr = vjets_kfactors[\"ULW_MLMtoFXFX\"].evaluate(vpt)  # replace\n",
    "ewkcorr = vjets_kfactors[\"W_FixedOrderComponent\"]  # keep\n",
    "ewknom = ewkcorr.evaluate(\"nominal\", vpt)\n",
    "print(\"qcdcorr\", qcdcorr)\n",
    "print(\"ewknom\", ewknom)\n",
    "print(\"qcdcorr*ewknom\", qcdcorr*ewknom)"
   ]
  },
  {
   "cell_type": "code",
   "execution_count": null,
   "id": "887afc8d",
   "metadata": {},
   "outputs": [],
   "source": [
    "\"\"\"\n",
    "Bhadrons       Systematic\n",
    " 0             1.628±0.005 - (1.339±0.020)·10−3 pT(V)\n",
    " 1             1.586±0.027 - (1.531±0.112)·10−3 pT(V)\n",
    " 2             1.440±0.048 - (0.925±0.203)·10−3 pT(V)\n",
    "\"\"\"\n"
   ]
  },
  {
   "cell_type": "code",
   "execution_count": 163,
   "id": "38c72cab",
   "metadata": {},
   "outputs": [
    {
     "data": {
      "text/plain": [
       "0.001"
      ]
     },
     "execution_count": 163,
     "metadata": {},
     "output_type": "execute_result"
    }
   ],
   "source": []
  },
  {
   "cell_type": "code",
   "execution_count": 42,
   "id": "5710513b",
   "metadata": {},
   "outputs": [],
   "source": [
    "boson = ak.firsts(\n",
    "    genpart[((genpart.pdgId == 23) | (abs(genpart.pdgId) == 24)) & genpart.hasFlags([\"fromHardProcess\", \"isLastCopy\"])]\n",
    ")"
   ]
  },
  {
   "cell_type": "code",
   "execution_count": 210,
   "id": "f570d416",
   "metadata": {},
   "outputs": [
    {
     "data": {
      "text/plain": [
       "<Array [[True, True, True, ... False, False]] type='72418 * var * bool'>"
      ]
     },
     "execution_count": 210,
     "metadata": {},
     "output_type": "execute_result"
    }
   ],
   "source": []
  },
  {
   "cell_type": "code",
   "execution_count": 212,
   "id": "3f064919",
   "metadata": {},
   "outputs": [
    {
     "data": {
      "text/plain": [
       "<Array [[0.859, 0.304, 0.997, ... 4.33, 2.14]] type='72418 * var * float32'>"
      ]
     },
     "execution_count": 212,
     "metadata": {},
     "output_type": "execute_result"
    }
   ],
   "source": [
    "(np.abs(genjets.eta)<2.4)"
   ]
  },
  {
   "cell_type": "code",
   "execution_count": 213,
   "id": "6cb10f42",
   "metadata": {},
   "outputs": [
    {
     "data": {
      "text/plain": [
       "array([ True,  True,  True, ..., False,  True,  True])"
      ]
     },
     "execution_count": 213,
     "metadata": {},
     "output_type": "execute_result"
    }
   ],
   "source": [
    "genjets = events.GenJet\n",
    "goodgenjets = genjets[(genjets.pt>25.0) & (np.abs(genjets.eta)<2.4)]\n",
    "\n",
    "nB0 = (ak.sum(goodgenjets.hadronFlavour==5, axis=1) == 0).to_numpy()\n",
    "nB1 = (ak.sum(goodgenjets.hadronFlavour==5, axis=1) == 1).to_numpy()\n",
    "nB2 = (ak.sum(goodgenjets.hadronFlavour==5, axis=1) == 2).to_numpy()\n",
    "\n",
    "nB0"
   ]
  },
  {
   "cell_type": "code",
   "execution_count": 173,
   "id": "17c321ff",
   "metadata": {},
   "outputs": [
    {
     "data": {
      "text/plain": [
       "array([1.57544425, 1.57695062, 1.5188715 , ..., 1.5010295 , 1.5804655 ,\n",
       "       1.61147172])"
      ]
     },
     "execution_count": 173,
     "metadata": {},
     "output_type": "execute_result"
    }
   ],
   "source": [
    "qcdcorrnew = np.zeros_like(vpt)\n",
    "\n",
    "qcdcorrnew[nB0] = 1.628 - (1.339*1e-3*vpt[nB0])\n",
    "qcdcorrnew[nB1] = 1.586 - (1.531*1e-3*vpt[nB1])\n",
    "qcdcorrnew[nB2] = 1.440 - (0.925*1e-3*vpt[nB2])\n",
    "\n",
    "qcdcorrnew"
   ]
  },
  {
   "cell_type": "code",
   "execution_count": 168,
   "id": "d299219c",
   "metadata": {},
   "outputs": [
    {
     "data": {
      "text/plain": [
       "array([1.57546211, 1.57546211, 1.57546211, ..., 1.57546211, 1.57546211,\n",
       "       1.57546211])"
      ]
     },
     "execution_count": 168,
     "metadata": {},
     "output_type": "execute_result"
    }
   ],
   "source": [
    "qcdcorr"
   ]
  },
  {
   "cell_type": "code",
   "execution_count": 171,
   "id": "6e77bf37",
   "metadata": {},
   "outputs": [
    {
     "data": {
      "text/plain": [
       "<GenParticleArray [[GenParticle, ... GenParticle]] type='72418 * var * genParticle'>"
      ]
     },
     "execution_count": 171,
     "metadata": {},
     "output_type": "execute_result"
    }
   ],
   "source": [
    "events.GenPart"
   ]
  },
  {
   "cell_type": "code",
   "execution_count": 113,
   "id": "9272e7fa",
   "metadata": {},
   "outputs": [
    {
     "data": {
      "text/plain": [
       "72398"
      ]
     },
     "execution_count": 113,
     "metadata": {},
     "output_type": "execute_result"
    }
   ],
   "source": [
    "sum(nB0 + nB1 + nB2)"
   ]
  },
  {
   "cell_type": "code",
   "execution_count": 109,
   "id": "d17a01c5",
   "metadata": {},
   "outputs": [
    {
     "data": {
      "text/plain": [
       "<Array [False, False, False, ... False, False] type='72418 * bool'>"
      ]
     },
     "execution_count": 109,
     "metadata": {},
     "output_type": "execute_result"
    }
   ],
   "source": [
    "nB1"
   ]
  },
  {
   "cell_type": "code",
   "execution_count": null,
   "id": "3e3cad79",
   "metadata": {},
   "outputs": [],
   "source": []
  },
  {
   "cell_type": "code",
   "execution_count": null,
   "id": "c9fa7d73",
   "metadata": {},
   "outputs": [],
   "source": []
  },
  {
   "cell_type": "code",
   "execution_count": 74,
   "id": "ca6189f2",
   "metadata": {},
   "outputs": [
    {
     "data": {
      "text/plain": [
       "<PtEtaPhiMCollectionArray [[{eta: -0.859, ... hadronFlavour: 0}]] type='72418 * ...'>"
      ]
     },
     "execution_count": 74,
     "metadata": {},
     "output_type": "execute_result"
    }
   ],
   "source": [
    "genjets"
   ]
  },
  {
   "cell_type": "code",
   "execution_count": 76,
   "id": "969dee74",
   "metadata": {},
   "outputs": [
    {
     "data": {
      "text/plain": [
       "<PtEtaPhiMCollectionArray [{eta: -0.859, ... hadronFlavour: 0}] type='5 * struct...'>"
      ]
     },
     "execution_count": 76,
     "metadata": {},
     "output_type": "execute_result"
    }
   ],
   "source": [
    "genjets[0]"
   ]
  },
  {
   "cell_type": "code",
   "execution_count": 79,
   "id": "edec6c29",
   "metadata": {},
   "outputs": [
    {
     "data": {
      "text/plain": [
       "39.25"
      ]
     },
     "execution_count": 79,
     "metadata": {},
     "output_type": "execute_result"
    }
   ],
   "source": [
    "boson[0].pt"
   ]
  },
  {
   "cell_type": "code",
   "execution_count": 84,
   "id": "a844ca3f",
   "metadata": {},
   "outputs": [
    {
     "data": {
      "text/plain": [
       "3"
      ]
     },
     "execution_count": 84,
     "metadata": {},
     "output_type": "execute_result"
    }
   ],
   "source": [
    "ak.argmin(boson[1].delta_r(genjets[1]))"
   ]
  },
  {
   "cell_type": "code",
   "execution_count": 94,
   "id": "d15dbcf1",
   "metadata": {},
   "outputs": [
    {
     "data": {
      "text/plain": [
       "<GenParticleArray [GenParticle, ... GenParticle] type='72418 * ?genParticle'>"
      ]
     },
     "execution_count": 94,
     "metadata": {},
     "output_type": "execute_result"
    }
   ],
   "source": [
    "boson"
   ]
  },
  {
   "cell_type": "code",
   "execution_count": 97,
   "id": "6d0f6c6d",
   "metadata": {},
   "outputs": [
    {
     "data": {
      "text/plain": [
       "<PtEtaPhiMCollectionArray [[{eta: -0.859, ... hadronFlavour: 0}]] type='72418 * ...'>"
      ]
     },
     "execution_count": 97,
     "metadata": {},
     "output_type": "execute_result"
    }
   ],
   "source": [
    "genjets = events.GenJet\n",
    "genjets"
   ]
  },
  {
   "cell_type": "code",
   "execution_count": 99,
   "id": "c03e0837",
   "metadata": {},
   "outputs": [
    {
     "data": {
      "text/plain": [
       "<Array [3.99, 6.31, 4.24, 3.64] type='4 * float32'>"
      ]
     },
     "execution_count": 99,
     "metadata": {},
     "output_type": "execute_result"
    }
   ],
   "source": [
    "event_idx = 1\n",
    "boson[event_idx].delta_r(genjets[event_idx])"
   ]
  },
  {
   "cell_type": "code",
   "execution_count": 88,
   "id": "5eff0804",
   "metadata": {},
   "outputs": [
    {
     "data": {
      "text/plain": [
       "<Array [3.99, 6.31, 4.24, 3.64] type='4 * float32'>"
      ]
     },
     "execution_count": 88,
     "metadata": {},
     "output_type": "execute_result"
    }
   ],
   "source": [
    "event_idx = 1\n",
    "boson[event_idx].delta_r(genjets[event_idx])"
   ]
  },
  {
   "cell_type": "code",
   "execution_count": 91,
   "id": "cffb1757",
   "metadata": {},
   "outputs": [
    {
     "data": {
      "text/plain": [
       "['eta',\n",
       " 'mass',\n",
       " 'phi',\n",
       " 'pt',\n",
       " 'genPartIdxMother',\n",
       " 'pdgId',\n",
       " 'status',\n",
       " 'statusFlags',\n",
       " 'genPartIdxMotherG',\n",
       " 'distinctParentIdxG',\n",
       " 'childrenIdxG',\n",
       " 'distinctChildrenIdxG',\n",
       " 'distinctChildrenDeepIdxG']"
      ]
     },
     "execution_count": 91,
     "metadata": {},
     "output_type": "execute_result"
    }
   ],
   "source": [
    "boson.fields"
   ]
  },
  {
   "cell_type": "code",
   "execution_count": 93,
   "id": "641cf66a",
   "metadata": {},
   "outputs": [
    {
     "data": {
      "text/plain": [
       "GenParticle"
      ]
     },
     "execution_count": 93,
     "metadata": {},
     "output_type": "execute_result"
    }
   ],
   "source": [
    "boson[0]"
   ]
  },
  {
   "cell_type": "code",
   "execution_count": 104,
   "id": "0d12760d",
   "metadata": {},
   "outputs": [
    {
     "data": {
      "text/plain": [
       "<Array [0, 0, 0, 0, 0, 0, ... 0, 0, 0, 1, 0, 0] type='72418 * int64'>"
      ]
     },
     "execution_count": 104,
     "metadata": {},
     "output_type": "execute_result"
    }
   ],
   "source": []
  },
  {
   "cell_type": "code",
   "execution_count": null,
   "id": "2d1e2278",
   "metadata": {},
   "outputs": [],
   "source": []
  }
 ],
 "metadata": {
  "kernelspec": {
   "display_name": "coffea-env",
   "language": "python",
   "name": "coffea-env"
  },
  "language_info": {
   "codemirror_mode": {
    "name": "ipython",
    "version": 3
   },
   "file_extension": ".py",
   "mimetype": "text/x-python",
   "name": "python",
   "nbconvert_exporter": "python",
   "pygments_lexer": "ipython3",
   "version": "3.8.16"
  }
 },
 "nbformat": 4,
 "nbformat_minor": 5
}
