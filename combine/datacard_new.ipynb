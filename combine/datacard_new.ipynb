{
 "cells": [
  {
   "cell_type": "code",
   "execution_count": 1,
   "id": "986d3836",
   "metadata": {},
   "outputs": [],
   "source": [
    "from __future__ import division, print_function\n",
    "\n",
    "import argparse\n",
    "import json\n",
    "import logging\n",
    "import math\n",
    "import pickle as pkl\n",
    "import warnings\n",
    "\n",
    "import numpy as np\n",
    "import pandas as pd\n",
    "import rhalphalib as rl\n",
    "from utils import blindBins, get_template, labels, samples, shape_to_num, sigs\n",
    "\n",
    "rl.ParametericSample.PreferRooParametricHist = False\n",
    "logging.basicConfig(level=logging.INFO)\n",
    "\n",
    "warnings.filterwarnings(\"ignore\", message=\"Found duplicate branch \")\n",
    "pd.set_option(\"mode.chained_assignment\", None)"
   ]
  },
  {
   "cell_type": "code",
   "execution_count": 4,
   "id": "3129e163",
   "metadata": {},
   "outputs": [
    {
     "name": "stdout",
     "output_type": "stream",
     "text": [
      "hists_templates_Run2_ele.pkl model_Run2_ele.pkl\r\n",
      "hists_templates_Run2_mu.pkl\r\n"
     ]
    }
   ],
   "source": [
    "! ls templates/v1"
   ]
  },
  {
   "cell_type": "code",
   "execution_count": 10,
   "id": "0e4af9bf",
   "metadata": {},
   "outputs": [],
   "source": [
    "years = [\"2018\", \"2017\", \"2016\", \"2016APV\"]\n",
    "channels = [\"ele\", \"mu\"]"
   ]
  },
  {
   "cell_type": "code",
   "execution_count": 99,
   "id": "e0826c98",
   "metadata": {},
   "outputs": [],
   "source": [
    "# with open(f\"templates/test/hists_templates_Run2_ele.pkl\", \"rb\") as f:\n",
    "#     hists_templates = pkl.load(f)\n",
    "    \n",
    "with open(f\"templates/v1/hists_templates_Run2.pkl\", \"rb\") as f:\n",
    "    hists_templates = pkl.load(f)    "
   ]
  },
  {
   "cell_type": "code",
   "execution_count": 100,
   "id": "38786518",
   "metadata": {},
   "outputs": [
    {
     "data": {
      "text/plain": [
       "(StrCategory(['DYJets', 'WJetsLNu', 'VBF', 'VH', 'TTbar', 'SingleTop', 'ggF', 'Data', 'Diboson', 'WZQQ', 'ttH', 'QCD'], growth=True, name='samples'),\n",
       " StrCategory(['nominal', 'weight_pileupUp', 'weight_pileupDown', 'weight_isolationUp', 'weight_isolationDown', 'weight_idUp', 'weight_idDown', 'weight_reco_eleUp', 'weight_reco_eleDown', 'weight_L1PrefiringUp', 'weight_L1PrefiringDown', 'weight_trigger_eleUp', 'weight_trigger_eleDown', 'weight_trigger_iso_muUp', 'weight_trigger_iso_muDown', 'weight_trigger_noniso_muUp', 'weight_trigger_noniso_muDown', 'weight_aS_weightUp', 'weight_aS_weightDown', 'weight_UEPS_FSRUp', 'weight_UEPS_FSRDown', 'weight_UEPS_ISRUp', 'weight_UEPS_ISRDown', 'weight_PDF_weightUp', 'weight_PDF_weightDown', 'weight_PDFaS_weightUp', 'weight_PDFaS_weightDown', 'weight_scalevar_3ptUp', 'weight_scalevar_3ptDown', 'weight_scalevar_7ptUp', 'weight_scalevar_7ptDown', 'weight_d1kappa_EWUp', 'weight_d1kappa_EWDown', 'weight_d1K_NLOUp', 'weight_d1K_NLODown', 'weight_d2K_NLOUp', 'weight_d2K_NLODown', 'weight_d3K_NLOUp', 'weight_d3K_NLODown', 'weight_W_d2kappa_EWUp', 'weight_W_d2kappa_EWDown', 'weight_W_d3kappa_EWUp', 'weight_W_d3kappa_EWDown', 'weight_Z_d2kappa_EWUp', 'weight_Z_d2kappa_EWDown', 'weight_Z_d3kappa_EWUp', 'weight_Z_d3kappa_EWDown'], growth=True, name='systematics'),\n",
       " StrCategory(['ggF_pt200to300', 'ggF_pt300toinf', 'VBF_pt200toinf'], growth=True, name='categories'),\n",
       " Variable([50, 70, 90, 110, 130, 150, 170, 190, 210, 230], name='mass_observable', label='Higgs reconstructed mass [GeV]'))"
      ]
     },
     "execution_count": 100,
     "metadata": {},
     "output_type": "execute_result"
    }
   ],
   "source": [
    "hists_templates[\"pass\"].axes"
   ]
  },
  {
   "cell_type": "code",
   "execution_count": 75,
   "id": "f394a36f",
   "metadata": {},
   "outputs": [],
   "source": [
    "    LUMI = {}\n",
    "    for year in years:\n",
    "        LUMI[year] = 0.0\n",
    "        for lep_ch in channels:\n",
    "            with open(\"../fileset/luminosity.json\") as f:\n",
    "                LUMI[year] += json.load(f)[lep_ch][year]\n",
    "        LUMI[year] /= len(channels)\n",
    "\n",
    "    # get the LUMI covered in the templates\n",
    "    full_lumi = 0\n",
    "    for year_ in years:\n",
    "        full_lumi += LUMI[year_]\n",
    "\n",
    "    ptbins = hists_templates[\"pass\"].axes[2].edges\n",
    "    npt = len(ptbins) - 1\n",
    "\n",
    "    massbins = hists_templates[\"pass\"].axes[3].edges\n",
    "    mass = rl.Observable(\"mass_observable\", massbins)\n",
    "\n",
    "    # here we derive these all at once with 2D array\n",
    "    ptpts, masspts = np.meshgrid(ptbins[:-1] + 0.3 * np.diff(ptbins), massbins[:-1] + 0.5 * np.diff(massbins), indexing=\"ij\")\n",
    "\n",
    "#     rhopts = 2 * np.log(masspts / ptpts)\n",
    "    pt_scaled = (ptpts - ptbins[0]) / (ptbins[-1] - ptbins[0])\n",
    "    # define mass_scaled in a similar way\n",
    "    \n",
    "    \n",
    "#     rho_scaled = (rhopts - (-6)) / ((-2.1) - (-6))  # TODO: understand why\n",
    "\n",
    "#     validbins = (rho_scaled >= 0) & (rho_scaled <= 1)\n",
    "#     rho_scaled[~validbins] = 1  # we will mask these out later"
   ]
  },
  {
   "cell_type": "code",
   "execution_count": 86,
   "id": "df350521",
   "metadata": {},
   "outputs": [
    {
     "data": {
      "text/plain": [
       "['ggF_pt200to300', 'ggF_pt300toinf', 'VBF_pt200toinf']"
      ]
     },
     "execution_count": 86,
     "metadata": {},
     "output_type": "execute_result"
    }
   ],
   "source": [
    "list(hists_templates[\"pass\"].axes[\"categories\"])"
   ]
  },
  {
   "cell_type": "code",
   "execution_count": 98,
   "id": "fd90f671",
   "metadata": {},
   "outputs": [
    {
     "data": {
      "text/plain": [
       "['ggF_pt200to300', 'ggF_pt300toinf', 'VBF_pt200toinf']"
      ]
     },
     "execution_count": 98,
     "metadata": {},
     "output_type": "execute_result"
    }
   ],
   "source": [
    "list(hists_templates[\"pass\"].axes[\"categories\"])"
   ]
  },
  {
   "cell_type": "code",
   "execution_count": 89,
   "id": "7b65dd29",
   "metadata": {},
   "outputs": [
    {
     "data": {
      "text/plain": [
       "'mass_observable'"
      ]
     },
     "execution_count": 89,
     "metadata": {},
     "output_type": "execute_result"
    }
   ],
   "source": [
    "hists_templates[\"pass\"].axes[\"mass_observable\"].name"
   ]
  },
  {
   "cell_type": "code",
   "execution_count": 67,
   "id": "afa703fb",
   "metadata": {},
   "outputs": [],
   "source": [
    "categ = {\n",
    "    \"VBF_pt200toinf\": (),\n",
    "    \"ggF_pt200to300\": (200, 300),\n",
    "    \"ggF_pt300toinf\": (300, \"inf\"),\n",
    "}"
   ]
  },
  {
   "cell_type": "code",
   "execution_count": 70,
   "id": "f9c66c5a",
   "metadata": {},
   "outputs": [
    {
     "name": "stdout",
     "output_type": "stream",
     "text": [
      "1 bin VBF_pt200toinf\n",
      "ggF_pt300toinf\n"
     ]
    }
   ],
   "source": [
    "for cat in categ:\n",
    "    if len(categ[cat]) == 0:\n",
    "        print(cat, \"1 bin\")\n",
    "        npt = 1\n",
    "        \n",
    "    else:\n",
    "         \n",
    "    \n",
    "    if \"inf\" in categ[cat]:\n",
    "        print(cat)"
   ]
  },
  {
   "cell_type": "code",
   "execution_count": 66,
   "id": "40a5b1b7",
   "metadata": {},
   "outputs": [
    {
     "data": {
      "text/plain": [
       "0"
      ]
     },
     "execution_count": 66,
     "metadata": {},
     "output_type": "execute_result"
    }
   ],
   "source": [
    "len(categ[\"VBF_pt200toinf\"])"
   ]
  },
  {
   "cell_type": "code",
   "execution_count": null,
   "id": "88bb64a4",
   "metadata": {},
   "outputs": [],
   "source": []
  },
  {
   "cell_type": "code",
   "execution_count": null,
   "id": "6ec81591",
   "metadata": {},
   "outputs": [],
   "source": []
  },
  {
   "cell_type": "code",
   "execution_count": null,
   "id": "8b7e4750",
   "metadata": {},
   "outputs": [],
   "source": [
    "# for vbf\n",
    "# "
   ]
  },
  {
   "cell_type": "code",
   "execution_count": null,
   "id": "e8db1f5d",
   "metadata": {},
   "outputs": [],
   "source": []
  },
  {
   "cell_type": "code",
   "execution_count": null,
   "id": "1a67b613",
   "metadata": {},
   "outputs": [],
   "source": []
  },
  {
   "cell_type": "code",
   "execution_count": 60,
   "id": "fe6ecd75",
   "metadata": {},
   "outputs": [
    {
     "data": {
      "text/plain": [
       "array([[0.1       , 0.1       , 0.1       , 0.1       , 0.1       ,\n",
       "        0.1       , 0.1       , 0.1       , 0.1       ],\n",
       "       [0.43333333, 0.43333333, 0.43333333, 0.43333333, 0.43333333,\n",
       "        0.43333333, 0.43333333, 0.43333333, 0.43333333],\n",
       "       [0.76666667, 0.76666667, 0.76666667, 0.76666667, 0.76666667,\n",
       "        0.76666667, 0.76666667, 0.76666667, 0.76666667]])"
      ]
     },
     "execution_count": 60,
     "metadata": {},
     "output_type": "execute_result"
    }
   ],
   "source": [
    "pt_scaled"
   ]
  },
  {
   "cell_type": "code",
   "execution_count": 45,
   "id": "ab4a1bbe",
   "metadata": {},
   "outputs": [
    {
     "data": {
      "text/plain": [
       "array([ 200.,  300.,  450., 2000.])"
      ]
     },
     "execution_count": 45,
     "metadata": {},
     "output_type": "execute_result"
    }
   ],
   "source": [
    "ptbins    # "
   ]
  },
  {
   "cell_type": "code",
   "execution_count": 46,
   "id": "02835088",
   "metadata": {},
   "outputs": [
    {
     "data": {
      "text/plain": [
       "3"
      ]
     },
     "execution_count": 46,
     "metadata": {},
     "output_type": "execute_result"
    }
   ],
   "source": [
    "npt"
   ]
  },
  {
   "cell_type": "code",
   "execution_count": 47,
   "id": "c66bbe38",
   "metadata": {},
   "outputs": [
    {
     "data": {
      "text/plain": [
       "array([[230., 230., 230., 230., 230., 230., 230., 230., 230.],\n",
       "       [345., 345., 345., 345., 345., 345., 345., 345., 345.],\n",
       "       [915., 915., 915., 915., 915., 915., 915., 915., 915.]])"
      ]
     },
     "execution_count": 47,
     "metadata": {},
     "output_type": "execute_result"
    }
   ],
   "source": [
    "ptpts   # choice to be just 0.3 above"
   ]
  },
  {
   "cell_type": "code",
   "execution_count": 48,
   "id": "d5f95383",
   "metadata": {},
   "outputs": [
    {
     "data": {
      "text/plain": [
       "array([[ 60.,  80., 100., 120., 140., 160., 180., 200., 220.],\n",
       "       [ 60.,  80., 100., 120., 140., 160., 180., 200., 220.],\n",
       "       [ 60.,  80., 100., 120., 140., 160., 180., 200., 220.]])"
      ]
     },
     "execution_count": 48,
     "metadata": {},
     "output_type": "execute_result"
    }
   ],
   "source": [
    "masspts"
   ]
  },
  {
   "cell_type": "code",
   "execution_count": 49,
   "id": "62b953a9",
   "metadata": {},
   "outputs": [
    {
     "data": {
      "text/plain": [
       "array([ 50.,  70.,  90., 110., 130., 150., 170., 190., 210., 230.])"
      ]
     },
     "execution_count": 49,
     "metadata": {},
     "output_type": "execute_result"
    }
   ],
   "source": [
    "massbins"
   ]
  },
  {
   "cell_type": "code",
   "execution_count": 50,
   "id": "813603a1",
   "metadata": {},
   "outputs": [
    {
     "data": {
      "text/plain": [
       "array([[-2.68746949, -2.11210535, -1.66581825, -1.30117513, -0.99287377,\n",
       "        -0.72581099, -0.49024492, -0.27952388, -0.08890353],\n",
       "       [-3.49839971, -2.92303556, -2.47674846, -2.11210535, -1.80380399,\n",
       "        -1.5367412 , -1.30117513, -1.0904541 , -0.89983374],\n",
       "       [-5.44915901, -4.87379486, -4.42750776, -4.06286464, -3.75456329,\n",
       "        -3.4875005 , -3.25193443, -3.0412134 , -2.85059304]])"
      ]
     },
     "execution_count": 50,
     "metadata": {},
     "output_type": "execute_result"
    }
   ],
   "source": [
    "rhopts"
   ]
  },
  {
   "cell_type": "code",
   "execution_count": 52,
   "id": "1ac2a5eb",
   "metadata": {},
   "outputs": [
    {
     "data": {
      "text/plain": [
       "array([[0.01666667, 0.01666667, 0.01666667, 0.01666667, 0.01666667,\n",
       "        0.01666667, 0.01666667, 0.01666667, 0.01666667],\n",
       "       [0.08055556, 0.08055556, 0.08055556, 0.08055556, 0.08055556,\n",
       "        0.08055556, 0.08055556, 0.08055556, 0.08055556],\n",
       "       [0.39722222, 0.39722222, 0.39722222, 0.39722222, 0.39722222,\n",
       "        0.39722222, 0.39722222, 0.39722222, 0.39722222]])"
      ]
     },
     "execution_count": 52,
     "metadata": {},
     "output_type": "execute_result"
    }
   ],
   "source": []
  },
  {
   "cell_type": "code",
   "execution_count": null,
   "id": "c2773f1a",
   "metadata": {},
   "outputs": [],
   "source": []
  },
  {
   "cell_type": "code",
   "execution_count": null,
   "id": "bd04aefc",
   "metadata": {},
   "outputs": [],
   "source": []
  },
  {
   "cell_type": "code",
   "execution_count": 33,
   "id": "7fde619a",
   "metadata": {},
   "outputs": [
    {
     "data": {
      "text/plain": [
       "'ggF-pt200to300'"
      ]
     },
     "execution_count": 33,
     "metadata": {},
     "output_type": "execute_result"
    }
   ],
   "source": [
    "hists_templates[\"pass\"].axes[2][0].replace(\"_\", \"-\")"
   ]
  },
  {
   "cell_type": "code",
   "execution_count": null,
   "id": "411561e9",
   "metadata": {},
   "outputs": [],
   "source": []
  },
  {
   "cell_type": "code",
   "execution_count": null,
   "id": "e163381a",
   "metadata": {},
   "outputs": [],
   "source": []
  },
  {
   "cell_type": "code",
   "execution_count": null,
   "id": "c03976ac",
   "metadata": {},
   "outputs": [],
   "source": []
  },
  {
   "cell_type": "code",
   "execution_count": 12,
   "id": "9f8e0966",
   "metadata": {},
   "outputs": [],
   "source": [
    "    LUMI = {}\n",
    "    for year in years:\n",
    "        LUMI[year] = 0.0\n",
    "        for lep_ch in channels:\n",
    "            with open(\"../fileset/luminosity.json\") as f:\n",
    "                LUMI[year] += json.load(f)[lep_ch][year]\n",
    "        LUMI[year] /= len(channels)\n",
    "\n",
    "    # get the LUMI covered in the templates\n",
    "    full_lumi = 0\n",
    "    for year_ in years:\n",
    "        full_lumi += LUMI[year_]\n",
    "\n",
    "    ptbins = hists_templates[\"pass\"].axes[2].edges\n",
    "    npt = len(ptbins) - 1\n",
    "\n",
    "    massbins = hists_templates[\"pass\"].axes[3].edges\n",
    "    mass = rl.Observable(\"mass_observable\", massbins)\n",
    "\n",
    "    # here we derive these all at once with 2D array\n",
    "    ptpts, masspts = np.meshgrid(ptbins[:-1] + 0.3 * np.diff(ptbins), massbins[:-1] + 0.5 * np.diff(massbins), indexing=\"ij\")\n",
    "\n",
    "    rhopts = 2 * np.log(masspts / ptpts)\n",
    "    pt_scaled = (ptpts - ptbins[0]) / (ptbins[-1] - ptbins[0])\n",
    "    rho_scaled = (rhopts - (-6)) / ((-2.1) - (-6))  # TODO: understand why\n",
    "\n",
    "    validbins = (rho_scaled >= 0) & (rho_scaled <= 1)\n",
    "    rho_scaled[~validbins] = 1  # we will mask these out later\n"
   ]
  },
  {
   "cell_type": "code",
   "execution_count": 13,
   "id": "a7971f39",
   "metadata": {},
   "outputs": [
    {
     "data": {
      "text/plain": [
       "array([ 200.,  300.,  450., 2000.])"
      ]
     },
     "execution_count": 13,
     "metadata": {},
     "output_type": "execute_result"
    }
   ],
   "source": [
    "ptbins"
   ]
  },
  {
   "cell_type": "code",
   "execution_count": 14,
   "id": "1a043dbd",
   "metadata": {},
   "outputs": [
    {
     "data": {
      "text/plain": [
       "3"
      ]
     },
     "execution_count": 14,
     "metadata": {},
     "output_type": "execute_result"
    }
   ],
   "source": [
    "npt"
   ]
  },
  {
   "cell_type": "code",
   "execution_count": 15,
   "id": "30b41188",
   "metadata": {},
   "outputs": [
    {
     "data": {
      "text/plain": [
       "array([[230., 230., 230., 230., 230., 230., 230., 230., 230.],\n",
       "       [345., 345., 345., 345., 345., 345., 345., 345., 345.],\n",
       "       [915., 915., 915., 915., 915., 915., 915., 915., 915.]])"
      ]
     },
     "execution_count": 15,
     "metadata": {},
     "output_type": "execute_result"
    }
   ],
   "source": [
    "ptpts"
   ]
  },
  {
   "cell_type": "code",
   "execution_count": 16,
   "id": "a5016fe1",
   "metadata": {},
   "outputs": [
    {
     "data": {
      "text/plain": [
       "array([[ 60.,  80., 100., 120., 140., 160., 180., 200., 220.],\n",
       "       [ 60.,  80., 100., 120., 140., 160., 180., 200., 220.],\n",
       "       [ 60.,  80., 100., 120., 140., 160., 180., 200., 220.]])"
      ]
     },
     "execution_count": 16,
     "metadata": {},
     "output_type": "execute_result"
    }
   ],
   "source": [
    "masspts"
   ]
  },
  {
   "cell_type": "code",
   "execution_count": 17,
   "id": "65a4e911",
   "metadata": {},
   "outputs": [
    {
     "data": {
      "text/plain": [
       "array([[0.01666667, 0.01666667, 0.01666667, 0.01666667, 0.01666667,\n",
       "        0.01666667, 0.01666667, 0.01666667, 0.01666667],\n",
       "       [0.08055556, 0.08055556, 0.08055556, 0.08055556, 0.08055556,\n",
       "        0.08055556, 0.08055556, 0.08055556, 0.08055556],\n",
       "       [0.39722222, 0.39722222, 0.39722222, 0.39722222, 0.39722222,\n",
       "        0.39722222, 0.39722222, 0.39722222, 0.39722222]])"
      ]
     },
     "execution_count": 17,
     "metadata": {},
     "output_type": "execute_result"
    }
   ],
   "source": [
    "pt_scaled"
   ]
  },
  {
   "cell_type": "code",
   "execution_count": null,
   "id": "e82f7599",
   "metadata": {},
   "outputs": [],
   "source": []
  }
 ],
 "metadata": {
  "kernelspec": {
   "display_name": "coffea-env",
   "language": "python",
   "name": "coffea-env"
  },
  "language_info": {
   "codemirror_mode": {
    "name": "ipython",
    "version": 3
   },
   "file_extension": ".py",
   "mimetype": "text/x-python",
   "name": "python",
   "nbconvert_exporter": "python",
   "pygments_lexer": "ipython3",
   "version": "3.9.16"
  }
 },
 "nbformat": 4,
 "nbformat_minor": 5
}
