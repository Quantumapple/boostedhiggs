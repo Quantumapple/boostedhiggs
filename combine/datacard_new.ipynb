{
 "cells": [
  {
   "cell_type": "code",
   "execution_count": 1,
   "id": "986d3836",
   "metadata": {},
   "outputs": [],
   "source": [
    "from __future__ import division, print_function\n",
    "\n",
    "import argparse\n",
    "import json\n",
    "import logging\n",
    "import math\n",
    "import pickle as pkl\n",
    "import warnings\n",
    "\n",
    "import numpy as np\n",
    "import pandas as pd\n",
    "import rhalphalib as rl\n",
    "from utils import blindBins, get_template, labels, samples, shape_to_num, sigs\n",
    "\n",
    "rl.ParametericSample.PreferRooParametricHist = False\n",
    "logging.basicConfig(level=logging.INFO)\n",
    "\n",
    "warnings.filterwarnings(\"ignore\", message=\"Found duplicate branch \")\n",
    "pd.set_option(\"mode.chained_assignment\", None)"
   ]
  },
  {
   "cell_type": "code",
   "execution_count": 128,
   "id": "3129e163",
   "metadata": {},
   "outputs": [
    {
     "name": "stdout",
     "output_type": "stream",
     "text": [
      "hists_templates_2017.pkl hists_templates_Run2.pkl\r\n"
     ]
    }
   ],
   "source": [
    "! ls templates/zzz"
   ]
  },
  {
   "cell_type": "code",
   "execution_count": 10,
   "id": "0e4af9bf",
   "metadata": {},
   "outputs": [],
   "source": [
    "years = [\"2018\", \"2017\", \"2016\", \"2016APV\"]\n",
    "channels = [\"ele\", \"mu\"]"
   ]
  },
  {
   "cell_type": "code",
   "execution_count": 143,
   "id": "e0826c98",
   "metadata": {},
   "outputs": [],
   "source": [
    "# with open(f\"templates/test/hists_templates_Run2_ele.pkl\", \"rb\") as f:\n",
    "#     hists_templates = pkl.load(f)\n",
    "    \n",
    "# with open(f\"templates/v1/hists_templates_Run2.pkl\", \"rb\") as f:\n",
    "#     hists_templates = pkl.load(f)  \n",
    "    \n",
    "# with open(f\"templates/zzz/hists_templates_Run2.pkl\", \"rb\") as f:\n",
    "#     hists_templates = pkl.load(f)   \n",
    "    \n",
    "with open(f\"templates/zzz/hists_templates_2017.pkl\", \"rb\") as f:\n",
    "    hists_templates = pkl.load(f)       "
   ]
  },
  {
   "cell_type": "code",
   "execution_count": 144,
   "id": "38786518",
   "metadata": {},
   "outputs": [
    {
     "data": {
      "text/plain": [
       "(StrCategory(['WJetsLNu', 'TTbar'], growth=True, name='samples'),\n",
       " StrCategory(['nominal'], growth=True, name='systematics'),\n",
       " StrCategory(['a'], growth=True, name='categories'),\n",
       " Variable([50, 70, 90, 110, 130, 150, 170, 190, 210, 230], name='mass_observable', label='Higgs reconstructed mass [GeV]'))"
      ]
     },
     "execution_count": 144,
     "metadata": {},
     "output_type": "execute_result"
    }
   ],
   "source": [
    "hists_templates[\"pass\"].axes"
   ]
  },
  {
   "cell_type": "code",
   "execution_count": 145,
   "id": "a3450035",
   "metadata": {},
   "outputs": [
    {
     "data": {
      "text/plain": [
       "array([ 19.43444381,  57.03274104, 105.85042294,  93.23457883,\n",
       "       121.23747199, 111.17105989, 108.11541445,  73.32521132,\n",
       "        68.49686623])"
      ]
     },
     "execution_count": 145,
     "metadata": {},
     "output_type": "execute_result"
    }
   ],
   "source": [
    "hists_templates[\"pass\"][{\"samples\": \"WJetsLNu\", \"categories\": \"a\", \"systematics\": \"nominal\"}].values()"
   ]
  },
  {
   "cell_type": "code",
   "execution_count": 146,
   "id": "630ee674",
   "metadata": {},
   "outputs": [
    {
     "data": {
      "text/plain": [
       "array([ 2.83742862, 10.67279885, 23.16848787, 37.32291965, 48.4060248 ,\n",
       "       52.30718123, 48.19652448, 48.23560294, 38.16915477])"
      ]
     },
     "execution_count": 146,
     "metadata": {},
     "output_type": "execute_result"
    }
   ],
   "source": [
    "hists_templates[\"pass\"][{\"samples\": \"TTbar\", \"categories\": \"a\", \"systematics\": \"nominal\"}].values()"
   ]
  },
  {
   "cell_type": "code",
   "execution_count": null,
   "id": "b2120321",
   "metadata": {},
   "outputs": [],
   "source": []
  },
  {
   "cell_type": "code",
   "execution_count": 135,
   "id": "2847d13d",
   "metadata": {},
   "outputs": [
    {
     "ename": "KeyError",
     "evalue": "\"'ggF_pt200to300' not in axis\"",
     "output_type": "error",
     "traceback": [
      "\u001b[0;31m---------------------------------------------------------------------------\u001b[0m",
      "\u001b[0;31mKeyError\u001b[0m                                  Traceback (most recent call last)",
      "Cell \u001b[0;32mIn[135], line 1\u001b[0m\n\u001b[0;32m----> 1\u001b[0m \u001b[43mhists_templates\u001b[49m\u001b[43m[\u001b[49m\u001b[38;5;124;43m\"\u001b[39;49m\u001b[38;5;124;43mpass\u001b[39;49m\u001b[38;5;124;43m\"\u001b[39;49m\u001b[43m]\u001b[49m\u001b[43m[\u001b[49m\u001b[43m{\u001b[49m\u001b[38;5;124;43m\"\u001b[39;49m\u001b[38;5;124;43msamples\u001b[39;49m\u001b[38;5;124;43m\"\u001b[39;49m\u001b[43m:\u001b[49m\u001b[43m \u001b[49m\u001b[38;5;124;43m\"\u001b[39;49m\u001b[38;5;124;43mWJetsLNu\u001b[39;49m\u001b[38;5;124;43m\"\u001b[39;49m\u001b[43m,\u001b[49m\u001b[43m \u001b[49m\u001b[38;5;124;43m\"\u001b[39;49m\u001b[38;5;124;43mcategories\u001b[39;49m\u001b[38;5;124;43m\"\u001b[39;49m\u001b[43m:\u001b[49m\u001b[43m \u001b[49m\u001b[38;5;124;43m\"\u001b[39;49m\u001b[38;5;124;43mggF_pt200to300\u001b[39;49m\u001b[38;5;124;43m\"\u001b[39;49m\u001b[43m,\u001b[49m\u001b[43m \u001b[49m\u001b[38;5;124;43m\"\u001b[39;49m\u001b[38;5;124;43msystematics\u001b[39;49m\u001b[38;5;124;43m\"\u001b[39;49m\u001b[43m:\u001b[49m\u001b[43m \u001b[49m\u001b[38;5;124;43m\"\u001b[39;49m\u001b[38;5;124;43mnominal\u001b[39;49m\u001b[38;5;124;43m\"\u001b[39;49m\u001b[43m}\u001b[49m\u001b[43m]\u001b[49m\u001b[38;5;241m.\u001b[39mvalues()\n",
      "File \u001b[0;32m~/miniforge3/envs/coffea-env/lib/python3.9/site-packages/hist/basehist.py:324\u001b[0m, in \u001b[0;36mBaseHist.__getitem__\u001b[0;34m(self, index)\u001b[0m\n\u001b[1;32m    317\u001b[0m \u001b[38;5;28;01mdef\u001b[39;00m \u001b[38;5;21m__getitem__\u001b[39m(  \u001b[38;5;66;03m# type: ignore[override]\u001b[39;00m\n\u001b[1;32m    318\u001b[0m     \u001b[38;5;28mself\u001b[39m: T, index: IndexingExpr\n\u001b[1;32m    319\u001b[0m ) \u001b[38;5;241m-\u001b[39m\u001b[38;5;241m>\u001b[39m T \u001b[38;5;241m|\u001b[39m \u001b[38;5;28mfloat\u001b[39m \u001b[38;5;241m|\u001b[39m bh\u001b[38;5;241m.\u001b[39maccumulators\u001b[38;5;241m.\u001b[39mAccumulator:\n\u001b[1;32m    320\u001b[0m \u001b[38;5;250m    \u001b[39m\u001b[38;5;124;03m\"\"\"\u001b[39;00m\n\u001b[1;32m    321\u001b[0m \u001b[38;5;124;03m    Get histogram item.\u001b[39;00m\n\u001b[1;32m    322\u001b[0m \u001b[38;5;124;03m    \"\"\"\u001b[39;00m\n\u001b[0;32m--> 324\u001b[0m     \u001b[38;5;28;01mreturn\u001b[39;00m \u001b[38;5;28;43msuper\u001b[39;49m\u001b[43m(\u001b[49m\u001b[43m)\u001b[49m\u001b[38;5;241;43m.\u001b[39;49m\u001b[38;5;21;43m__getitem__\u001b[39;49m\u001b[43m(\u001b[49m\u001b[38;5;28;43mself\u001b[39;49m\u001b[38;5;241;43m.\u001b[39;49m\u001b[43m_index_transform\u001b[49m\u001b[43m(\u001b[49m\u001b[43mindex\u001b[49m\u001b[43m)\u001b[49m\u001b[43m)\u001b[49m\n",
      "File \u001b[0;32m~/miniforge3/envs/coffea-env/lib/python3.9/site-packages/boost_histogram/_internal/hist.py:842\u001b[0m, in \u001b[0;36mHistogram.__getitem__\u001b[0;34m(self, index)\u001b[0m\n\u001b[1;32m    838\u001b[0m \u001b[38;5;28;01mdef\u001b[39;00m \u001b[38;5;21m__getitem__\u001b[39m(  \u001b[38;5;66;03m# noqa: C901\u001b[39;00m\n\u001b[1;32m    839\u001b[0m     \u001b[38;5;28mself\u001b[39m: H, index: IndexingExpr\n\u001b[1;32m    840\u001b[0m ) \u001b[38;5;241m-\u001b[39m\u001b[38;5;241m>\u001b[39m Union[H, \u001b[38;5;28mfloat\u001b[39m, Accumulator]:\n\u001b[0;32m--> 842\u001b[0m     indexes \u001b[38;5;241m=\u001b[39m \u001b[38;5;28;43mself\u001b[39;49m\u001b[38;5;241;43m.\u001b[39;49m\u001b[43m_compute_commonindex\u001b[49m\u001b[43m(\u001b[49m\u001b[43mindex\u001b[49m\u001b[43m)\u001b[49m\n\u001b[1;32m    844\u001b[0m     \u001b[38;5;66;03m# If this is (now) all integers, return the bin contents\u001b[39;00m\n\u001b[1;32m    845\u001b[0m     \u001b[38;5;66;03m# But don't try *dict!\u001b[39;00m\n\u001b[1;32m    846\u001b[0m     \u001b[38;5;28;01mif\u001b[39;00m \u001b[38;5;129;01mnot\u001b[39;00m \u001b[38;5;28mhasattr\u001b[39m(indexes, \u001b[38;5;124m\"\u001b[39m\u001b[38;5;124mitems\u001b[39m\u001b[38;5;124m\"\u001b[39m) \u001b[38;5;129;01mand\u001b[39;00m \u001b[38;5;28mall\u001b[39m(\n\u001b[1;32m    847\u001b[0m         \u001b[38;5;28misinstance\u001b[39m(a, SupportsIndex) \u001b[38;5;28;01mfor\u001b[39;00m a \u001b[38;5;129;01min\u001b[39;00m indexes\n\u001b[1;32m    848\u001b[0m     ):\n",
      "File \u001b[0;32m~/miniforge3/envs/coffea-env/lib/python3.9/site-packages/boost_histogram/_internal/hist.py:750\u001b[0m, in \u001b[0;36mHistogram._compute_commonindex\u001b[0;34m(self, index)\u001b[0m\n\u001b[1;32m    748\u001b[0m         indexes[i] \u001b[38;5;241m=\u001b[39m [\u001b[38;5;28mself\u001b[39m\u001b[38;5;241m.\u001b[39m_compute_uhi_index(ind, i) \u001b[38;5;28;01mfor\u001b[39;00m ind \u001b[38;5;129;01min\u001b[39;00m indexes[i]]\n\u001b[1;32m    749\u001b[0m     \u001b[38;5;28;01melse\u001b[39;00m:\n\u001b[0;32m--> 750\u001b[0m         indexes[i] \u001b[38;5;241m=\u001b[39m \u001b[38;5;28;43mself\u001b[39;49m\u001b[38;5;241;43m.\u001b[39;49m\u001b[43m_compute_uhi_index\u001b[49m\u001b[43m(\u001b[49m\u001b[43mindexes\u001b[49m\u001b[43m[\u001b[49m\u001b[43mi\u001b[49m\u001b[43m]\u001b[49m\u001b[43m,\u001b[49m\u001b[43m \u001b[49m\u001b[43mi\u001b[49m\u001b[43m)\u001b[49m\n\u001b[1;32m    752\u001b[0m \u001b[38;5;28;01mreturn\u001b[39;00m indexes\n",
      "File \u001b[0;32m~/miniforge3/envs/coffea-env/lib/python3.9/site-packages/boost_histogram/_internal/hist.py:702\u001b[0m, in \u001b[0;36mHistogram._compute_uhi_index\u001b[0;34m(self, index, axis)\u001b[0m\n\u001b[1;32m    698\u001b[0m \u001b[38;5;66;03m# General locators\u001b[39;00m\n\u001b[1;32m    699\u001b[0m \u001b[38;5;66;03m# Note that MyPy doesn't like these very much - the fix\u001b[39;00m\n\u001b[1;32m    700\u001b[0m \u001b[38;5;66;03m# will be to properly set input types\u001b[39;00m\n\u001b[1;32m    701\u001b[0m \u001b[38;5;28;01mif\u001b[39;00m \u001b[38;5;28mcallable\u001b[39m(index):\n\u001b[0;32m--> 702\u001b[0m     \u001b[38;5;28;01mreturn\u001b[39;00m \u001b[43mindex\u001b[49m\u001b[43m(\u001b[49m\u001b[38;5;28;43mself\u001b[39;49m\u001b[38;5;241;43m.\u001b[39;49m\u001b[43maxes\u001b[49m\u001b[43m[\u001b[49m\u001b[43maxis\u001b[49m\u001b[43m]\u001b[49m\u001b[43m)\u001b[49m\n\u001b[1;32m    704\u001b[0m \u001b[38;5;28;01mif\u001b[39;00m \u001b[38;5;28misinstance\u001b[39m(index, \u001b[38;5;28mfloat\u001b[39m):  \u001b[38;5;66;03m# type: ignore[unreachable]\u001b[39;00m\n\u001b[1;32m    705\u001b[0m     \u001b[38;5;28;01mraise\u001b[39;00m \u001b[38;5;167;01mTypeError\u001b[39;00m(\u001b[38;5;124mf\u001b[39m\u001b[38;5;124m\"\u001b[39m\u001b[38;5;124mIndex \u001b[39m\u001b[38;5;132;01m{\u001b[39;00mindex\u001b[38;5;132;01m}\u001b[39;00m\u001b[38;5;124m must be an integer, not float\u001b[39m\u001b[38;5;124m\"\u001b[39m)\n",
      "File \u001b[0;32m~/miniforge3/envs/coffea-env/lib/python3.9/site-packages/boost_histogram/tag.py:73\u001b[0m, in \u001b[0;36mloc.__call__\u001b[0;34m(self, axis)\u001b[0m\n\u001b[1;32m     72\u001b[0m \u001b[38;5;28;01mdef\u001b[39;00m \u001b[38;5;21m__call__\u001b[39m(\u001b[38;5;28mself\u001b[39m, axis: AxisLike) \u001b[38;5;241m-\u001b[39m\u001b[38;5;241m>\u001b[39m \u001b[38;5;28mint\u001b[39m:\n\u001b[0;32m---> 73\u001b[0m     \u001b[38;5;28;01mreturn\u001b[39;00m \u001b[43maxis\u001b[49m\u001b[38;5;241;43m.\u001b[39;49m\u001b[43mindex\u001b[49m\u001b[43m(\u001b[49m\u001b[38;5;28;43mself\u001b[39;49m\u001b[38;5;241;43m.\u001b[39;49m\u001b[43mvalue\u001b[49m\u001b[43m)\u001b[49m \u001b[38;5;241m+\u001b[39m \u001b[38;5;28mself\u001b[39m\u001b[38;5;241m.\u001b[39moffset\n",
      "File \u001b[0;32m~/miniforge3/envs/coffea-env/lib/python3.9/site-packages/boost_histogram/_internal/axis.py:669\u001b[0m, in \u001b[0;36mStrCategory.index\u001b[0;34m(self, value)\u001b[0m\n\u001b[1;32m    664\u001b[0m \u001b[38;5;250m\u001b[39m\u001b[38;5;124;03m\"\"\"\u001b[39;00m\n\u001b[1;32m    665\u001b[0m \u001b[38;5;124;03mReturn the fractional index(es) given a value (or values) on the axis.\u001b[39;00m\n\u001b[1;32m    666\u001b[0m \u001b[38;5;124;03m\"\"\"\u001b[39;00m\n\u001b[1;32m    668\u001b[0m \u001b[38;5;28;01mif\u001b[39;00m _isstr(value):\n\u001b[0;32m--> 669\u001b[0m     \u001b[38;5;28;01mreturn\u001b[39;00m \u001b[38;5;28;43mself\u001b[39;49m\u001b[38;5;241;43m.\u001b[39;49m\u001b[43m_ax\u001b[49m\u001b[38;5;241;43m.\u001b[39;49m\u001b[43mindex\u001b[49m\u001b[43m(\u001b[49m\u001b[43mvalue\u001b[49m\u001b[43m)\u001b[49m  \u001b[38;5;66;03m# type: ignore[no-any-return]\u001b[39;00m\n\u001b[1;32m    671\u001b[0m msg \u001b[38;5;241m=\u001b[39m \u001b[38;5;124mf\u001b[39m\u001b[38;5;124m\"\u001b[39m\u001b[38;5;124mindex(\u001b[39m\u001b[38;5;132;01m{\u001b[39;00mvalue\u001b[38;5;132;01m}\u001b[39;00m\u001b[38;5;124m) must be a string or iterable of strings for a StrCategory axis\u001b[39m\u001b[38;5;124m\"\u001b[39m\n\u001b[1;32m    672\u001b[0m \u001b[38;5;28;01mraise\u001b[39;00m \u001b[38;5;167;01mTypeError\u001b[39;00m(msg)\n",
      "\u001b[0;31mKeyError\u001b[0m: \"'ggF_pt200to300' not in axis\""
     ]
    }
   ],
   "source": [
    "hists_templates[\"pass\"][{\"samples\": \"WJetsLNu\", \"categories\": \"ggF_pt200to300\", \"systematics\": \"nominal\"}].values()"
   ]
  },
  {
   "cell_type": "code",
   "execution_count": 136,
   "id": "8557c7f9",
   "metadata": {},
   "outputs": [
    {
     "ename": "KeyError",
     "evalue": "\"'ggF_pt200to300' not in axis\"",
     "output_type": "error",
     "traceback": [
      "\u001b[0;31m---------------------------------------------------------------------------\u001b[0m",
      "\u001b[0;31mKeyError\u001b[0m                                  Traceback (most recent call last)",
      "Cell \u001b[0;32mIn[136], line 1\u001b[0m\n\u001b[0;32m----> 1\u001b[0m \u001b[43mhists_templates\u001b[49m\u001b[43m[\u001b[49m\u001b[38;5;124;43m\"\u001b[39;49m\u001b[38;5;124;43mpass\u001b[39;49m\u001b[38;5;124;43m\"\u001b[39;49m\u001b[43m]\u001b[49m\u001b[43m[\u001b[49m\u001b[43m{\u001b[49m\u001b[38;5;124;43m\"\u001b[39;49m\u001b[38;5;124;43msamples\u001b[39;49m\u001b[38;5;124;43m\"\u001b[39;49m\u001b[43m:\u001b[49m\u001b[43m \u001b[49m\u001b[38;5;124;43m\"\u001b[39;49m\u001b[38;5;124;43mTTbar\u001b[39;49m\u001b[38;5;124;43m\"\u001b[39;49m\u001b[43m,\u001b[49m\u001b[43m \u001b[49m\u001b[38;5;124;43m\"\u001b[39;49m\u001b[38;5;124;43mcategories\u001b[39;49m\u001b[38;5;124;43m\"\u001b[39;49m\u001b[43m:\u001b[49m\u001b[43m \u001b[49m\u001b[38;5;124;43m\"\u001b[39;49m\u001b[38;5;124;43mggF_pt200to300\u001b[39;49m\u001b[38;5;124;43m\"\u001b[39;49m\u001b[43m,\u001b[49m\u001b[43m \u001b[49m\u001b[38;5;124;43m\"\u001b[39;49m\u001b[38;5;124;43msystematics\u001b[39;49m\u001b[38;5;124;43m\"\u001b[39;49m\u001b[43m:\u001b[49m\u001b[43m \u001b[49m\u001b[38;5;124;43m\"\u001b[39;49m\u001b[38;5;124;43mnominal\u001b[39;49m\u001b[38;5;124;43m\"\u001b[39;49m\u001b[43m}\u001b[49m\u001b[43m]\u001b[49m\u001b[38;5;241m.\u001b[39mvalues()\n",
      "File \u001b[0;32m~/miniforge3/envs/coffea-env/lib/python3.9/site-packages/hist/basehist.py:324\u001b[0m, in \u001b[0;36mBaseHist.__getitem__\u001b[0;34m(self, index)\u001b[0m\n\u001b[1;32m    317\u001b[0m \u001b[38;5;28;01mdef\u001b[39;00m \u001b[38;5;21m__getitem__\u001b[39m(  \u001b[38;5;66;03m# type: ignore[override]\u001b[39;00m\n\u001b[1;32m    318\u001b[0m     \u001b[38;5;28mself\u001b[39m: T, index: IndexingExpr\n\u001b[1;32m    319\u001b[0m ) \u001b[38;5;241m-\u001b[39m\u001b[38;5;241m>\u001b[39m T \u001b[38;5;241m|\u001b[39m \u001b[38;5;28mfloat\u001b[39m \u001b[38;5;241m|\u001b[39m bh\u001b[38;5;241m.\u001b[39maccumulators\u001b[38;5;241m.\u001b[39mAccumulator:\n\u001b[1;32m    320\u001b[0m \u001b[38;5;250m    \u001b[39m\u001b[38;5;124;03m\"\"\"\u001b[39;00m\n\u001b[1;32m    321\u001b[0m \u001b[38;5;124;03m    Get histogram item.\u001b[39;00m\n\u001b[1;32m    322\u001b[0m \u001b[38;5;124;03m    \"\"\"\u001b[39;00m\n\u001b[0;32m--> 324\u001b[0m     \u001b[38;5;28;01mreturn\u001b[39;00m \u001b[38;5;28;43msuper\u001b[39;49m\u001b[43m(\u001b[49m\u001b[43m)\u001b[49m\u001b[38;5;241;43m.\u001b[39;49m\u001b[38;5;21;43m__getitem__\u001b[39;49m\u001b[43m(\u001b[49m\u001b[38;5;28;43mself\u001b[39;49m\u001b[38;5;241;43m.\u001b[39;49m\u001b[43m_index_transform\u001b[49m\u001b[43m(\u001b[49m\u001b[43mindex\u001b[49m\u001b[43m)\u001b[49m\u001b[43m)\u001b[49m\n",
      "File \u001b[0;32m~/miniforge3/envs/coffea-env/lib/python3.9/site-packages/boost_histogram/_internal/hist.py:842\u001b[0m, in \u001b[0;36mHistogram.__getitem__\u001b[0;34m(self, index)\u001b[0m\n\u001b[1;32m    838\u001b[0m \u001b[38;5;28;01mdef\u001b[39;00m \u001b[38;5;21m__getitem__\u001b[39m(  \u001b[38;5;66;03m# noqa: C901\u001b[39;00m\n\u001b[1;32m    839\u001b[0m     \u001b[38;5;28mself\u001b[39m: H, index: IndexingExpr\n\u001b[1;32m    840\u001b[0m ) \u001b[38;5;241m-\u001b[39m\u001b[38;5;241m>\u001b[39m Union[H, \u001b[38;5;28mfloat\u001b[39m, Accumulator]:\n\u001b[0;32m--> 842\u001b[0m     indexes \u001b[38;5;241m=\u001b[39m \u001b[38;5;28;43mself\u001b[39;49m\u001b[38;5;241;43m.\u001b[39;49m\u001b[43m_compute_commonindex\u001b[49m\u001b[43m(\u001b[49m\u001b[43mindex\u001b[49m\u001b[43m)\u001b[49m\n\u001b[1;32m    844\u001b[0m     \u001b[38;5;66;03m# If this is (now) all integers, return the bin contents\u001b[39;00m\n\u001b[1;32m    845\u001b[0m     \u001b[38;5;66;03m# But don't try *dict!\u001b[39;00m\n\u001b[1;32m    846\u001b[0m     \u001b[38;5;28;01mif\u001b[39;00m \u001b[38;5;129;01mnot\u001b[39;00m \u001b[38;5;28mhasattr\u001b[39m(indexes, \u001b[38;5;124m\"\u001b[39m\u001b[38;5;124mitems\u001b[39m\u001b[38;5;124m\"\u001b[39m) \u001b[38;5;129;01mand\u001b[39;00m \u001b[38;5;28mall\u001b[39m(\n\u001b[1;32m    847\u001b[0m         \u001b[38;5;28misinstance\u001b[39m(a, SupportsIndex) \u001b[38;5;28;01mfor\u001b[39;00m a \u001b[38;5;129;01min\u001b[39;00m indexes\n\u001b[1;32m    848\u001b[0m     ):\n",
      "File \u001b[0;32m~/miniforge3/envs/coffea-env/lib/python3.9/site-packages/boost_histogram/_internal/hist.py:750\u001b[0m, in \u001b[0;36mHistogram._compute_commonindex\u001b[0;34m(self, index)\u001b[0m\n\u001b[1;32m    748\u001b[0m         indexes[i] \u001b[38;5;241m=\u001b[39m [\u001b[38;5;28mself\u001b[39m\u001b[38;5;241m.\u001b[39m_compute_uhi_index(ind, i) \u001b[38;5;28;01mfor\u001b[39;00m ind \u001b[38;5;129;01min\u001b[39;00m indexes[i]]\n\u001b[1;32m    749\u001b[0m     \u001b[38;5;28;01melse\u001b[39;00m:\n\u001b[0;32m--> 750\u001b[0m         indexes[i] \u001b[38;5;241m=\u001b[39m \u001b[38;5;28;43mself\u001b[39;49m\u001b[38;5;241;43m.\u001b[39;49m\u001b[43m_compute_uhi_index\u001b[49m\u001b[43m(\u001b[49m\u001b[43mindexes\u001b[49m\u001b[43m[\u001b[49m\u001b[43mi\u001b[49m\u001b[43m]\u001b[49m\u001b[43m,\u001b[49m\u001b[43m \u001b[49m\u001b[43mi\u001b[49m\u001b[43m)\u001b[49m\n\u001b[1;32m    752\u001b[0m \u001b[38;5;28;01mreturn\u001b[39;00m indexes\n",
      "File \u001b[0;32m~/miniforge3/envs/coffea-env/lib/python3.9/site-packages/boost_histogram/_internal/hist.py:702\u001b[0m, in \u001b[0;36mHistogram._compute_uhi_index\u001b[0;34m(self, index, axis)\u001b[0m\n\u001b[1;32m    698\u001b[0m \u001b[38;5;66;03m# General locators\u001b[39;00m\n\u001b[1;32m    699\u001b[0m \u001b[38;5;66;03m# Note that MyPy doesn't like these very much - the fix\u001b[39;00m\n\u001b[1;32m    700\u001b[0m \u001b[38;5;66;03m# will be to properly set input types\u001b[39;00m\n\u001b[1;32m    701\u001b[0m \u001b[38;5;28;01mif\u001b[39;00m \u001b[38;5;28mcallable\u001b[39m(index):\n\u001b[0;32m--> 702\u001b[0m     \u001b[38;5;28;01mreturn\u001b[39;00m \u001b[43mindex\u001b[49m\u001b[43m(\u001b[49m\u001b[38;5;28;43mself\u001b[39;49m\u001b[38;5;241;43m.\u001b[39;49m\u001b[43maxes\u001b[49m\u001b[43m[\u001b[49m\u001b[43maxis\u001b[49m\u001b[43m]\u001b[49m\u001b[43m)\u001b[49m\n\u001b[1;32m    704\u001b[0m \u001b[38;5;28;01mif\u001b[39;00m \u001b[38;5;28misinstance\u001b[39m(index, \u001b[38;5;28mfloat\u001b[39m):  \u001b[38;5;66;03m# type: ignore[unreachable]\u001b[39;00m\n\u001b[1;32m    705\u001b[0m     \u001b[38;5;28;01mraise\u001b[39;00m \u001b[38;5;167;01mTypeError\u001b[39;00m(\u001b[38;5;124mf\u001b[39m\u001b[38;5;124m\"\u001b[39m\u001b[38;5;124mIndex \u001b[39m\u001b[38;5;132;01m{\u001b[39;00mindex\u001b[38;5;132;01m}\u001b[39;00m\u001b[38;5;124m must be an integer, not float\u001b[39m\u001b[38;5;124m\"\u001b[39m)\n",
      "File \u001b[0;32m~/miniforge3/envs/coffea-env/lib/python3.9/site-packages/boost_histogram/tag.py:73\u001b[0m, in \u001b[0;36mloc.__call__\u001b[0;34m(self, axis)\u001b[0m\n\u001b[1;32m     72\u001b[0m \u001b[38;5;28;01mdef\u001b[39;00m \u001b[38;5;21m__call__\u001b[39m(\u001b[38;5;28mself\u001b[39m, axis: AxisLike) \u001b[38;5;241m-\u001b[39m\u001b[38;5;241m>\u001b[39m \u001b[38;5;28mint\u001b[39m:\n\u001b[0;32m---> 73\u001b[0m     \u001b[38;5;28;01mreturn\u001b[39;00m \u001b[43maxis\u001b[49m\u001b[38;5;241;43m.\u001b[39;49m\u001b[43mindex\u001b[49m\u001b[43m(\u001b[49m\u001b[38;5;28;43mself\u001b[39;49m\u001b[38;5;241;43m.\u001b[39;49m\u001b[43mvalue\u001b[49m\u001b[43m)\u001b[49m \u001b[38;5;241m+\u001b[39m \u001b[38;5;28mself\u001b[39m\u001b[38;5;241m.\u001b[39moffset\n",
      "File \u001b[0;32m~/miniforge3/envs/coffea-env/lib/python3.9/site-packages/boost_histogram/_internal/axis.py:669\u001b[0m, in \u001b[0;36mStrCategory.index\u001b[0;34m(self, value)\u001b[0m\n\u001b[1;32m    664\u001b[0m \u001b[38;5;250m\u001b[39m\u001b[38;5;124;03m\"\"\"\u001b[39;00m\n\u001b[1;32m    665\u001b[0m \u001b[38;5;124;03mReturn the fractional index(es) given a value (or values) on the axis.\u001b[39;00m\n\u001b[1;32m    666\u001b[0m \u001b[38;5;124;03m\"\"\"\u001b[39;00m\n\u001b[1;32m    668\u001b[0m \u001b[38;5;28;01mif\u001b[39;00m _isstr(value):\n\u001b[0;32m--> 669\u001b[0m     \u001b[38;5;28;01mreturn\u001b[39;00m \u001b[38;5;28;43mself\u001b[39;49m\u001b[38;5;241;43m.\u001b[39;49m\u001b[43m_ax\u001b[49m\u001b[38;5;241;43m.\u001b[39;49m\u001b[43mindex\u001b[49m\u001b[43m(\u001b[49m\u001b[43mvalue\u001b[49m\u001b[43m)\u001b[49m  \u001b[38;5;66;03m# type: ignore[no-any-return]\u001b[39;00m\n\u001b[1;32m    671\u001b[0m msg \u001b[38;5;241m=\u001b[39m \u001b[38;5;124mf\u001b[39m\u001b[38;5;124m\"\u001b[39m\u001b[38;5;124mindex(\u001b[39m\u001b[38;5;132;01m{\u001b[39;00mvalue\u001b[38;5;132;01m}\u001b[39;00m\u001b[38;5;124m) must be a string or iterable of strings for a StrCategory axis\u001b[39m\u001b[38;5;124m\"\u001b[39m\n\u001b[1;32m    672\u001b[0m \u001b[38;5;28;01mraise\u001b[39;00m \u001b[38;5;167;01mTypeError\u001b[39;00m(msg)\n",
      "\u001b[0;31mKeyError\u001b[0m: \"'ggF_pt200to300' not in axis\""
     ]
    }
   ],
   "source": [
    "hists_templates[\"pass\"][{\"samples\": \"TTbar\", \"categories\": \"ggF_pt200to300\", \"systematics\": \"nominal\"}].values()"
   ]
  },
  {
   "cell_type": "code",
   "execution_count": 118,
   "id": "7c0d0006",
   "metadata": {},
   "outputs": [],
   "source": [
    "with open(f\"templates/zzz/hists_templates_Run2.pkl\", \"rb\") as f:\n",
    "    hists_templates = pkl.load(f)    "
   ]
  },
  {
   "cell_type": "code",
   "execution_count": null,
   "id": "c4a76843",
   "metadata": {},
   "outputs": [],
   "source": []
  },
  {
   "cell_type": "code",
   "execution_count": null,
   "id": "be115dbe",
   "metadata": {},
   "outputs": [],
   "source": []
  },
  {
   "cell_type": "code",
   "execution_count": 75,
   "id": "f394a36f",
   "metadata": {},
   "outputs": [],
   "source": [
    "    LUMI = {}\n",
    "    for year in years:\n",
    "        LUMI[year] = 0.0\n",
    "        for lep_ch in channels:\n",
    "            with open(\"../fileset/luminosity.json\") as f:\n",
    "                LUMI[year] += json.load(f)[lep_ch][year]\n",
    "        LUMI[year] /= len(channels)\n",
    "\n",
    "    # get the LUMI covered in the templates\n",
    "    full_lumi = 0\n",
    "    for year_ in years:\n",
    "        full_lumi += LUMI[year_]\n",
    "\n",
    "    ptbins = hists_templates[\"pass\"].axes[2].edges\n",
    "    npt = len(ptbins) - 1\n",
    "\n",
    "    massbins = hists_templates[\"pass\"].axes[3].edges\n",
    "    mass = rl.Observable(\"mass_observable\", massbins)\n",
    "\n",
    "    # here we derive these all at once with 2D array\n",
    "    ptpts, masspts = np.meshgrid(ptbins[:-1] + 0.3 * np.diff(ptbins), massbins[:-1] + 0.5 * np.diff(massbins), indexing=\"ij\")\n",
    "\n",
    "#     rhopts = 2 * np.log(masspts / ptpts)\n",
    "    pt_scaled = (ptpts - ptbins[0]) / (ptbins[-1] - ptbins[0])\n",
    "    # define mass_scaled in a similar way\n",
    "    \n",
    "    \n",
    "#     rho_scaled = (rhopts - (-6)) / ((-2.1) - (-6))  # TODO: understand why\n",
    "\n",
    "#     validbins = (rho_scaled >= 0) & (rho_scaled <= 1)\n",
    "#     rho_scaled[~validbins] = 1  # we will mask these out later"
   ]
  },
  {
   "cell_type": "code",
   "execution_count": 86,
   "id": "d650e27b",
   "metadata": {},
   "outputs": [
    {
     "data": {
      "text/plain": [
       "['ggF_pt200to300', 'ggF_pt300toinf', 'VBF_pt200toinf']"
      ]
     },
     "execution_count": 86,
     "metadata": {},
     "output_type": "execute_result"
    }
   ],
   "source": [
    "list(hists_templates[\"pass\"].axes[\"categories\"])"
   ]
  },
  {
   "cell_type": "code",
   "execution_count": 98,
   "id": "a8f1b141",
   "metadata": {},
   "outputs": [
    {
     "data": {
      "text/plain": [
       "['ggF_pt200to300', 'ggF_pt300toinf', 'VBF_pt200toinf']"
      ]
     },
     "execution_count": 98,
     "metadata": {},
     "output_type": "execute_result"
    }
   ],
   "source": [
    "list(hists_templates[\"pass\"].axes[\"categories\"])"
   ]
  },
  {
   "cell_type": "code",
   "execution_count": 89,
   "id": "6e091fa8",
   "metadata": {},
   "outputs": [
    {
     "data": {
      "text/plain": [
       "'mass_observable'"
      ]
     },
     "execution_count": 89,
     "metadata": {},
     "output_type": "execute_result"
    }
   ],
   "source": [
    "hists_templates[\"pass\"].axes[\"mass_observable\"].name"
   ]
  },
  {
   "cell_type": "code",
   "execution_count": 67,
   "id": "afa703fb",
   "metadata": {},
   "outputs": [],
   "source": [
    "categ = {\n",
    "    \"VBF_pt200toinf\": (),\n",
    "    \"ggF_pt200to300\": (200, 300),\n",
    "    \"ggF_pt300toinf\": (300, \"inf\"),\n",
    "}"
   ]
  },
  {
   "cell_type": "code",
   "execution_count": 70,
   "id": "f9c66c5a",
   "metadata": {},
   "outputs": [
    {
     "name": "stdout",
     "output_type": "stream",
     "text": [
      "1 bin VBF_pt200toinf\n",
      "ggF_pt300toinf\n"
     ]
    }
   ],
   "source": [
    "for cat in categ:\n",
    "    if len(categ[cat]) == 0:\n",
    "        print(cat, \"1 bin\")\n",
    "        npt = 1\n",
    "        \n",
    "    else:\n",
    "         \n",
    "    \n",
    "    if \"inf\" in categ[cat]:\n",
    "        print(cat)"
   ]
  },
  {
   "cell_type": "code",
   "execution_count": 66,
   "id": "40a5b1b7",
   "metadata": {},
   "outputs": [
    {
     "data": {
      "text/plain": [
       "0"
      ]
     },
     "execution_count": 66,
     "metadata": {},
     "output_type": "execute_result"
    }
   ],
   "source": [
    "len(categ[\"VBF_pt200toinf\"])"
   ]
  },
  {
   "cell_type": "code",
   "execution_count": null,
   "id": "88bb64a4",
   "metadata": {},
   "outputs": [],
   "source": []
  },
  {
   "cell_type": "code",
   "execution_count": null,
   "id": "6ec81591",
   "metadata": {},
   "outputs": [],
   "source": []
  },
  {
   "cell_type": "code",
   "execution_count": null,
   "id": "8b7e4750",
   "metadata": {},
   "outputs": [],
   "source": [
    "# for vbf\n",
    "# "
   ]
  },
  {
   "cell_type": "code",
   "execution_count": null,
   "id": "e8db1f5d",
   "metadata": {},
   "outputs": [],
   "source": []
  },
  {
   "cell_type": "code",
   "execution_count": null,
   "id": "1a67b613",
   "metadata": {},
   "outputs": [],
   "source": []
  },
  {
   "cell_type": "code",
   "execution_count": 60,
   "id": "fe6ecd75",
   "metadata": {},
   "outputs": [
    {
     "data": {
      "text/plain": [
       "array([[0.1       , 0.1       , 0.1       , 0.1       , 0.1       ,\n",
       "        0.1       , 0.1       , 0.1       , 0.1       ],\n",
       "       [0.43333333, 0.43333333, 0.43333333, 0.43333333, 0.43333333,\n",
       "        0.43333333, 0.43333333, 0.43333333, 0.43333333],\n",
       "       [0.76666667, 0.76666667, 0.76666667, 0.76666667, 0.76666667,\n",
       "        0.76666667, 0.76666667, 0.76666667, 0.76666667]])"
      ]
     },
     "execution_count": 60,
     "metadata": {},
     "output_type": "execute_result"
    }
   ],
   "source": [
    "pt_scaled"
   ]
  },
  {
   "cell_type": "code",
   "execution_count": 45,
   "id": "ab4a1bbe",
   "metadata": {},
   "outputs": [
    {
     "data": {
      "text/plain": [
       "array([ 200.,  300.,  450., 2000.])"
      ]
     },
     "execution_count": 45,
     "metadata": {},
     "output_type": "execute_result"
    }
   ],
   "source": [
    "ptbins    # "
   ]
  },
  {
   "cell_type": "code",
   "execution_count": 46,
   "id": "02835088",
   "metadata": {},
   "outputs": [
    {
     "data": {
      "text/plain": [
       "3"
      ]
     },
     "execution_count": 46,
     "metadata": {},
     "output_type": "execute_result"
    }
   ],
   "source": [
    "npt"
   ]
  },
  {
   "cell_type": "code",
   "execution_count": 47,
   "id": "c66bbe38",
   "metadata": {},
   "outputs": [
    {
     "data": {
      "text/plain": [
       "array([[230., 230., 230., 230., 230., 230., 230., 230., 230.],\n",
       "       [345., 345., 345., 345., 345., 345., 345., 345., 345.],\n",
       "       [915., 915., 915., 915., 915., 915., 915., 915., 915.]])"
      ]
     },
     "execution_count": 47,
     "metadata": {},
     "output_type": "execute_result"
    }
   ],
   "source": [
    "ptpts   # choice to be just 0.3 above"
   ]
  },
  {
   "cell_type": "code",
   "execution_count": 48,
   "id": "d5f95383",
   "metadata": {},
   "outputs": [
    {
     "data": {
      "text/plain": [
       "array([[ 60.,  80., 100., 120., 140., 160., 180., 200., 220.],\n",
       "       [ 60.,  80., 100., 120., 140., 160., 180., 200., 220.],\n",
       "       [ 60.,  80., 100., 120., 140., 160., 180., 200., 220.]])"
      ]
     },
     "execution_count": 48,
     "metadata": {},
     "output_type": "execute_result"
    }
   ],
   "source": [
    "masspts"
   ]
  },
  {
   "cell_type": "code",
   "execution_count": 49,
   "id": "62b953a9",
   "metadata": {},
   "outputs": [
    {
     "data": {
      "text/plain": [
       "array([ 50.,  70.,  90., 110., 130., 150., 170., 190., 210., 230.])"
      ]
     },
     "execution_count": 49,
     "metadata": {},
     "output_type": "execute_result"
    }
   ],
   "source": [
    "massbins"
   ]
  },
  {
   "cell_type": "code",
   "execution_count": 50,
   "id": "813603a1",
   "metadata": {},
   "outputs": [
    {
     "data": {
      "text/plain": [
       "array([[-2.68746949, -2.11210535, -1.66581825, -1.30117513, -0.99287377,\n",
       "        -0.72581099, -0.49024492, -0.27952388, -0.08890353],\n",
       "       [-3.49839971, -2.92303556, -2.47674846, -2.11210535, -1.80380399,\n",
       "        -1.5367412 , -1.30117513, -1.0904541 , -0.89983374],\n",
       "       [-5.44915901, -4.87379486, -4.42750776, -4.06286464, -3.75456329,\n",
       "        -3.4875005 , -3.25193443, -3.0412134 , -2.85059304]])"
      ]
     },
     "execution_count": 50,
     "metadata": {},
     "output_type": "execute_result"
    }
   ],
   "source": [
    "rhopts"
   ]
  },
  {
   "cell_type": "code",
   "execution_count": 52,
   "id": "1ac2a5eb",
   "metadata": {},
   "outputs": [
    {
     "data": {
      "text/plain": [
       "array([[0.01666667, 0.01666667, 0.01666667, 0.01666667, 0.01666667,\n",
       "        0.01666667, 0.01666667, 0.01666667, 0.01666667],\n",
       "       [0.08055556, 0.08055556, 0.08055556, 0.08055556, 0.08055556,\n",
       "        0.08055556, 0.08055556, 0.08055556, 0.08055556],\n",
       "       [0.39722222, 0.39722222, 0.39722222, 0.39722222, 0.39722222,\n",
       "        0.39722222, 0.39722222, 0.39722222, 0.39722222]])"
      ]
     },
     "execution_count": 52,
     "metadata": {},
     "output_type": "execute_result"
    }
   ],
   "source": []
  },
  {
   "cell_type": "code",
   "execution_count": null,
   "id": "c2773f1a",
   "metadata": {},
   "outputs": [],
   "source": []
  },
  {
   "cell_type": "code",
   "execution_count": null,
   "id": "bd04aefc",
   "metadata": {},
   "outputs": [],
   "source": []
  },
  {
   "cell_type": "code",
   "execution_count": 33,
   "id": "7fde619a",
   "metadata": {},
   "outputs": [
    {
     "data": {
      "text/plain": [
       "'ggF-pt200to300'"
      ]
     },
     "execution_count": 33,
     "metadata": {},
     "output_type": "execute_result"
    }
   ],
   "source": [
    "hists_templates[\"pass\"].axes[2][0].replace(\"_\", \"-\")"
   ]
  },
  {
   "cell_type": "code",
   "execution_count": null,
   "id": "411561e9",
   "metadata": {},
   "outputs": [],
   "source": []
  },
  {
   "cell_type": "code",
   "execution_count": null,
   "id": "e163381a",
   "metadata": {},
   "outputs": [],
   "source": []
  },
  {
   "cell_type": "code",
   "execution_count": null,
   "id": "c03976ac",
   "metadata": {},
   "outputs": [],
   "source": []
  },
  {
   "cell_type": "code",
   "execution_count": 12,
   "id": "9f8e0966",
   "metadata": {},
   "outputs": [],
   "source": [
    "    LUMI = {}\n",
    "    for year in years:\n",
    "        LUMI[year] = 0.0\n",
    "        for lep_ch in channels:\n",
    "            with open(\"../fileset/luminosity.json\") as f:\n",
    "                LUMI[year] += json.load(f)[lep_ch][year]\n",
    "        LUMI[year] /= len(channels)\n",
    "\n",
    "    # get the LUMI covered in the templates\n",
    "    full_lumi = 0\n",
    "    for year_ in years:\n",
    "        full_lumi += LUMI[year_]\n",
    "\n",
    "    ptbins = hists_templates[\"pass\"].axes[2].edges\n",
    "    npt = len(ptbins) - 1\n",
    "\n",
    "    massbins = hists_templates[\"pass\"].axes[3].edges\n",
    "    mass = rl.Observable(\"mass_observable\", massbins)\n",
    "\n",
    "    # here we derive these all at once with 2D array\n",
    "    ptpts, masspts = np.meshgrid(ptbins[:-1] + 0.3 * np.diff(ptbins), massbins[:-1] + 0.5 * np.diff(massbins), indexing=\"ij\")\n",
    "\n",
    "    rhopts = 2 * np.log(masspts / ptpts)\n",
    "    pt_scaled = (ptpts - ptbins[0]) / (ptbins[-1] - ptbins[0])\n",
    "    rho_scaled = (rhopts - (-6)) / ((-2.1) - (-6))  # TODO: understand why\n",
    "\n",
    "    validbins = (rho_scaled >= 0) & (rho_scaled <= 1)\n",
    "    rho_scaled[~validbins] = 1  # we will mask these out later\n"
   ]
  },
  {
   "cell_type": "code",
   "execution_count": 13,
   "id": "a7971f39",
   "metadata": {},
   "outputs": [
    {
     "data": {
      "text/plain": [
       "array([ 200.,  300.,  450., 2000.])"
      ]
     },
     "execution_count": 13,
     "metadata": {},
     "output_type": "execute_result"
    }
   ],
   "source": [
    "ptbins"
   ]
  },
  {
   "cell_type": "code",
   "execution_count": 14,
   "id": "1a043dbd",
   "metadata": {},
   "outputs": [
    {
     "data": {
      "text/plain": [
       "3"
      ]
     },
     "execution_count": 14,
     "metadata": {},
     "output_type": "execute_result"
    }
   ],
   "source": [
    "npt"
   ]
  },
  {
   "cell_type": "code",
   "execution_count": 15,
   "id": "30b41188",
   "metadata": {},
   "outputs": [
    {
     "data": {
      "text/plain": [
       "array([[230., 230., 230., 230., 230., 230., 230., 230., 230.],\n",
       "       [345., 345., 345., 345., 345., 345., 345., 345., 345.],\n",
       "       [915., 915., 915., 915., 915., 915., 915., 915., 915.]])"
      ]
     },
     "execution_count": 15,
     "metadata": {},
     "output_type": "execute_result"
    }
   ],
   "source": [
    "ptpts"
   ]
  },
  {
   "cell_type": "code",
   "execution_count": 16,
   "id": "a5016fe1",
   "metadata": {},
   "outputs": [
    {
     "data": {
      "text/plain": [
       "array([[ 60.,  80., 100., 120., 140., 160., 180., 200., 220.],\n",
       "       [ 60.,  80., 100., 120., 140., 160., 180., 200., 220.],\n",
       "       [ 60.,  80., 100., 120., 140., 160., 180., 200., 220.]])"
      ]
     },
     "execution_count": 16,
     "metadata": {},
     "output_type": "execute_result"
    }
   ],
   "source": [
    "masspts"
   ]
  },
  {
   "cell_type": "code",
   "execution_count": 17,
   "id": "65a4e911",
   "metadata": {},
   "outputs": [
    {
     "data": {
      "text/plain": [
       "array([[0.01666667, 0.01666667, 0.01666667, 0.01666667, 0.01666667,\n",
       "        0.01666667, 0.01666667, 0.01666667, 0.01666667],\n",
       "       [0.08055556, 0.08055556, 0.08055556, 0.08055556, 0.08055556,\n",
       "        0.08055556, 0.08055556, 0.08055556, 0.08055556],\n",
       "       [0.39722222, 0.39722222, 0.39722222, 0.39722222, 0.39722222,\n",
       "        0.39722222, 0.39722222, 0.39722222, 0.39722222]])"
      ]
     },
     "execution_count": 17,
     "metadata": {},
     "output_type": "execute_result"
    }
   ],
   "source": [
    "pt_scaled"
   ]
  },
  {
   "cell_type": "code",
   "execution_count": null,
   "id": "e82f7599",
   "metadata": {},
   "outputs": [],
   "source": []
  }
 ],
 "metadata": {
  "kernelspec": {
   "display_name": "coffea-env",
   "language": "python",
   "name": "coffea-env"
  },
  "language_info": {
   "codemirror_mode": {
    "name": "ipython",
    "version": 3
   },
   "file_extension": ".py",
   "mimetype": "text/x-python",
   "name": "python",
   "nbconvert_exporter": "python",
   "pygments_lexer": "ipython3",
   "version": "3.9.16"
  }
 },
 "nbformat": 4,
 "nbformat_minor": 5
}
